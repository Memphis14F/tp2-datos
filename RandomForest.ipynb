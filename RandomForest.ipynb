{
 "cells": [
  {
   "cell_type": "code",
   "execution_count": 2,
   "metadata": {},
   "outputs": [],
   "source": [
    "import pandas as pd\n",
    "import numpy as np\n",
    "from sklearn import linear_model\n",
    "from sklearn import model_selection\n",
    "from sklearn import metrics\n",
    "from sklearn.model_selection import train_test_split\n",
    "from sklearn.decomposition import PCA\n",
    "from sklearn.metrics import accuracy_score\n",
    "from sklearn.svm import LinearSVC\n",
    "from sklearn.feature_selection import SelectFromModel\n",
    "from sklearn.ensemble import RandomForestClassifier\n",
    "from sklearn import preprocessing\n",
    "from sklearn.pipeline import make_pipeline"
   ]
  },
  {
   "cell_type": "code",
   "execution_count": 3,
   "metadata": {},
   "outputs": [
    {
     "data": {
      "text/html": [
       "<div>\n",
       "<style scoped>\n",
       "    .dataframe tbody tr th:only-of-type {\n",
       "        vertical-align: middle;\n",
       "    }\n",
       "\n",
       "    .dataframe tbody tr th {\n",
       "        vertical-align: top;\n",
       "    }\n",
       "\n",
       "    .dataframe thead th {\n",
       "        text-align: right;\n",
       "    }\n",
       "</style>\n",
       "<table border=\"1\" class=\"dataframe\">\n",
       "  <thead>\n",
       "    <tr style=\"text-align: right;\">\n",
       "      <th></th>\n",
       "      <th>browser_version</th>\n",
       "      <th>color</th>\n",
       "      <th>compras_prod</th>\n",
       "      <th>condition</th>\n",
       "      <th>country</th>\n",
       "      <th>device_type</th>\n",
       "      <th>model</th>\n",
       "      <th>new_vs_returning</th>\n",
       "      <th>operating_system_version</th>\n",
       "      <th>otros</th>\n",
       "      <th>...</th>\n",
       "      <th>visitas_sitio</th>\n",
       "      <th>vistas_prod</th>\n",
       "      <th>label</th>\n",
       "      <th>person_int</th>\n",
       "      <th>dia_view_prod</th>\n",
       "      <th>mes_view_prod</th>\n",
       "      <th>dia_sem_view_prod</th>\n",
       "      <th>dia_visit_user</th>\n",
       "      <th>mes_visit_user</th>\n",
       "      <th>dia_sem_visit_user</th>\n",
       "    </tr>\n",
       "  </thead>\n",
       "  <tbody>\n",
       "    <tr>\n",
       "      <th>0</th>\n",
       "      <td>99</td>\n",
       "      <td>21</td>\n",
       "      <td>1</td>\n",
       "      <td>4</td>\n",
       "      <td>5</td>\n",
       "      <td>2</td>\n",
       "      <td>172</td>\n",
       "      <td>1</td>\n",
       "      <td>19</td>\n",
       "      <td>0</td>\n",
       "      <td>...</td>\n",
       "      <td>1</td>\n",
       "      <td>0</td>\n",
       "      <td>0</td>\n",
       "      <td>11274</td>\n",
       "      <td>14</td>\n",
       "      <td>5</td>\n",
       "      <td>0</td>\n",
       "      <td>14</td>\n",
       "      <td>5</td>\n",
       "      <td>0</td>\n",
       "    </tr>\n",
       "    <tr>\n",
       "      <th>1</th>\n",
       "      <td>99</td>\n",
       "      <td>21</td>\n",
       "      <td>1</td>\n",
       "      <td>4</td>\n",
       "      <td>5</td>\n",
       "      <td>2</td>\n",
       "      <td>172</td>\n",
       "      <td>2</td>\n",
       "      <td>19</td>\n",
       "      <td>0</td>\n",
       "      <td>...</td>\n",
       "      <td>1</td>\n",
       "      <td>0</td>\n",
       "      <td>0</td>\n",
       "      <td>11274</td>\n",
       "      <td>14</td>\n",
       "      <td>5</td>\n",
       "      <td>0</td>\n",
       "      <td>16</td>\n",
       "      <td>5</td>\n",
       "      <td>2</td>\n",
       "    </tr>\n",
       "    <tr>\n",
       "      <th>2</th>\n",
       "      <td>99</td>\n",
       "      <td>21</td>\n",
       "      <td>1</td>\n",
       "      <td>4</td>\n",
       "      <td>5</td>\n",
       "      <td>2</td>\n",
       "      <td>172</td>\n",
       "      <td>2</td>\n",
       "      <td>19</td>\n",
       "      <td>0</td>\n",
       "      <td>...</td>\n",
       "      <td>1</td>\n",
       "      <td>0</td>\n",
       "      <td>0</td>\n",
       "      <td>11274</td>\n",
       "      <td>14</td>\n",
       "      <td>5</td>\n",
       "      <td>0</td>\n",
       "      <td>18</td>\n",
       "      <td>5</td>\n",
       "      <td>4</td>\n",
       "    </tr>\n",
       "    <tr>\n",
       "      <th>3</th>\n",
       "      <td>99</td>\n",
       "      <td>21</td>\n",
       "      <td>1</td>\n",
       "      <td>4</td>\n",
       "      <td>5</td>\n",
       "      <td>2</td>\n",
       "      <td>172</td>\n",
       "      <td>2</td>\n",
       "      <td>19</td>\n",
       "      <td>0</td>\n",
       "      <td>...</td>\n",
       "      <td>1</td>\n",
       "      <td>0</td>\n",
       "      <td>0</td>\n",
       "      <td>11274</td>\n",
       "      <td>14</td>\n",
       "      <td>5</td>\n",
       "      <td>0</td>\n",
       "      <td>18</td>\n",
       "      <td>5</td>\n",
       "      <td>4</td>\n",
       "    </tr>\n",
       "    <tr>\n",
       "      <th>4</th>\n",
       "      <td>99</td>\n",
       "      <td>21</td>\n",
       "      <td>1</td>\n",
       "      <td>4</td>\n",
       "      <td>5</td>\n",
       "      <td>2</td>\n",
       "      <td>172</td>\n",
       "      <td>2</td>\n",
       "      <td>19</td>\n",
       "      <td>0</td>\n",
       "      <td>...</td>\n",
       "      <td>1</td>\n",
       "      <td>0</td>\n",
       "      <td>0</td>\n",
       "      <td>11274</td>\n",
       "      <td>14</td>\n",
       "      <td>5</td>\n",
       "      <td>0</td>\n",
       "      <td>22</td>\n",
       "      <td>5</td>\n",
       "      <td>1</td>\n",
       "    </tr>\n",
       "  </tbody>\n",
       "</table>\n",
       "<p>5 rows × 24 columns</p>\n",
       "</div>"
      ],
      "text/plain": [
       "   browser_version  color  compras_prod  condition  country  device_type  \\\n",
       "0               99     21             1          4        5            2   \n",
       "1               99     21             1          4        5            2   \n",
       "2               99     21             1          4        5            2   \n",
       "3               99     21             1          4        5            2   \n",
       "4               99     21             1          4        5            2   \n",
       "\n",
       "   model  new_vs_returning  operating_system_version  otros  \\\n",
       "0    172                 1                        19      0   \n",
       "1    172                 2                        19      0   \n",
       "2    172                 2                        19      0   \n",
       "3    172                 2                        19      0   \n",
       "4    172                 2                        19      0   \n",
       "\n",
       "          ...         visitas_sitio  vistas_prod  label  person_int  \\\n",
       "0         ...                     1            0      0       11274   \n",
       "1         ...                     1            0      0       11274   \n",
       "2         ...                     1            0      0       11274   \n",
       "3         ...                     1            0      0       11274   \n",
       "4         ...                     1            0      0       11274   \n",
       "\n",
       "   dia_view_prod  mes_view_prod  dia_sem_view_prod  dia_visit_user  \\\n",
       "0             14              5                  0              14   \n",
       "1             14              5                  0              16   \n",
       "2             14              5                  0              18   \n",
       "3             14              5                  0              18   \n",
       "4             14              5                  0              22   \n",
       "\n",
       "   mes_visit_user  dia_sem_visit_user  \n",
       "0               5                   0  \n",
       "1               5                   2  \n",
       "2               5                   4  \n",
       "3               5                   4  \n",
       "4               5                   1  \n",
       "\n",
       "[5 rows x 24 columns]"
      ]
     },
     "execution_count": 3,
     "metadata": {},
     "output_type": "execute_result"
    }
   ],
   "source": [
    "training_set = pd.read_csv('data/set_entrenamiento_9.csv')\n",
    "training_set.head()"
   ]
  },
  {
   "cell_type": "code",
   "execution_count": 4,
   "metadata": {},
   "outputs": [
    {
     "data": {
      "text/plain": [
       "Index(['browser_version', 'color', 'compras_prod', 'condition', 'country',\n",
       "       'device_type', 'model', 'new_vs_returning', 'operating_system_version',\n",
       "       'otros', 'person', 'region', 'screen_resolution', 'storage',\n",
       "       'visitas_sitio', 'vistas_prod', 'label', 'person_int', 'dia_view_prod',\n",
       "       'mes_view_prod', 'dia_sem_view_prod', 'dia_visit_user',\n",
       "       'mes_visit_user', 'dia_sem_visit_user'],\n",
       "      dtype='object')"
      ]
     },
     "execution_count": 4,
     "metadata": {},
     "output_type": "execute_result"
    }
   ],
   "source": [
    "training_set.columns"
   ]
  },
  {
   "cell_type": "markdown",
   "metadata": {},
   "source": [
    "# Entrenamiento"
   ]
  },
  {
   "cell_type": "code",
   "execution_count": 4,
   "metadata": {},
   "outputs": [],
   "source": [
    "# dfix = training_set.loc[:,['model', 'condition', 'storage', 'color', 'new_vs_returning', 'region', 'country', 'device_type', 'screen_resolution', 'operating_system_version', 'browser_version', 'dia_view_prod', 'mes_view_prod', 'hora_view_prod', 'minuto_view_prod', 'dia_visit_user', 'mes_visit_user', 'hora_visit_user', 'minuto_visit_user']]"
   ]
  },
  {
   "cell_type": "code",
   "execution_count": 5,
   "metadata": {},
   "outputs": [],
   "source": [
    "# dfix = training_set.loc[:,['model', 'condition', 'storage', 'color', 'new_vs_returning', 'region', 'country', 'device_type', 'operating_system_version', 'dia_visit_user', 'mes_visit_user', 'hora_visit_user', 'minuto_visit_user']]"
   ]
  },
  {
   "cell_type": "code",
   "execution_count": 5,
   "metadata": {},
   "outputs": [],
   "source": [
    "dfix = training_set.loc[:,['model', 'condition', 'storage', 'color', 'compras_prod', 'vistas_prod', 'otros', 'new_vs_returning', 'region', 'country', 'device_type', 'screen_resolution', 'operating_system_version', 'browser_version', 'visitas_sitio', 'dia_view_prod', 'mes_view_prod', 'dia_sem_view_prod', 'dia_visit_user', 'mes_visit_user', 'dia_sem_visit_user']]"
   ]
  },
  {
   "cell_type": "code",
   "execution_count": 6,
   "metadata": {},
   "outputs": [],
   "source": [
    "# features a entrenar\n",
    "X = np.array(dfix)\n",
    "# feature a predecir\n",
    "y = np.array(training_set['label'])"
   ]
  },
  {
   "cell_type": "code",
   "execution_count": 7,
   "metadata": {},
   "outputs": [],
   "source": [
    "del training_set\n",
    "del dfix"
   ]
  },
  {
   "cell_type": "code",
   "execution_count": 8,
   "metadata": {},
   "outputs": [],
   "source": [
    "X_train, X_test, y_train, y_test = train_test_split(X, y, test_size=0.25, random_state=7506)"
   ]
  },
  {
   "cell_type": "code",
   "execution_count": 9,
   "metadata": {},
   "outputs": [
    {
     "name": "stdout",
     "output_type": "stream",
     "text": [
      "207504\n",
      "163239\n"
     ]
    }
   ],
   "source": [
    "print(np.count_nonzero(y_train == 1))\n",
    "print(np.count_nonzero(y_train == 0))"
   ]
  },
  {
   "cell_type": "code",
   "execution_count": 10,
   "metadata": {},
   "outputs": [],
   "source": [
    "# clf = make_pipeline(\n",
    "#                     preprocessing.QuantileTransformer(), \n",
    "#                     tree.DecisionTreeClassifier()\n",
    "#                    )\n",
    "\n",
    "clf = RandomForestClassifier()"
   ]
  },
  {
   "cell_type": "code",
   "execution_count": 11,
   "metadata": {},
   "outputs": [
    {
     "data": {
      "text/plain": [
       "RandomForestClassifier(bootstrap=True, class_weight=None, criterion='gini',\n",
       "            max_depth=None, max_features='auto', max_leaf_nodes=None,\n",
       "            min_impurity_decrease=0.0, min_impurity_split=None,\n",
       "            min_samples_leaf=1, min_samples_split=2,\n",
       "            min_weight_fraction_leaf=0.0, n_estimators=10, n_jobs=1,\n",
       "            oob_score=False, random_state=None, verbose=0,\n",
       "            warm_start=False)"
      ]
     },
     "execution_count": 11,
     "metadata": {},
     "output_type": "execute_result"
    }
   ],
   "source": [
    "clf.fit(X_train, y_train)"
   ]
  },
  {
   "cell_type": "code",
   "execution_count": 12,
   "metadata": {},
   "outputs": [
    {
     "name": "stdout",
     "output_type": "stream",
     "text": [
      "69139\n",
      "54443\n"
     ]
    }
   ],
   "source": [
    "print(np.count_nonzero(y_test == 1))\n",
    "print(np.count_nonzero(y_test == 0))"
   ]
  },
  {
   "cell_type": "markdown",
   "metadata": {},
   "source": [
    "# Prediccion"
   ]
  },
  {
   "cell_type": "code",
   "execution_count": 13,
   "metadata": {},
   "outputs": [],
   "source": [
    "pred = clf.predict(X_test)"
   ]
  },
  {
   "cell_type": "code",
   "execution_count": 14,
   "metadata": {},
   "outputs": [
    {
     "name": "stdout",
     "output_type": "stream",
     "text": [
      "68151\n",
      "55431\n"
     ]
    }
   ],
   "source": [
    "print(np.count_nonzero(pred == 1))\n",
    "print(np.count_nonzero(pred == 0))"
   ]
  },
  {
   "cell_type": "code",
   "execution_count": 15,
   "metadata": {},
   "outputs": [
    {
     "name": "stdout",
     "output_type": "stream",
     "text": [
      "0.9806120632454565\n"
     ]
    }
   ],
   "source": [
    "print (accuracy_score(y_test, pred))"
   ]
  },
  {
   "cell_type": "code",
   "execution_count": 16,
   "metadata": {},
   "outputs": [
    {
     "data": {
      "text/plain": [
       "(123582,)"
      ]
     },
     "execution_count": 16,
     "metadata": {},
     "output_type": "execute_result"
    }
   ],
   "source": [
    "pred.shape"
   ]
  },
  {
   "cell_type": "code",
   "execution_count": 17,
   "metadata": {
    "scrolled": true
   },
   "outputs": [
    {
     "data": {
      "text/html": [
       "<div>\n",
       "<style scoped>\n",
       "    .dataframe tbody tr th:only-of-type {\n",
       "        vertical-align: middle;\n",
       "    }\n",
       "\n",
       "    .dataframe tbody tr th {\n",
       "        vertical-align: top;\n",
       "    }\n",
       "\n",
       "    .dataframe thead th {\n",
       "        text-align: right;\n",
       "    }\n",
       "</style>\n",
       "<table border=\"1\" class=\"dataframe\">\n",
       "  <thead>\n",
       "    <tr style=\"text-align: right;\">\n",
       "      <th></th>\n",
       "      <th>person</th>\n",
       "      <th>model</th>\n",
       "      <th>condition</th>\n",
       "      <th>storage</th>\n",
       "      <th>color</th>\n",
       "      <th>compras_prod</th>\n",
       "      <th>vistas_prod</th>\n",
       "      <th>otros</th>\n",
       "      <th>new_vs_returning</th>\n",
       "      <th>region</th>\n",
       "      <th>...</th>\n",
       "      <th>operating_system_version</th>\n",
       "      <th>browser_version</th>\n",
       "      <th>visitas_sitio</th>\n",
       "      <th>person_int</th>\n",
       "      <th>dia_view_prod</th>\n",
       "      <th>mes_view_prod</th>\n",
       "      <th>dia_sem_view_prod</th>\n",
       "      <th>dia_visit_user</th>\n",
       "      <th>mes_visit_user</th>\n",
       "      <th>dia_sem_visit_user</th>\n",
       "    </tr>\n",
       "  </thead>\n",
       "  <tbody>\n",
       "    <tr>\n",
       "      <th>0</th>\n",
       "      <td>4886f805</td>\n",
       "      <td>97</td>\n",
       "      <td>3</td>\n",
       "      <td>4</td>\n",
       "      <td>28</td>\n",
       "      <td>1</td>\n",
       "      <td>0</td>\n",
       "      <td>0</td>\n",
       "      <td>1</td>\n",
       "      <td>78</td>\n",
       "      <td>...</td>\n",
       "      <td>24</td>\n",
       "      <td>110</td>\n",
       "      <td>1</td>\n",
       "      <td>5476</td>\n",
       "      <td>18</td>\n",
       "      <td>5</td>\n",
       "      <td>4</td>\n",
       "      <td>18</td>\n",
       "      <td>5</td>\n",
       "      <td>4</td>\n",
       "    </tr>\n",
       "    <tr>\n",
       "      <th>1</th>\n",
       "      <td>0297fc1e</td>\n",
       "      <td>180</td>\n",
       "      <td>1</td>\n",
       "      <td>4</td>\n",
       "      <td>34</td>\n",
       "      <td>1</td>\n",
       "      <td>0</td>\n",
       "      <td>0</td>\n",
       "      <td>2</td>\n",
       "      <td>78</td>\n",
       "      <td>...</td>\n",
       "      <td>22</td>\n",
       "      <td>111</td>\n",
       "      <td>1</td>\n",
       "      <td>189</td>\n",
       "      <td>22</td>\n",
       "      <td>5</td>\n",
       "      <td>1</td>\n",
       "      <td>2</td>\n",
       "      <td>5</td>\n",
       "      <td>2</td>\n",
       "    </tr>\n",
       "    <tr>\n",
       "      <th>2</th>\n",
       "      <td>0297fc1e</td>\n",
       "      <td>180</td>\n",
       "      <td>1</td>\n",
       "      <td>4</td>\n",
       "      <td>34</td>\n",
       "      <td>1</td>\n",
       "      <td>0</td>\n",
       "      <td>0</td>\n",
       "      <td>2</td>\n",
       "      <td>78</td>\n",
       "      <td>...</td>\n",
       "      <td>22</td>\n",
       "      <td>111</td>\n",
       "      <td>1</td>\n",
       "      <td>189</td>\n",
       "      <td>22</td>\n",
       "      <td>5</td>\n",
       "      <td>1</td>\n",
       "      <td>2</td>\n",
       "      <td>5</td>\n",
       "      <td>2</td>\n",
       "    </tr>\n",
       "    <tr>\n",
       "      <th>3</th>\n",
       "      <td>0297fc1e</td>\n",
       "      <td>180</td>\n",
       "      <td>1</td>\n",
       "      <td>4</td>\n",
       "      <td>34</td>\n",
       "      <td>1</td>\n",
       "      <td>0</td>\n",
       "      <td>0</td>\n",
       "      <td>2</td>\n",
       "      <td>78</td>\n",
       "      <td>...</td>\n",
       "      <td>22</td>\n",
       "      <td>111</td>\n",
       "      <td>1</td>\n",
       "      <td>189</td>\n",
       "      <td>22</td>\n",
       "      <td>5</td>\n",
       "      <td>1</td>\n",
       "      <td>3</td>\n",
       "      <td>5</td>\n",
       "      <td>3</td>\n",
       "    </tr>\n",
       "    <tr>\n",
       "      <th>4</th>\n",
       "      <td>0297fc1e</td>\n",
       "      <td>180</td>\n",
       "      <td>1</td>\n",
       "      <td>4</td>\n",
       "      <td>34</td>\n",
       "      <td>1</td>\n",
       "      <td>0</td>\n",
       "      <td>0</td>\n",
       "      <td>2</td>\n",
       "      <td>78</td>\n",
       "      <td>...</td>\n",
       "      <td>22</td>\n",
       "      <td>111</td>\n",
       "      <td>1</td>\n",
       "      <td>189</td>\n",
       "      <td>22</td>\n",
       "      <td>5</td>\n",
       "      <td>1</td>\n",
       "      <td>10</td>\n",
       "      <td>5</td>\n",
       "      <td>3</td>\n",
       "    </tr>\n",
       "  </tbody>\n",
       "</table>\n",
       "<p>5 rows × 23 columns</p>\n",
       "</div>"
      ],
      "text/plain": [
       "     person  model  condition  storage  color  compras_prod  vistas_prod  \\\n",
       "0  4886f805     97          3        4     28             1            0   \n",
       "1  0297fc1e    180          1        4     34             1            0   \n",
       "2  0297fc1e    180          1        4     34             1            0   \n",
       "3  0297fc1e    180          1        4     34             1            0   \n",
       "4  0297fc1e    180          1        4     34             1            0   \n",
       "\n",
       "   otros  new_vs_returning  region         ...          \\\n",
       "0      0                 1      78         ...           \n",
       "1      0                 2      78         ...           \n",
       "2      0                 2      78         ...           \n",
       "3      0                 2      78         ...           \n",
       "4      0                 2      78         ...           \n",
       "\n",
       "   operating_system_version  browser_version  visitas_sitio  person_int  \\\n",
       "0                        24              110              1        5476   \n",
       "1                        22              111              1         189   \n",
       "2                        22              111              1         189   \n",
       "3                        22              111              1         189   \n",
       "4                        22              111              1         189   \n",
       "\n",
       "   dia_view_prod  mes_view_prod  dia_sem_view_prod  dia_visit_user  \\\n",
       "0             18              5                  4              18   \n",
       "1             22              5                  1               2   \n",
       "2             22              5                  1               2   \n",
       "3             22              5                  1               3   \n",
       "4             22              5                  1              10   \n",
       "\n",
       "   mes_visit_user  dia_sem_visit_user  \n",
       "0               5                   4  \n",
       "1               5                   2  \n",
       "2               5                   2  \n",
       "3               5                   3  \n",
       "4               5                   3  \n",
       "\n",
       "[5 rows x 23 columns]"
      ]
     },
     "execution_count": 17,
     "metadata": {},
     "output_type": "execute_result"
    }
   ],
   "source": [
    "prediction_set = pd.read_csv('data/set_prediccion_7.csv')\n",
    "prediction_set.head()"
   ]
  },
  {
   "cell_type": "code",
   "execution_count": 18,
   "metadata": {},
   "outputs": [],
   "source": [
    "# dfix_prediction = prediction_set.loc[:,['model', 'condition', 'storage', 'color', 'new_vs_returning', 'region', 'country', 'device_type', 'screen_resolution', 'operating_system_version', 'browser_version', 'dia_view_prod', 'mes_view_prod', 'hora_view_prod', 'minuto_view_prod', 'dia_visit_user', 'mes_visit_user', 'hora_visit_user', 'minuto_visit_user']]\n",
    "# dfix_prediction = prediction_set.loc[:,['model', 'condition', 'storage', 'color', 'new_vs_returning', 'region', 'country', 'device_type', 'operating_system_version', 'dia_visit_user', 'mes_visit_user', 'hora_visit_user', 'minuto_visit_user']]\n",
    "dfix_prediction = prediction_set.loc[:,['model', 'condition', 'storage', 'color', 'compras_prod', 'vistas_prod', 'otros', 'new_vs_returning', 'region', 'country', 'device_type', 'screen_resolution', 'operating_system_version', 'browser_version', 'visitas_sitio', 'dia_view_prod', 'mes_view_prod', 'dia_sem_view_prod', 'dia_visit_user', 'mes_visit_user', 'dia_sem_visit_user']]\n",
    "X_full_data = np.array(dfix_prediction)"
   ]
  },
  {
   "cell_type": "code",
   "execution_count": 19,
   "metadata": {},
   "outputs": [],
   "source": [
    "del dfix_prediction\n",
    "del X\n",
    "del y\n",
    "del X_train \n",
    "del X_test \n",
    "del y_train \n",
    "del y_test"
   ]
  },
  {
   "cell_type": "code",
   "execution_count": 20,
   "metadata": {},
   "outputs": [
    {
     "data": {
      "text/html": [
       "<div>\n",
       "<style scoped>\n",
       "    .dataframe tbody tr th:only-of-type {\n",
       "        vertical-align: middle;\n",
       "    }\n",
       "\n",
       "    .dataframe tbody tr th {\n",
       "        vertical-align: top;\n",
       "    }\n",
       "\n",
       "    .dataframe thead th {\n",
       "        text-align: right;\n",
       "    }\n",
       "</style>\n",
       "<table border=\"1\" class=\"dataframe\">\n",
       "  <thead>\n",
       "    <tr style=\"text-align: right;\">\n",
       "      <th></th>\n",
       "      <th>person</th>\n",
       "      <th>model</th>\n",
       "      <th>condition</th>\n",
       "      <th>storage</th>\n",
       "      <th>color</th>\n",
       "      <th>compras_prod</th>\n",
       "      <th>vistas_prod</th>\n",
       "      <th>otros</th>\n",
       "      <th>new_vs_returning</th>\n",
       "      <th>region</th>\n",
       "      <th>...</th>\n",
       "      <th>browser_version</th>\n",
       "      <th>visitas_sitio</th>\n",
       "      <th>person_int</th>\n",
       "      <th>dia_view_prod</th>\n",
       "      <th>mes_view_prod</th>\n",
       "      <th>dia_sem_view_prod</th>\n",
       "      <th>dia_visit_user</th>\n",
       "      <th>mes_visit_user</th>\n",
       "      <th>dia_sem_visit_user</th>\n",
       "      <th>label</th>\n",
       "    </tr>\n",
       "  </thead>\n",
       "  <tbody>\n",
       "    <tr>\n",
       "      <th>0</th>\n",
       "      <td>4886f805</td>\n",
       "      <td>97</td>\n",
       "      <td>3</td>\n",
       "      <td>4</td>\n",
       "      <td>28</td>\n",
       "      <td>1</td>\n",
       "      <td>0</td>\n",
       "      <td>0</td>\n",
       "      <td>1</td>\n",
       "      <td>78</td>\n",
       "      <td>...</td>\n",
       "      <td>110</td>\n",
       "      <td>1</td>\n",
       "      <td>5476</td>\n",
       "      <td>18</td>\n",
       "      <td>5</td>\n",
       "      <td>4</td>\n",
       "      <td>18</td>\n",
       "      <td>5</td>\n",
       "      <td>4</td>\n",
       "      <td>0</td>\n",
       "    </tr>\n",
       "    <tr>\n",
       "      <th>1</th>\n",
       "      <td>0297fc1e</td>\n",
       "      <td>180</td>\n",
       "      <td>1</td>\n",
       "      <td>4</td>\n",
       "      <td>34</td>\n",
       "      <td>1</td>\n",
       "      <td>0</td>\n",
       "      <td>0</td>\n",
       "      <td>2</td>\n",
       "      <td>78</td>\n",
       "      <td>...</td>\n",
       "      <td>111</td>\n",
       "      <td>1</td>\n",
       "      <td>189</td>\n",
       "      <td>22</td>\n",
       "      <td>5</td>\n",
       "      <td>1</td>\n",
       "      <td>2</td>\n",
       "      <td>5</td>\n",
       "      <td>2</td>\n",
       "      <td>0</td>\n",
       "    </tr>\n",
       "    <tr>\n",
       "      <th>2</th>\n",
       "      <td>0297fc1e</td>\n",
       "      <td>180</td>\n",
       "      <td>1</td>\n",
       "      <td>4</td>\n",
       "      <td>34</td>\n",
       "      <td>1</td>\n",
       "      <td>0</td>\n",
       "      <td>0</td>\n",
       "      <td>2</td>\n",
       "      <td>78</td>\n",
       "      <td>...</td>\n",
       "      <td>111</td>\n",
       "      <td>1</td>\n",
       "      <td>189</td>\n",
       "      <td>22</td>\n",
       "      <td>5</td>\n",
       "      <td>1</td>\n",
       "      <td>2</td>\n",
       "      <td>5</td>\n",
       "      <td>2</td>\n",
       "      <td>0</td>\n",
       "    </tr>\n",
       "    <tr>\n",
       "      <th>3</th>\n",
       "      <td>0297fc1e</td>\n",
       "      <td>180</td>\n",
       "      <td>1</td>\n",
       "      <td>4</td>\n",
       "      <td>34</td>\n",
       "      <td>1</td>\n",
       "      <td>0</td>\n",
       "      <td>0</td>\n",
       "      <td>2</td>\n",
       "      <td>78</td>\n",
       "      <td>...</td>\n",
       "      <td>111</td>\n",
       "      <td>1</td>\n",
       "      <td>189</td>\n",
       "      <td>22</td>\n",
       "      <td>5</td>\n",
       "      <td>1</td>\n",
       "      <td>3</td>\n",
       "      <td>5</td>\n",
       "      <td>3</td>\n",
       "      <td>0</td>\n",
       "    </tr>\n",
       "    <tr>\n",
       "      <th>4</th>\n",
       "      <td>0297fc1e</td>\n",
       "      <td>180</td>\n",
       "      <td>1</td>\n",
       "      <td>4</td>\n",
       "      <td>34</td>\n",
       "      <td>1</td>\n",
       "      <td>0</td>\n",
       "      <td>0</td>\n",
       "      <td>2</td>\n",
       "      <td>78</td>\n",
       "      <td>...</td>\n",
       "      <td>111</td>\n",
       "      <td>1</td>\n",
       "      <td>189</td>\n",
       "      <td>22</td>\n",
       "      <td>5</td>\n",
       "      <td>1</td>\n",
       "      <td>10</td>\n",
       "      <td>5</td>\n",
       "      <td>3</td>\n",
       "      <td>0</td>\n",
       "    </tr>\n",
       "  </tbody>\n",
       "</table>\n",
       "<p>5 rows × 24 columns</p>\n",
       "</div>"
      ],
      "text/plain": [
       "     person  model  condition  storage  color  compras_prod  vistas_prod  \\\n",
       "0  4886f805     97          3        4     28             1            0   \n",
       "1  0297fc1e    180          1        4     34             1            0   \n",
       "2  0297fc1e    180          1        4     34             1            0   \n",
       "3  0297fc1e    180          1        4     34             1            0   \n",
       "4  0297fc1e    180          1        4     34             1            0   \n",
       "\n",
       "   otros  new_vs_returning  region  ...    browser_version  visitas_sitio  \\\n",
       "0      0                 1      78  ...                110              1   \n",
       "1      0                 2      78  ...                111              1   \n",
       "2      0                 2      78  ...                111              1   \n",
       "3      0                 2      78  ...                111              1   \n",
       "4      0                 2      78  ...                111              1   \n",
       "\n",
       "   person_int  dia_view_prod  mes_view_prod  dia_sem_view_prod  \\\n",
       "0        5476             18              5                  4   \n",
       "1         189             22              5                  1   \n",
       "2         189             22              5                  1   \n",
       "3         189             22              5                  1   \n",
       "4         189             22              5                  1   \n",
       "\n",
       "   dia_visit_user  mes_visit_user  dia_sem_visit_user  label  \n",
       "0              18               5                   4      0  \n",
       "1               2               5                   2      0  \n",
       "2               2               5                   2      0  \n",
       "3               3               5                   3      0  \n",
       "4              10               5                   3      0  \n",
       "\n",
       "[5 rows x 24 columns]"
      ]
     },
     "execution_count": 20,
     "metadata": {},
     "output_type": "execute_result"
    }
   ],
   "source": [
    "pred_full_data = clf.predict(X_full_data)\n",
    "prediction_set['label'] = pred_full_data\n",
    "prediction_set.head()"
   ]
  },
  {
   "cell_type": "code",
   "execution_count": 21,
   "metadata": {},
   "outputs": [],
   "source": [
    "del X_full_data\n",
    "del pred_full_data"
   ]
  },
  {
   "cell_type": "markdown",
   "metadata": {},
   "source": [
    "# Resultado"
   ]
  },
  {
   "cell_type": "code",
   "execution_count": 22,
   "metadata": {},
   "outputs": [
    {
     "data": {
      "text/html": [
       "<div>\n",
       "<style scoped>\n",
       "    .dataframe tbody tr th:only-of-type {\n",
       "        vertical-align: middle;\n",
       "    }\n",
       "\n",
       "    .dataframe tbody tr th {\n",
       "        vertical-align: top;\n",
       "    }\n",
       "\n",
       "    .dataframe thead th {\n",
       "        text-align: right;\n",
       "    }\n",
       "</style>\n",
       "<table border=\"1\" class=\"dataframe\">\n",
       "  <thead>\n",
       "    <tr style=\"text-align: right;\">\n",
       "      <th></th>\n",
       "      <th>person</th>\n",
       "    </tr>\n",
       "  </thead>\n",
       "  <tbody>\n",
       "    <tr>\n",
       "      <th>0</th>\n",
       "      <td>4886f805</td>\n",
       "    </tr>\n",
       "    <tr>\n",
       "      <th>1</th>\n",
       "      <td>0297fc1e</td>\n",
       "    </tr>\n",
       "    <tr>\n",
       "      <th>2</th>\n",
       "      <td>2d681dd8</td>\n",
       "    </tr>\n",
       "    <tr>\n",
       "      <th>3</th>\n",
       "      <td>cccea85e</td>\n",
       "    </tr>\n",
       "    <tr>\n",
       "      <th>4</th>\n",
       "      <td>4c8a8b93</td>\n",
       "    </tr>\n",
       "  </tbody>\n",
       "</table>\n",
       "</div>"
      ],
      "text/plain": [
       "     person\n",
       "0  4886f805\n",
       "1  0297fc1e\n",
       "2  2d681dd8\n",
       "3  cccea85e\n",
       "4  4c8a8b93"
      ]
     },
     "execution_count": 22,
     "metadata": {},
     "output_type": "execute_result"
    }
   ],
   "source": [
    "result = pd.read_csv('data/trocafone_kaggle_test.csv')\n",
    "result.head()"
   ]
  },
  {
   "cell_type": "code",
   "execution_count": 23,
   "metadata": {},
   "outputs": [
    {
     "data": {
      "text/plain": [
       "person    19415\n",
       "dtype: int64"
      ]
     },
     "execution_count": 23,
     "metadata": {},
     "output_type": "execute_result"
    }
   ],
   "source": [
    "result.count()"
   ]
  },
  {
   "cell_type": "code",
   "execution_count": 25,
   "metadata": {},
   "outputs": [],
   "source": [
    "result = result.merge(prediction_set, how='inner', on='person')\n",
    "result = result[['person', 'label']]\n",
    "# result.fillna(0, inplace=True)\n",
    "result['label'] = result['label'].astype('int')"
   ]
  },
  {
   "cell_type": "code",
   "execution_count": 26,
   "metadata": {},
   "outputs": [
    {
     "data": {
      "text/plain": [
       "person    1293877\n",
       "label     1293877\n",
       "dtype: int64"
      ]
     },
     "execution_count": 26,
     "metadata": {},
     "output_type": "execute_result"
    }
   ],
   "source": [
    "result.count()"
   ]
  },
  {
   "cell_type": "code",
   "execution_count": 27,
   "metadata": {},
   "outputs": [
    {
     "data": {
      "text/plain": [
       "person    23683\n",
       "label     23683\n",
       "dtype: int64"
      ]
     },
     "execution_count": 27,
     "metadata": {},
     "output_type": "execute_result"
    }
   ],
   "source": [
    "result = result.drop_duplicates()\n",
    "result.count()"
   ]
  },
  {
   "cell_type": "code",
   "execution_count": 28,
   "metadata": {},
   "outputs": [
    {
     "data": {
      "text/plain": [
       "person    19415\n",
       "label     19415\n",
       "dtype: int64"
      ]
     },
     "execution_count": 28,
     "metadata": {},
     "output_type": "execute_result"
    }
   ],
   "source": [
    "# eliminamos duplicados haciendo un groupby por person y quedandonos con label 1 si la suma es mayor a 0\n",
    "result = result.groupby('person').sum()\n",
    "result.reset_index(inplace=True)\n",
    "result[['label']] = result[['label']].applymap(lambda x: 1 if x > 0 else 0)\n",
    "result.count()"
   ]
  },
  {
   "cell_type": "code",
   "execution_count": 29,
   "metadata": {},
   "outputs": [
    {
     "data": {
      "text/plain": [
       "(4286, 2)"
      ]
     },
     "execution_count": 29,
     "metadata": {},
     "output_type": "execute_result"
    }
   ],
   "source": [
    "result[result['label'] == 1].shape"
   ]
  },
  {
   "cell_type": "code",
   "execution_count": 30,
   "metadata": {},
   "outputs": [
    {
     "data": {
      "text/plain": [
       "(15129, 2)"
      ]
     },
     "execution_count": 30,
     "metadata": {},
     "output_type": "execute_result"
    }
   ],
   "source": [
    "result[result['label'] == 0].shape"
   ]
  },
  {
   "cell_type": "code",
   "execution_count": 27,
   "metadata": {},
   "outputs": [],
   "source": [
    "result.to_csv('data/result_decision_tree.csv', encoding='utf-8', index=False)"
   ]
  },
  {
   "cell_type": "code",
   "execution_count": 31,
   "metadata": {},
   "outputs": [
    {
     "data": {
      "text/html": [
       "<div>\n",
       "<style scoped>\n",
       "    .dataframe tbody tr th:only-of-type {\n",
       "        vertical-align: middle;\n",
       "    }\n",
       "\n",
       "    .dataframe tbody tr th {\n",
       "        vertical-align: top;\n",
       "    }\n",
       "\n",
       "    .dataframe thead th {\n",
       "        text-align: right;\n",
       "    }\n",
       "</style>\n",
       "<table border=\"1\" class=\"dataframe\">\n",
       "  <thead>\n",
       "    <tr style=\"text-align: right;\">\n",
       "      <th></th>\n",
       "      <th>person</th>\n",
       "      <th>label</th>\n",
       "    </tr>\n",
       "  </thead>\n",
       "  <tbody>\n",
       "    <tr>\n",
       "      <th>0</th>\n",
       "      <td>00091926</td>\n",
       "      <td>0</td>\n",
       "    </tr>\n",
       "    <tr>\n",
       "      <th>1</th>\n",
       "      <td>00091a7a</td>\n",
       "      <td>0</td>\n",
       "    </tr>\n",
       "    <tr>\n",
       "      <th>2</th>\n",
       "      <td>000ba417</td>\n",
       "      <td>0</td>\n",
       "    </tr>\n",
       "    <tr>\n",
       "      <th>3</th>\n",
       "      <td>000e4d9e</td>\n",
       "      <td>0</td>\n",
       "    </tr>\n",
       "    <tr>\n",
       "      <th>4</th>\n",
       "      <td>000e619d</td>\n",
       "      <td>0</td>\n",
       "    </tr>\n",
       "  </tbody>\n",
       "</table>\n",
       "</div>"
      ],
      "text/plain": [
       "     person  label\n",
       "0  00091926      0\n",
       "1  00091a7a      0\n",
       "2  000ba417      0\n",
       "3  000e4d9e      0\n",
       "4  000e619d      0"
      ]
     },
     "execution_count": 31,
     "metadata": {},
     "output_type": "execute_result"
    }
   ],
   "source": [
    "result.head()"
   ]
  },
  {
   "cell_type": "code",
   "execution_count": null,
   "metadata": {},
   "outputs": [],
   "source": []
  }
 ],
 "metadata": {
  "kernelspec": {
   "display_name": "Python 3",
   "language": "python",
   "name": "python3"
  },
  "language_info": {
   "codemirror_mode": {
    "name": "ipython",
    "version": 3
   },
   "file_extension": ".py",
   "mimetype": "text/x-python",
   "name": "python",
   "nbconvert_exporter": "python",
   "pygments_lexer": "ipython3",
   "version": "3.6.5"
  }
 },
 "nbformat": 4,
 "nbformat_minor": 2
}
