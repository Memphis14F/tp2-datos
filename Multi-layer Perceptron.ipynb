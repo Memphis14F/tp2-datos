{
 "cells": [
  {
   "cell_type": "code",
   "execution_count": 1,
   "metadata": {},
   "outputs": [],
   "source": [
    "import pandas as pd\n",
    "import numpy as np\n",
    "from sklearn import linear_model\n",
    "from sklearn import model_selection\n",
    "from sklearn import metrics\n",
    "from sklearn.model_selection import train_test_split\n",
    "from sklearn.decomposition import PCA\n",
    "from sklearn.metrics import accuracy_score\n",
    "from sklearn.svm import LinearSVC\n",
    "from sklearn.feature_selection import SelectFromModel\n",
    "from sklearn.neural_network import MLPClassifier\n",
    "from sklearn import preprocessing\n",
    "from sklearn.pipeline import make_pipeline"
   ]
  },
  {
   "cell_type": "code",
   "execution_count": 2,
   "metadata": {},
   "outputs": [
    {
     "data": {
      "text/html": [
       "<div>\n",
       "<style scoped>\n",
       "    .dataframe tbody tr th:only-of-type {\n",
       "        vertical-align: middle;\n",
       "    }\n",
       "\n",
       "    .dataframe tbody tr th {\n",
       "        vertical-align: top;\n",
       "    }\n",
       "\n",
       "    .dataframe thead th {\n",
       "        text-align: right;\n",
       "    }\n",
       "</style>\n",
       "<table border=\"1\" class=\"dataframe\">\n",
       "  <thead>\n",
       "    <tr style=\"text-align: right;\">\n",
       "      <th></th>\n",
       "      <th>person</th>\n",
       "      <th>label</th>\n",
       "      <th>sku</th>\n",
       "      <th>condition</th>\n",
       "      <th>storage</th>\n",
       "      <th>color</th>\n",
       "      <th>compras_prod</th>\n",
       "      <th>vistas_prod</th>\n",
       "      <th>otros</th>\n",
       "      <th>new_vs_returning</th>\n",
       "      <th>...</th>\n",
       "      <th>cant_eventos</th>\n",
       "      <th>marca</th>\n",
       "      <th>modelo</th>\n",
       "      <th>person_int</th>\n",
       "      <th>dia_view_prod</th>\n",
       "      <th>mes_view_prod</th>\n",
       "      <th>dia_sem_view_prod</th>\n",
       "      <th>dia_visit_user</th>\n",
       "      <th>mes_visit_user</th>\n",
       "      <th>dia_sem_visit_user</th>\n",
       "    </tr>\n",
       "  </thead>\n",
       "  <tbody>\n",
       "    <tr>\n",
       "      <th>0</th>\n",
       "      <td>0566e9c1</td>\n",
       "      <td>0</td>\n",
       "      <td>798</td>\n",
       "      <td>1</td>\n",
       "      <td>8</td>\n",
       "      <td>9</td>\n",
       "      <td>1</td>\n",
       "      <td>0</td>\n",
       "      <td>0</td>\n",
       "      <td>2</td>\n",
       "      <td>...</td>\n",
       "      <td>68</td>\n",
       "      <td>8</td>\n",
       "      <td>9</td>\n",
       "      <td>825</td>\n",
       "      <td>23</td>\n",
       "      <td>5</td>\n",
       "      <td>2</td>\n",
       "      <td>23</td>\n",
       "      <td>5</td>\n",
       "      <td>2</td>\n",
       "    </tr>\n",
       "    <tr>\n",
       "      <th>1</th>\n",
       "      <td>0566e9c1</td>\n",
       "      <td>0</td>\n",
       "      <td>798</td>\n",
       "      <td>1</td>\n",
       "      <td>8</td>\n",
       "      <td>9</td>\n",
       "      <td>1</td>\n",
       "      <td>0</td>\n",
       "      <td>0</td>\n",
       "      <td>2</td>\n",
       "      <td>...</td>\n",
       "      <td>68</td>\n",
       "      <td>8</td>\n",
       "      <td>9</td>\n",
       "      <td>825</td>\n",
       "      <td>23</td>\n",
       "      <td>5</td>\n",
       "      <td>2</td>\n",
       "      <td>23</td>\n",
       "      <td>5</td>\n",
       "      <td>2</td>\n",
       "    </tr>\n",
       "    <tr>\n",
       "      <th>2</th>\n",
       "      <td>0566e9c1</td>\n",
       "      <td>0</td>\n",
       "      <td>798</td>\n",
       "      <td>1</td>\n",
       "      <td>8</td>\n",
       "      <td>9</td>\n",
       "      <td>1</td>\n",
       "      <td>0</td>\n",
       "      <td>0</td>\n",
       "      <td>2</td>\n",
       "      <td>...</td>\n",
       "      <td>68</td>\n",
       "      <td>8</td>\n",
       "      <td>9</td>\n",
       "      <td>825</td>\n",
       "      <td>23</td>\n",
       "      <td>5</td>\n",
       "      <td>2</td>\n",
       "      <td>24</td>\n",
       "      <td>5</td>\n",
       "      <td>3</td>\n",
       "    </tr>\n",
       "    <tr>\n",
       "      <th>3</th>\n",
       "      <td>0566e9c1</td>\n",
       "      <td>0</td>\n",
       "      <td>798</td>\n",
       "      <td>1</td>\n",
       "      <td>8</td>\n",
       "      <td>9</td>\n",
       "      <td>1</td>\n",
       "      <td>0</td>\n",
       "      <td>0</td>\n",
       "      <td>2</td>\n",
       "      <td>...</td>\n",
       "      <td>68</td>\n",
       "      <td>8</td>\n",
       "      <td>9</td>\n",
       "      <td>825</td>\n",
       "      <td>23</td>\n",
       "      <td>5</td>\n",
       "      <td>2</td>\n",
       "      <td>24</td>\n",
       "      <td>5</td>\n",
       "      <td>3</td>\n",
       "    </tr>\n",
       "    <tr>\n",
       "      <th>4</th>\n",
       "      <td>0566e9c1</td>\n",
       "      <td>0</td>\n",
       "      <td>798</td>\n",
       "      <td>1</td>\n",
       "      <td>8</td>\n",
       "      <td>9</td>\n",
       "      <td>1</td>\n",
       "      <td>0</td>\n",
       "      <td>0</td>\n",
       "      <td>2</td>\n",
       "      <td>...</td>\n",
       "      <td>68</td>\n",
       "      <td>8</td>\n",
       "      <td>9</td>\n",
       "      <td>825</td>\n",
       "      <td>23</td>\n",
       "      <td>5</td>\n",
       "      <td>2</td>\n",
       "      <td>25</td>\n",
       "      <td>5</td>\n",
       "      <td>4</td>\n",
       "    </tr>\n",
       "  </tbody>\n",
       "</table>\n",
       "<p>5 rows × 32 columns</p>\n",
       "</div>"
      ],
      "text/plain": [
       "     person  label  sku  condition  storage  color  compras_prod  vistas_prod  \\\n",
       "0  0566e9c1      0  798          1        8      9             1            0   \n",
       "1  0566e9c1      0  798          1        8      9             1            0   \n",
       "2  0566e9c1      0  798          1        8      9             1            0   \n",
       "3  0566e9c1      0  798          1        8      9             1            0   \n",
       "4  0566e9c1      0  798          1        8      9             1            0   \n",
       "\n",
       "   otros  new_vs_returning         ...         cant_eventos  marca  modelo  \\\n",
       "0      0                 2         ...                   68      8       9   \n",
       "1      0                 2         ...                   68      8       9   \n",
       "2      0                 2         ...                   68      8       9   \n",
       "3      0                 2         ...                   68      8       9   \n",
       "4      0                 2         ...                   68      8       9   \n",
       "\n",
       "   person_int  dia_view_prod  mes_view_prod  dia_sem_view_prod  \\\n",
       "0         825             23              5                  2   \n",
       "1         825             23              5                  2   \n",
       "2         825             23              5                  2   \n",
       "3         825             23              5                  2   \n",
       "4         825             23              5                  2   \n",
       "\n",
       "   dia_visit_user  mes_visit_user  dia_sem_visit_user  \n",
       "0              23               5                   2  \n",
       "1              23               5                   2  \n",
       "2              24               5                   3  \n",
       "3              24               5                   3  \n",
       "4              25               5                   4  \n",
       "\n",
       "[5 rows x 32 columns]"
      ]
     },
     "execution_count": 2,
     "metadata": {},
     "output_type": "execute_result"
    }
   ],
   "source": [
    "training_set = pd.read_csv('data/set_entrenamiento_21.csv')\n",
    "training_set.head()"
   ]
  },
  {
   "cell_type": "code",
   "execution_count": 3,
   "metadata": {},
   "outputs": [
    {
     "data": {
      "text/plain": [
       "Index(['person', 'label', 'sku', 'condition', 'storage', 'color',\n",
       "       'compras_prod', 'vistas_prod', 'otros', 'new_vs_returning', 'city',\n",
       "       'region', 'country', 'device_type', 'screen_resolution',\n",
       "       'operating_system_version', 'browser_version', 'visitas_sitio',\n",
       "       'cant_compras', 'cant_vistas', 'cant_otros', 'cant_visitas_sitio',\n",
       "       'cant_eventos', 'marca', 'modelo', 'person_int', 'dia_view_prod',\n",
       "       'mes_view_prod', 'dia_sem_view_prod', 'dia_visit_user',\n",
       "       'mes_visit_user', 'dia_sem_visit_user'],\n",
       "      dtype='object')"
      ]
     },
     "execution_count": 3,
     "metadata": {},
     "output_type": "execute_result"
    }
   ],
   "source": [
    "training_set.columns"
   ]
  },
  {
   "cell_type": "code",
   "execution_count": 4,
   "metadata": {},
   "outputs": [],
   "source": [
    "training_set= training_set[(training_set['label'] == 1) | ((training_set['cant_eventos'] <= 100) & (training_set['label'] == 0))]"
   ]
  },
  {
   "cell_type": "markdown",
   "metadata": {},
   "source": [
    "# Entrenamiento"
   ]
  },
  {
   "cell_type": "code",
   "execution_count": 5,
   "metadata": {},
   "outputs": [],
   "source": [
    "# dfix = training_set.loc[:,['browser_version', 'color', 'compras_prod', 'condition', 'country', 'device_type', 'new_vs_returning', 'operating_system_version', 'otros', 'region', 'screen_resolution', 'storage', 'visitas_sitio', 'vistas_prod', 'marca', 'modelo', 'dia_view_prod', 'mes_view_prod', 'dia_sem_view_prod', 'dia_visit_user', 'mes_visit_user', 'dia_sem_visit_user']]"
   ]
  },
  {
   "cell_type": "code",
   "execution_count": 6,
   "metadata": {},
   "outputs": [],
   "source": [
    "dfix = training_set.loc[:,['color', 'compras_prod', 'condition', 'country', 'device_type', 'new_vs_returning', 'operating_system_version', 'otros', 'region', 'screen_resolution', 'storage', 'visitas_sitio', 'vistas_prod', 'marca', 'modelo', 'dia_view_prod', 'mes_view_prod', 'dia_sem_view_prod', 'dia_visit_user', 'mes_visit_user', 'dia_sem_visit_user']]"
   ]
  },
  {
   "cell_type": "code",
   "execution_count": 7,
   "metadata": {},
   "outputs": [],
   "source": [
    "# dfix = training_set.loc[:,['condition', 'storage', 'color','compras_prod', 'vistas_prod', 'otros', 'new_vs_returning', 'region', 'country', 'device_type', 'screen_resolution','operating_system_version', 'browser_version', 'visitas_sitio','cant_compras', 'cant_vistas', 'cant_otros', 'cant_visitas_sitio','cant_eventos', 'marca', 'modelo', 'dia_view_prod','mes_view_prod', 'dia_sem_view_prod', 'dia_visit_user','mes_visit_user', 'dia_sem_visit_user']]\n",
    "# dfix = training_set.loc[:,['condition', 'storage', 'compras_prod', 'vistas_prod', 'otros', 'new_vs_returning', 'region', 'country', 'device_type', 'visitas_sitio', 'cant_eventos', 'marca', 'modelo', 'dia_view_prod','mes_view_prod', 'dia_visit_user','mes_visit_user','cant_compras', 'cant_vistas', 'cant_otros', 'cant_visitas_sitio',]]"
   ]
  },
  {
   "cell_type": "code",
   "execution_count": 8,
   "metadata": {},
   "outputs": [],
   "source": [
    "# features a entrenar\n",
    "X = np.array(dfix)\n",
    "# feature a predecir\n",
    "y = np.array(training_set['label'])"
   ]
  },
  {
   "cell_type": "code",
   "execution_count": 9,
   "metadata": {},
   "outputs": [],
   "source": [
    "del training_set\n",
    "del dfix"
   ]
  },
  {
   "cell_type": "code",
   "execution_count": 10,
   "metadata": {},
   "outputs": [],
   "source": [
    "X_train, X_test, y_train, y_test = train_test_split(X, y, test_size=0.25, random_state=7506)"
   ]
  },
  {
   "cell_type": "code",
   "execution_count": 11,
   "metadata": {},
   "outputs": [
    {
     "name": "stdout",
     "output_type": "stream",
     "text": [
      "208466\n",
      "204639\n"
     ]
    }
   ],
   "source": [
    "print(np.count_nonzero(y_train == 1))\n",
    "print(np.count_nonzero(y_train == 0))"
   ]
  },
  {
   "cell_type": "code",
   "execution_count": 12,
   "metadata": {},
   "outputs": [],
   "source": [
    "clf = make_pipeline(\n",
    "                    preprocessing.QuantileTransformer(), \n",
    "#                     MLPClassifier(solver='adam', alpha=1e-5, hidden_layer_sizes=(20,5), random_state=1, max_iter = 200,verbose=True,activation = 'tanh', warm_start = True)\n",
    "                    MLPClassifier(solver='adam', alpha=1e-5, hidden_layer_sizes=(20), random_state=1, max_iter = 200,verbose=True,activation = 'tanh', warm_start = True)\n",
    "#                     MLPClassifier(solver='adam', alpha=1e-5, hidden_layer_sizes=(20), random_state=1, max_iter = 200,verbose=True,activation = 'logistic', warm_start = True)\n",
    "                   )\n",
    "\n",
    "# clf = MLPClassifier(solver='adam', alpha=1e-5, hidden_layer_sizes=(20), random_state=1, max_iter = 200,verbose=True,activation = 'tanh', warm_start = True)\n"
   ]
  },
  {
   "cell_type": "code",
   "execution_count": 13,
   "metadata": {},
   "outputs": [
    {
     "name": "stdout",
     "output_type": "stream",
     "text": [
      "Iteration 1, loss = 0.50968129\n",
      "Iteration 2, loss = 0.47520301\n",
      "Iteration 3, loss = 0.46580696\n",
      "Iteration 4, loss = 0.46066764\n",
      "Iteration 5, loss = 0.45616854\n",
      "Iteration 6, loss = 0.45132189\n",
      "Iteration 7, loss = 0.44619200\n",
      "Iteration 8, loss = 0.44124338\n",
      "Iteration 9, loss = 0.43647743\n",
      "Iteration 10, loss = 0.43212336\n",
      "Iteration 11, loss = 0.42813274\n",
      "Iteration 12, loss = 0.42443789\n",
      "Iteration 13, loss = 0.42107469\n",
      "Iteration 14, loss = 0.41804087\n",
      "Iteration 15, loss = 0.41557631\n",
      "Iteration 16, loss = 0.41348694\n",
      "Iteration 17, loss = 0.41156480\n",
      "Iteration 18, loss = 0.40984977\n",
      "Iteration 19, loss = 0.40821996\n",
      "Iteration 20, loss = 0.40681763\n",
      "Iteration 21, loss = 0.40571942\n",
      "Iteration 22, loss = 0.40464378\n",
      "Iteration 23, loss = 0.40348222\n",
      "Iteration 24, loss = 0.40258405\n",
      "Iteration 25, loss = 0.40147734\n",
      "Iteration 26, loss = 0.40056027\n",
      "Iteration 27, loss = 0.39987177\n",
      "Iteration 28, loss = 0.39886389\n",
      "Iteration 29, loss = 0.39816959\n",
      "Iteration 30, loss = 0.39748025\n",
      "Iteration 31, loss = 0.39684791\n",
      "Iteration 32, loss = 0.39629657\n",
      "Iteration 33, loss = 0.39572041\n",
      "Iteration 34, loss = 0.39506831\n",
      "Iteration 35, loss = 0.39456395\n",
      "Iteration 36, loss = 0.39401021\n",
      "Iteration 37, loss = 0.39347703\n",
      "Iteration 38, loss = 0.39295475\n",
      "Iteration 39, loss = 0.39250767\n",
      "Iteration 40, loss = 0.39198927\n",
      "Iteration 41, loss = 0.39161839\n",
      "Iteration 42, loss = 0.39106006\n",
      "Iteration 43, loss = 0.39056888\n",
      "Iteration 44, loss = 0.39009750\n",
      "Iteration 45, loss = 0.38998671\n",
      "Iteration 46, loss = 0.38943752\n",
      "Iteration 47, loss = 0.38878544\n",
      "Iteration 48, loss = 0.38838975\n",
      "Iteration 49, loss = 0.38807504\n",
      "Iteration 50, loss = 0.38747650\n",
      "Iteration 51, loss = 0.38717669\n",
      "Iteration 52, loss = 0.38664970\n",
      "Iteration 53, loss = 0.38636683\n",
      "Iteration 54, loss = 0.38599686\n",
      "Iteration 55, loss = 0.38559211\n",
      "Iteration 56, loss = 0.38540927\n",
      "Iteration 57, loss = 0.38486588\n",
      "Iteration 58, loss = 0.38447338\n",
      "Iteration 59, loss = 0.38396651\n",
      "Iteration 60, loss = 0.38375526\n",
      "Iteration 61, loss = 0.38337149\n",
      "Iteration 62, loss = 0.38313056\n",
      "Iteration 63, loss = 0.38279808\n",
      "Iteration 64, loss = 0.38239471\n",
      "Iteration 65, loss = 0.38202596\n",
      "Iteration 66, loss = 0.38173793\n",
      "Iteration 67, loss = 0.38129323\n",
      "Iteration 68, loss = 0.38122563\n",
      "Iteration 69, loss = 0.38065557\n",
      "Iteration 70, loss = 0.38038823\n",
      "Iteration 71, loss = 0.38027668\n",
      "Iteration 72, loss = 0.37982785\n",
      "Iteration 73, loss = 0.37956112\n",
      "Iteration 74, loss = 0.37909887\n",
      "Iteration 75, loss = 0.37899332\n",
      "Iteration 76, loss = 0.37859663\n",
      "Iteration 77, loss = 0.37834999\n",
      "Iteration 78, loss = 0.37804006\n",
      "Iteration 79, loss = 0.37771014\n",
      "Iteration 80, loss = 0.37748201\n",
      "Iteration 81, loss = 0.37718653\n",
      "Iteration 82, loss = 0.37681509\n",
      "Iteration 83, loss = 0.37659443\n",
      "Iteration 84, loss = 0.37624530\n",
      "Iteration 85, loss = 0.37592143\n",
      "Iteration 86, loss = 0.37567121\n",
      "Iteration 87, loss = 0.37540664\n",
      "Iteration 88, loss = 0.37511503\n",
      "Iteration 89, loss = 0.37477110\n",
      "Iteration 90, loss = 0.37461515\n",
      "Iteration 91, loss = 0.37446983\n",
      "Iteration 92, loss = 0.37402393\n",
      "Iteration 93, loss = 0.37378900\n",
      "Iteration 94, loss = 0.37352743\n",
      "Iteration 95, loss = 0.37333551\n",
      "Iteration 96, loss = 0.37294358\n",
      "Iteration 97, loss = 0.37289395\n",
      "Iteration 98, loss = 0.37253551\n",
      "Iteration 99, loss = 0.37240166\n",
      "Iteration 100, loss = 0.37214573\n",
      "Iteration 101, loss = 0.37191326\n",
      "Iteration 102, loss = 0.37167095\n",
      "Iteration 103, loss = 0.37149514\n",
      "Iteration 104, loss = 0.37132152\n",
      "Iteration 105, loss = 0.37111951\n",
      "Iteration 106, loss = 0.37091486\n",
      "Iteration 107, loss = 0.37080902\n",
      "Iteration 108, loss = 0.37059950\n",
      "Iteration 109, loss = 0.37052845\n",
      "Iteration 110, loss = 0.37034439\n",
      "Iteration 111, loss = 0.37007590\n",
      "Iteration 112, loss = 0.37007588\n",
      "Iteration 113, loss = 0.36964507\n",
      "Iteration 114, loss = 0.36966697\n",
      "Iteration 115, loss = 0.36956412\n",
      "Iteration 116, loss = 0.36924913\n",
      "Iteration 117, loss = 0.36927829\n",
      "Iteration 118, loss = 0.36902166\n",
      "Iteration 119, loss = 0.36899822\n",
      "Iteration 120, loss = 0.36883858\n",
      "Iteration 121, loss = 0.36874821\n",
      "Iteration 122, loss = 0.36856057\n",
      "Iteration 123, loss = 0.36847605\n",
      "Iteration 124, loss = 0.36822889\n",
      "Iteration 125, loss = 0.36819331\n",
      "Iteration 126, loss = 0.36798903\n",
      "Iteration 127, loss = 0.36779868\n",
      "Iteration 128, loss = 0.36773239\n",
      "Iteration 129, loss = 0.36773751\n",
      "Iteration 130, loss = 0.36753972\n",
      "Iteration 131, loss = 0.36735953\n",
      "Iteration 132, loss = 0.36721897\n",
      "Iteration 133, loss = 0.36712721\n",
      "Iteration 134, loss = 0.36708703\n",
      "Iteration 135, loss = 0.36682719\n",
      "Iteration 136, loss = 0.36676386\n",
      "Iteration 137, loss = 0.36655996\n",
      "Iteration 138, loss = 0.36650934\n",
      "Iteration 139, loss = 0.36639144\n",
      "Iteration 140, loss = 0.36634245\n",
      "Iteration 141, loss = 0.36618698\n",
      "Iteration 142, loss = 0.36598124\n",
      "Iteration 143, loss = 0.36599279\n",
      "Iteration 144, loss = 0.36586404\n",
      "Iteration 145, loss = 0.36578422\n",
      "Iteration 146, loss = 0.36557393\n",
      "Iteration 147, loss = 0.36550680\n",
      "Iteration 148, loss = 0.36540449\n",
      "Iteration 149, loss = 0.36534473\n",
      "Iteration 150, loss = 0.36517568\n",
      "Iteration 151, loss = 0.36508048\n",
      "Iteration 152, loss = 0.36492215\n",
      "Iteration 153, loss = 0.36486158\n",
      "Iteration 154, loss = 0.36475884\n",
      "Iteration 155, loss = 0.36454942\n",
      "Iteration 156, loss = 0.36449169\n",
      "Iteration 157, loss = 0.36435768\n",
      "Iteration 158, loss = 0.36417764\n",
      "Iteration 159, loss = 0.36403505\n",
      "Iteration 160, loss = 0.36381819\n",
      "Iteration 161, loss = 0.36357816\n",
      "Iteration 162, loss = 0.36356562\n",
      "Iteration 163, loss = 0.36353196\n",
      "Iteration 164, loss = 0.36334622\n",
      "Iteration 165, loss = 0.36313513\n",
      "Iteration 166, loss = 0.36309943\n",
      "Iteration 167, loss = 0.36306215\n",
      "Iteration 168, loss = 0.36281977\n",
      "Iteration 169, loss = 0.36275357\n",
      "Iteration 170, loss = 0.36266448\n",
      "Iteration 171, loss = 0.36255921\n",
      "Iteration 172, loss = 0.36237916\n",
      "Iteration 173, loss = 0.36240125\n",
      "Iteration 174, loss = 0.36211926\n",
      "Iteration 175, loss = 0.36217907\n",
      "Iteration 176, loss = 0.36206735\n",
      "Iteration 177, loss = 0.36193075\n",
      "Iteration 178, loss = 0.36177023\n",
      "Iteration 179, loss = 0.36164452\n",
      "Iteration 180, loss = 0.36141109\n",
      "Iteration 181, loss = 0.36143751\n",
      "Iteration 182, loss = 0.36124735\n",
      "Iteration 183, loss = 0.36120437\n",
      "Iteration 184, loss = 0.36110056\n",
      "Iteration 185, loss = 0.36104521\n",
      "Iteration 186, loss = 0.36085705\n",
      "Iteration 187, loss = 0.36089427\n",
      "Iteration 188, loss = 0.36077665\n",
      "Iteration 189, loss = 0.36062212\n",
      "Iteration 190, loss = 0.36056507\n",
      "Iteration 191, loss = 0.36039719\n",
      "Iteration 192, loss = 0.36043354\n",
      "Iteration 193, loss = 0.36018361\n",
      "Iteration 194, loss = 0.36019688\n",
      "Iteration 195, loss = 0.36011239\n",
      "Iteration 196, loss = 0.36001366\n",
      "Training loss did not improve more than tol=0.000100 for two consecutive epochs. Stopping.\n"
     ]
    },
    {
     "data": {
      "text/plain": [
       "Pipeline(memory=None,\n",
       "     steps=[('quantiletransformer', QuantileTransformer(copy=True, ignore_implicit_zeros=False, n_quantiles=1000,\n",
       "          output_distribution='uniform', random_state=None,\n",
       "          subsample=100000)), ('mlpclassifier', MLPClassifier(activation='tanh', alpha=1e-05, batch_size='auto', beta_1=0.9,\n",
       "      ...,\n",
       "       solver='adam', tol=0.0001, validation_fraction=0.1, verbose=True,\n",
       "       warm_start=True))])"
      ]
     },
     "execution_count": 13,
     "metadata": {},
     "output_type": "execute_result"
    }
   ],
   "source": [
    "clf.fit(X_train, y_train)"
   ]
  },
  {
   "cell_type": "code",
   "execution_count": 14,
   "metadata": {},
   "outputs": [
    {
     "name": "stdout",
     "output_type": "stream",
     "text": [
      "69147\n",
      "68555\n"
     ]
    }
   ],
   "source": [
    "print(np.count_nonzero(y_test == 1))\n",
    "print(np.count_nonzero(y_test == 0))"
   ]
  },
  {
   "cell_type": "markdown",
   "metadata": {},
   "source": [
    "# Prediccion"
   ]
  },
  {
   "cell_type": "code",
   "execution_count": 15,
   "metadata": {},
   "outputs": [],
   "source": [
    "pred = clf.predict(X_test)"
   ]
  },
  {
   "cell_type": "code",
   "execution_count": 16,
   "metadata": {},
   "outputs": [
    {
     "name": "stdout",
     "output_type": "stream",
     "text": [
      "67329\n",
      "70373\n"
     ]
    }
   ],
   "source": [
    "print(np.count_nonzero(pred == 1))\n",
    "print(np.count_nonzero(pred == 0))"
   ]
  },
  {
   "cell_type": "code",
   "execution_count": 17,
   "metadata": {},
   "outputs": [
    {
     "name": "stdout",
     "output_type": "stream",
     "text": [
      "0.8457103019563986\n"
     ]
    }
   ],
   "source": [
    "print (accuracy_score(y_test, pred))"
   ]
  },
  {
   "cell_type": "code",
   "execution_count": 18,
   "metadata": {},
   "outputs": [
    {
     "data": {
      "text/plain": [
       "(137702,)"
      ]
     },
     "execution_count": 18,
     "metadata": {},
     "output_type": "execute_result"
    }
   ],
   "source": [
    "pred.shape"
   ]
  },
  {
   "cell_type": "code",
   "execution_count": 19,
   "metadata": {
    "scrolled": true
   },
   "outputs": [
    {
     "data": {
      "text/html": [
       "<div>\n",
       "<style scoped>\n",
       "    .dataframe tbody tr th:only-of-type {\n",
       "        vertical-align: middle;\n",
       "    }\n",
       "\n",
       "    .dataframe tbody tr th {\n",
       "        vertical-align: top;\n",
       "    }\n",
       "\n",
       "    .dataframe thead th {\n",
       "        text-align: right;\n",
       "    }\n",
       "</style>\n",
       "<table border=\"1\" class=\"dataframe\">\n",
       "  <thead>\n",
       "    <tr style=\"text-align: right;\">\n",
       "      <th></th>\n",
       "      <th>person</th>\n",
       "      <th>sku</th>\n",
       "      <th>condition</th>\n",
       "      <th>storage</th>\n",
       "      <th>color</th>\n",
       "      <th>compras_prod</th>\n",
       "      <th>vistas_prod</th>\n",
       "      <th>otros</th>\n",
       "      <th>new_vs_returning</th>\n",
       "      <th>city</th>\n",
       "      <th>...</th>\n",
       "      <th>cant_eventos</th>\n",
       "      <th>marca</th>\n",
       "      <th>modelo</th>\n",
       "      <th>person_int</th>\n",
       "      <th>dia_view_prod</th>\n",
       "      <th>mes_view_prod</th>\n",
       "      <th>dia_sem_view_prod</th>\n",
       "      <th>dia_visit_user</th>\n",
       "      <th>mes_visit_user</th>\n",
       "      <th>dia_sem_visit_user</th>\n",
       "    </tr>\n",
       "  </thead>\n",
       "  <tbody>\n",
       "    <tr>\n",
       "      <th>0</th>\n",
       "      <td>4886f805</td>\n",
       "      <td>1770</td>\n",
       "      <td>3</td>\n",
       "      <td>4</td>\n",
       "      <td>28</td>\n",
       "      <td>1</td>\n",
       "      <td>0</td>\n",
       "      <td>0</td>\n",
       "      <td>1</td>\n",
       "      <td>Cantagalo</td>\n",
       "      <td>...</td>\n",
       "      <td>9</td>\n",
       "      <td>6</td>\n",
       "      <td>70</td>\n",
       "      <td>10956</td>\n",
       "      <td>18</td>\n",
       "      <td>5</td>\n",
       "      <td>4</td>\n",
       "      <td>18</td>\n",
       "      <td>5</td>\n",
       "      <td>4</td>\n",
       "    </tr>\n",
       "    <tr>\n",
       "      <th>1</th>\n",
       "      <td>4886f805</td>\n",
       "      <td>0</td>\n",
       "      <td>0</td>\n",
       "      <td>0</td>\n",
       "      <td>0</td>\n",
       "      <td>0</td>\n",
       "      <td>0</td>\n",
       "      <td>0</td>\n",
       "      <td>1</td>\n",
       "      <td>Cantagalo</td>\n",
       "      <td>...</td>\n",
       "      <td>0</td>\n",
       "      <td>0</td>\n",
       "      <td>1</td>\n",
       "      <td>10956</td>\n",
       "      <td>0</td>\n",
       "      <td>0</td>\n",
       "      <td>0</td>\n",
       "      <td>18</td>\n",
       "      <td>5</td>\n",
       "      <td>4</td>\n",
       "    </tr>\n",
       "    <tr>\n",
       "      <th>2</th>\n",
       "      <td>0297fc1e</td>\n",
       "      <td>1715</td>\n",
       "      <td>1</td>\n",
       "      <td>4</td>\n",
       "      <td>34</td>\n",
       "      <td>1</td>\n",
       "      <td>0</td>\n",
       "      <td>0</td>\n",
       "      <td>2</td>\n",
       "      <td>Rio de Janeiro</td>\n",
       "      <td>...</td>\n",
       "      <td>567</td>\n",
       "      <td>8</td>\n",
       "      <td>15</td>\n",
       "      <td>365</td>\n",
       "      <td>22</td>\n",
       "      <td>5</td>\n",
       "      <td>1</td>\n",
       "      <td>2</td>\n",
       "      <td>5</td>\n",
       "      <td>2</td>\n",
       "    </tr>\n",
       "    <tr>\n",
       "      <th>3</th>\n",
       "      <td>0297fc1e</td>\n",
       "      <td>1715</td>\n",
       "      <td>1</td>\n",
       "      <td>4</td>\n",
       "      <td>34</td>\n",
       "      <td>1</td>\n",
       "      <td>0</td>\n",
       "      <td>0</td>\n",
       "      <td>2</td>\n",
       "      <td>Rio de Janeiro</td>\n",
       "      <td>...</td>\n",
       "      <td>567</td>\n",
       "      <td>8</td>\n",
       "      <td>15</td>\n",
       "      <td>365</td>\n",
       "      <td>22</td>\n",
       "      <td>5</td>\n",
       "      <td>1</td>\n",
       "      <td>2</td>\n",
       "      <td>5</td>\n",
       "      <td>2</td>\n",
       "    </tr>\n",
       "    <tr>\n",
       "      <th>4</th>\n",
       "      <td>0297fc1e</td>\n",
       "      <td>1715</td>\n",
       "      <td>1</td>\n",
       "      <td>4</td>\n",
       "      <td>34</td>\n",
       "      <td>1</td>\n",
       "      <td>0</td>\n",
       "      <td>0</td>\n",
       "      <td>2</td>\n",
       "      <td>Rio de Janeiro</td>\n",
       "      <td>...</td>\n",
       "      <td>567</td>\n",
       "      <td>8</td>\n",
       "      <td>15</td>\n",
       "      <td>365</td>\n",
       "      <td>22</td>\n",
       "      <td>5</td>\n",
       "      <td>1</td>\n",
       "      <td>3</td>\n",
       "      <td>5</td>\n",
       "      <td>3</td>\n",
       "    </tr>\n",
       "  </tbody>\n",
       "</table>\n",
       "<p>5 rows × 31 columns</p>\n",
       "</div>"
      ],
      "text/plain": [
       "     person   sku  condition  storage  color  compras_prod  vistas_prod  \\\n",
       "0  4886f805  1770          3        4     28             1            0   \n",
       "1  4886f805     0          0        0      0             0            0   \n",
       "2  0297fc1e  1715          1        4     34             1            0   \n",
       "3  0297fc1e  1715          1        4     34             1            0   \n",
       "4  0297fc1e  1715          1        4     34             1            0   \n",
       "\n",
       "   otros  new_vs_returning            city         ...          cant_eventos  \\\n",
       "0      0                 1       Cantagalo         ...                     9   \n",
       "1      0                 1       Cantagalo         ...                     0   \n",
       "2      0                 2  Rio de Janeiro         ...                   567   \n",
       "3      0                 2  Rio de Janeiro         ...                   567   \n",
       "4      0                 2  Rio de Janeiro         ...                   567   \n",
       "\n",
       "   marca  modelo  person_int  dia_view_prod  mes_view_prod  dia_sem_view_prod  \\\n",
       "0      6      70       10956             18              5                  4   \n",
       "1      0       1       10956              0              0                  0   \n",
       "2      8      15         365             22              5                  1   \n",
       "3      8      15         365             22              5                  1   \n",
       "4      8      15         365             22              5                  1   \n",
       "\n",
       "   dia_visit_user  mes_visit_user  dia_sem_visit_user  \n",
       "0              18               5                   4  \n",
       "1              18               5                   4  \n",
       "2               2               5                   2  \n",
       "3               2               5                   2  \n",
       "4               3               5                   3  \n",
       "\n",
       "[5 rows x 31 columns]"
      ]
     },
     "execution_count": 19,
     "metadata": {},
     "output_type": "execute_result"
    }
   ],
   "source": [
    "prediction_set = pd.read_csv('data/set_prediccion_21.csv')\n",
    "prediction_set.head()"
   ]
  },
  {
   "cell_type": "code",
   "execution_count": 20,
   "metadata": {},
   "outputs": [],
   "source": [
    "dfix_prediction = prediction_set.loc[:,['color', 'compras_prod', 'condition', 'country', 'device_type', 'new_vs_returning', 'operating_system_version', 'otros', 'region', 'screen_resolution', 'storage', 'visitas_sitio', 'vistas_prod', 'marca', 'modelo', 'dia_view_prod', 'mes_view_prod', 'dia_sem_view_prod', 'dia_visit_user', 'mes_visit_user', 'dia_sem_visit_user']]\n",
    "# dfix_prediction = prediction_set.loc[:,['condition', 'storage', 'color','compras_prod', 'vistas_prod', 'otros', 'new_vs_returning', 'region', 'country', 'device_type', 'screen_resolution','operating_system_version', 'browser_version', 'visitas_sitio','cant_compras', 'cant_vistas', 'cant_otros', 'cant_visitas_sitio','cant_eventos', 'marca', 'modelo', 'dia_view_prod','mes_view_prod', 'dia_sem_view_prod', 'dia_visit_user','mes_visit_user', 'dia_sem_visit_user']]\n",
    "# dfix_prediction = prediction_set.loc[:,['condition', 'storage', 'compras_prod', 'vistas_prod', 'otros', 'new_vs_returning', 'region', 'country', 'device_type', 'visitas_sitio', 'cant_eventos', 'marca', 'modelo', 'dia_view_prod','mes_view_prod', 'dia_visit_user','mes_visit_user','cant_compras', 'cant_vistas', 'cant_otros', 'cant_visitas_sitio',]]\n",
    "X_full_data = np.array(dfix_prediction)"
   ]
  },
  {
   "cell_type": "code",
   "execution_count": 21,
   "metadata": {},
   "outputs": [],
   "source": [
    "del dfix_prediction\n",
    "del X\n",
    "del y\n",
    "del X_train \n",
    "del X_test \n",
    "del y_train \n",
    "del y_test"
   ]
  },
  {
   "cell_type": "code",
   "execution_count": 22,
   "metadata": {},
   "outputs": [
    {
     "data": {
      "text/html": [
       "<div>\n",
       "<style scoped>\n",
       "    .dataframe tbody tr th:only-of-type {\n",
       "        vertical-align: middle;\n",
       "    }\n",
       "\n",
       "    .dataframe tbody tr th {\n",
       "        vertical-align: top;\n",
       "    }\n",
       "\n",
       "    .dataframe thead th {\n",
       "        text-align: right;\n",
       "    }\n",
       "</style>\n",
       "<table border=\"1\" class=\"dataframe\">\n",
       "  <thead>\n",
       "    <tr style=\"text-align: right;\">\n",
       "      <th></th>\n",
       "      <th>person</th>\n",
       "      <th>sku</th>\n",
       "      <th>condition</th>\n",
       "      <th>storage</th>\n",
       "      <th>color</th>\n",
       "      <th>compras_prod</th>\n",
       "      <th>vistas_prod</th>\n",
       "      <th>otros</th>\n",
       "      <th>new_vs_returning</th>\n",
       "      <th>city</th>\n",
       "      <th>...</th>\n",
       "      <th>marca</th>\n",
       "      <th>modelo</th>\n",
       "      <th>person_int</th>\n",
       "      <th>dia_view_prod</th>\n",
       "      <th>mes_view_prod</th>\n",
       "      <th>dia_sem_view_prod</th>\n",
       "      <th>dia_visit_user</th>\n",
       "      <th>mes_visit_user</th>\n",
       "      <th>dia_sem_visit_user</th>\n",
       "      <th>label</th>\n",
       "    </tr>\n",
       "  </thead>\n",
       "  <tbody>\n",
       "    <tr>\n",
       "      <th>0</th>\n",
       "      <td>4886f805</td>\n",
       "      <td>1770</td>\n",
       "      <td>3</td>\n",
       "      <td>4</td>\n",
       "      <td>28</td>\n",
       "      <td>1</td>\n",
       "      <td>0</td>\n",
       "      <td>0</td>\n",
       "      <td>1</td>\n",
       "      <td>Cantagalo</td>\n",
       "      <td>...</td>\n",
       "      <td>6</td>\n",
       "      <td>70</td>\n",
       "      <td>10956</td>\n",
       "      <td>18</td>\n",
       "      <td>5</td>\n",
       "      <td>4</td>\n",
       "      <td>18</td>\n",
       "      <td>5</td>\n",
       "      <td>4</td>\n",
       "      <td>0</td>\n",
       "    </tr>\n",
       "    <tr>\n",
       "      <th>1</th>\n",
       "      <td>4886f805</td>\n",
       "      <td>0</td>\n",
       "      <td>0</td>\n",
       "      <td>0</td>\n",
       "      <td>0</td>\n",
       "      <td>0</td>\n",
       "      <td>0</td>\n",
       "      <td>0</td>\n",
       "      <td>1</td>\n",
       "      <td>Cantagalo</td>\n",
       "      <td>...</td>\n",
       "      <td>0</td>\n",
       "      <td>1</td>\n",
       "      <td>10956</td>\n",
       "      <td>0</td>\n",
       "      <td>0</td>\n",
       "      <td>0</td>\n",
       "      <td>18</td>\n",
       "      <td>5</td>\n",
       "      <td>4</td>\n",
       "      <td>0</td>\n",
       "    </tr>\n",
       "    <tr>\n",
       "      <th>2</th>\n",
       "      <td>0297fc1e</td>\n",
       "      <td>1715</td>\n",
       "      <td>1</td>\n",
       "      <td>4</td>\n",
       "      <td>34</td>\n",
       "      <td>1</td>\n",
       "      <td>0</td>\n",
       "      <td>0</td>\n",
       "      <td>2</td>\n",
       "      <td>Rio de Janeiro</td>\n",
       "      <td>...</td>\n",
       "      <td>8</td>\n",
       "      <td>15</td>\n",
       "      <td>365</td>\n",
       "      <td>22</td>\n",
       "      <td>5</td>\n",
       "      <td>1</td>\n",
       "      <td>2</td>\n",
       "      <td>5</td>\n",
       "      <td>2</td>\n",
       "      <td>0</td>\n",
       "    </tr>\n",
       "    <tr>\n",
       "      <th>3</th>\n",
       "      <td>0297fc1e</td>\n",
       "      <td>1715</td>\n",
       "      <td>1</td>\n",
       "      <td>4</td>\n",
       "      <td>34</td>\n",
       "      <td>1</td>\n",
       "      <td>0</td>\n",
       "      <td>0</td>\n",
       "      <td>2</td>\n",
       "      <td>Rio de Janeiro</td>\n",
       "      <td>...</td>\n",
       "      <td>8</td>\n",
       "      <td>15</td>\n",
       "      <td>365</td>\n",
       "      <td>22</td>\n",
       "      <td>5</td>\n",
       "      <td>1</td>\n",
       "      <td>2</td>\n",
       "      <td>5</td>\n",
       "      <td>2</td>\n",
       "      <td>0</td>\n",
       "    </tr>\n",
       "    <tr>\n",
       "      <th>4</th>\n",
       "      <td>0297fc1e</td>\n",
       "      <td>1715</td>\n",
       "      <td>1</td>\n",
       "      <td>4</td>\n",
       "      <td>34</td>\n",
       "      <td>1</td>\n",
       "      <td>0</td>\n",
       "      <td>0</td>\n",
       "      <td>2</td>\n",
       "      <td>Rio de Janeiro</td>\n",
       "      <td>...</td>\n",
       "      <td>8</td>\n",
       "      <td>15</td>\n",
       "      <td>365</td>\n",
       "      <td>22</td>\n",
       "      <td>5</td>\n",
       "      <td>1</td>\n",
       "      <td>3</td>\n",
       "      <td>5</td>\n",
       "      <td>3</td>\n",
       "      <td>0</td>\n",
       "    </tr>\n",
       "  </tbody>\n",
       "</table>\n",
       "<p>5 rows × 32 columns</p>\n",
       "</div>"
      ],
      "text/plain": [
       "     person   sku  condition  storage  color  compras_prod  vistas_prod  \\\n",
       "0  4886f805  1770          3        4     28             1            0   \n",
       "1  4886f805     0          0        0      0             0            0   \n",
       "2  0297fc1e  1715          1        4     34             1            0   \n",
       "3  0297fc1e  1715          1        4     34             1            0   \n",
       "4  0297fc1e  1715          1        4     34             1            0   \n",
       "\n",
       "   otros  new_vs_returning            city  ...    marca  modelo  person_int  \\\n",
       "0      0                 1       Cantagalo  ...        6      70       10956   \n",
       "1      0                 1       Cantagalo  ...        0       1       10956   \n",
       "2      0                 2  Rio de Janeiro  ...        8      15         365   \n",
       "3      0                 2  Rio de Janeiro  ...        8      15         365   \n",
       "4      0                 2  Rio de Janeiro  ...        8      15         365   \n",
       "\n",
       "   dia_view_prod  mes_view_prod  dia_sem_view_prod  dia_visit_user  \\\n",
       "0             18              5                  4              18   \n",
       "1              0              0                  0              18   \n",
       "2             22              5                  1               2   \n",
       "3             22              5                  1               2   \n",
       "4             22              5                  1               3   \n",
       "\n",
       "   mes_visit_user  dia_sem_visit_user  label  \n",
       "0               5                   4      0  \n",
       "1               5                   4      0  \n",
       "2               5                   2      0  \n",
       "3               5                   2      0  \n",
       "4               5                   3      0  \n",
       "\n",
       "[5 rows x 32 columns]"
      ]
     },
     "execution_count": 22,
     "metadata": {},
     "output_type": "execute_result"
    }
   ],
   "source": [
    "pred_full_data = clf.predict(X_full_data)\n",
    "prediction_set['label'] = pred_full_data\n",
    "prediction_set.head()"
   ]
  },
  {
   "cell_type": "code",
   "execution_count": 23,
   "metadata": {},
   "outputs": [],
   "source": [
    "del X_full_data\n",
    "del pred_full_data"
   ]
  },
  {
   "cell_type": "markdown",
   "metadata": {},
   "source": [
    "# Resultado"
   ]
  },
  {
   "cell_type": "code",
   "execution_count": 24,
   "metadata": {},
   "outputs": [
    {
     "data": {
      "text/html": [
       "<div>\n",
       "<style scoped>\n",
       "    .dataframe tbody tr th:only-of-type {\n",
       "        vertical-align: middle;\n",
       "    }\n",
       "\n",
       "    .dataframe tbody tr th {\n",
       "        vertical-align: top;\n",
       "    }\n",
       "\n",
       "    .dataframe thead th {\n",
       "        text-align: right;\n",
       "    }\n",
       "</style>\n",
       "<table border=\"1\" class=\"dataframe\">\n",
       "  <thead>\n",
       "    <tr style=\"text-align: right;\">\n",
       "      <th></th>\n",
       "      <th>person</th>\n",
       "    </tr>\n",
       "  </thead>\n",
       "  <tbody>\n",
       "    <tr>\n",
       "      <th>0</th>\n",
       "      <td>4886f805</td>\n",
       "    </tr>\n",
       "    <tr>\n",
       "      <th>1</th>\n",
       "      <td>0297fc1e</td>\n",
       "    </tr>\n",
       "    <tr>\n",
       "      <th>2</th>\n",
       "      <td>2d681dd8</td>\n",
       "    </tr>\n",
       "    <tr>\n",
       "      <th>3</th>\n",
       "      <td>cccea85e</td>\n",
       "    </tr>\n",
       "    <tr>\n",
       "      <th>4</th>\n",
       "      <td>4c8a8b93</td>\n",
       "    </tr>\n",
       "  </tbody>\n",
       "</table>\n",
       "</div>"
      ],
      "text/plain": [
       "     person\n",
       "0  4886f805\n",
       "1  0297fc1e\n",
       "2  2d681dd8\n",
       "3  cccea85e\n",
       "4  4c8a8b93"
      ]
     },
     "execution_count": 24,
     "metadata": {},
     "output_type": "execute_result"
    }
   ],
   "source": [
    "result = pd.read_csv('data/trocafone_kaggle_test.csv')\n",
    "result.head()"
   ]
  },
  {
   "cell_type": "code",
   "execution_count": 25,
   "metadata": {},
   "outputs": [
    {
     "data": {
      "text/plain": [
       "person    19415\n",
       "dtype: int64"
      ]
     },
     "execution_count": 25,
     "metadata": {},
     "output_type": "execute_result"
    }
   ],
   "source": [
    "result.count()"
   ]
  },
  {
   "cell_type": "code",
   "execution_count": 26,
   "metadata": {},
   "outputs": [],
   "source": [
    "result = result.merge(prediction_set, how='inner', on='person')\n",
    "result = result[['person', 'label']]\n",
    "# result.fillna(0, inplace=True)\n",
    "result['label'] = result['label'].astype('int')"
   ]
  },
  {
   "cell_type": "code",
   "execution_count": 27,
   "metadata": {},
   "outputs": [
    {
     "data": {
      "text/plain": [
       "person    1298410\n",
       "label     1298410\n",
       "dtype: int64"
      ]
     },
     "execution_count": 27,
     "metadata": {},
     "output_type": "execute_result"
    }
   ],
   "source": [
    "result.count()"
   ]
  },
  {
   "cell_type": "code",
   "execution_count": 28,
   "metadata": {},
   "outputs": [
    {
     "data": {
      "text/plain": [
       "person    24009\n",
       "label     24009\n",
       "dtype: int64"
      ]
     },
     "execution_count": 28,
     "metadata": {},
     "output_type": "execute_result"
    }
   ],
   "source": [
    "result = result.drop_duplicates()\n",
    "result.count()"
   ]
  },
  {
   "cell_type": "markdown",
   "metadata": {},
   "source": [
    "## Criterio de Duplicados"
   ]
  },
  {
   "cell_type": "markdown",
   "metadata": {},
   "source": [
    "### OPCION 1"
   ]
  },
  {
   "cell_type": "code",
   "execution_count": 29,
   "metadata": {},
   "outputs": [
    {
     "data": {
      "text/plain": [
       "person    19415\n",
       "label     19415\n",
       "dtype: int64"
      ]
     },
     "execution_count": 29,
     "metadata": {},
     "output_type": "execute_result"
    }
   ],
   "source": [
    "# OPCION 1: eliminamos duplicados haciendo un groupby por person \n",
    "# quedandonos con label 1 si la suma es mayor a 0\n",
    "result1 = result.groupby('person').sum()\n",
    "result1.reset_index(inplace=True)\n",
    "result1[['label']] = result1[['label']].applymap(lambda x: 1 if x > 0 else 0)\n",
    "result1.count()"
   ]
  },
  {
   "cell_type": "code",
   "execution_count": 30,
   "metadata": {},
   "outputs": [
    {
     "data": {
      "text/plain": [
       "(4599, 2)"
      ]
     },
     "execution_count": 30,
     "metadata": {},
     "output_type": "execute_result"
    }
   ],
   "source": [
    "result1[result1['label'] == 1].shape"
   ]
  },
  {
   "cell_type": "code",
   "execution_count": 31,
   "metadata": {},
   "outputs": [
    {
     "data": {
      "text/plain": [
       "(14816, 2)"
      ]
     },
     "execution_count": 31,
     "metadata": {},
     "output_type": "execute_result"
    }
   ],
   "source": [
    "result1[result1['label'] == 0].shape"
   ]
  },
  {
   "cell_type": "code",
   "execution_count": 32,
   "metadata": {},
   "outputs": [
    {
     "data": {
      "text/html": [
       "<div>\n",
       "<style scoped>\n",
       "    .dataframe tbody tr th:only-of-type {\n",
       "        vertical-align: middle;\n",
       "    }\n",
       "\n",
       "    .dataframe tbody tr th {\n",
       "        vertical-align: top;\n",
       "    }\n",
       "\n",
       "    .dataframe thead th {\n",
       "        text-align: right;\n",
       "    }\n",
       "</style>\n",
       "<table border=\"1\" class=\"dataframe\">\n",
       "  <thead>\n",
       "    <tr style=\"text-align: right;\">\n",
       "      <th></th>\n",
       "      <th>person</th>\n",
       "      <th>label</th>\n",
       "    </tr>\n",
       "  </thead>\n",
       "  <tbody>\n",
       "    <tr>\n",
       "      <th>0</th>\n",
       "      <td>00091926</td>\n",
       "      <td>0</td>\n",
       "    </tr>\n",
       "    <tr>\n",
       "      <th>1</th>\n",
       "      <td>00091a7a</td>\n",
       "      <td>0</td>\n",
       "    </tr>\n",
       "    <tr>\n",
       "      <th>2</th>\n",
       "      <td>000ba417</td>\n",
       "      <td>1</td>\n",
       "    </tr>\n",
       "    <tr>\n",
       "      <th>3</th>\n",
       "      <td>000e4d9e</td>\n",
       "      <td>0</td>\n",
       "    </tr>\n",
       "    <tr>\n",
       "      <th>4</th>\n",
       "      <td>000e619d</td>\n",
       "      <td>0</td>\n",
       "    </tr>\n",
       "  </tbody>\n",
       "</table>\n",
       "</div>"
      ],
      "text/plain": [
       "     person  label\n",
       "0  00091926      0\n",
       "1  00091a7a      0\n",
       "2  000ba417      1\n",
       "3  000e4d9e      0\n",
       "4  000e619d      0"
      ]
     },
     "execution_count": 32,
     "metadata": {},
     "output_type": "execute_result"
    }
   ],
   "source": [
    "result1.head()"
   ]
  },
  {
   "cell_type": "code",
   "execution_count": 33,
   "metadata": {},
   "outputs": [
    {
     "data": {
      "text/html": [
       "<div>\n",
       "<style scoped>\n",
       "    .dataframe tbody tr th:only-of-type {\n",
       "        vertical-align: middle;\n",
       "    }\n",
       "\n",
       "    .dataframe tbody tr th {\n",
       "        vertical-align: top;\n",
       "    }\n",
       "\n",
       "    .dataframe thead th {\n",
       "        text-align: right;\n",
       "    }\n",
       "</style>\n",
       "<table border=\"1\" class=\"dataframe\">\n",
       "  <thead>\n",
       "    <tr style=\"text-align: right;\">\n",
       "      <th></th>\n",
       "      <th>person</th>\n",
       "      <th>label</th>\n",
       "    </tr>\n",
       "  </thead>\n",
       "  <tbody>\n",
       "    <tr>\n",
       "      <th>19410</th>\n",
       "      <td>fff1b11a</td>\n",
       "      <td>1</td>\n",
       "    </tr>\n",
       "    <tr>\n",
       "      <th>19411</th>\n",
       "      <td>fff1caee</td>\n",
       "      <td>0</td>\n",
       "    </tr>\n",
       "    <tr>\n",
       "      <th>19412</th>\n",
       "      <td>fff54d61</td>\n",
       "      <td>0</td>\n",
       "    </tr>\n",
       "    <tr>\n",
       "      <th>19413</th>\n",
       "      <td>fff72025</td>\n",
       "      <td>1</td>\n",
       "    </tr>\n",
       "    <tr>\n",
       "      <th>19414</th>\n",
       "      <td>fffd1246</td>\n",
       "      <td>0</td>\n",
       "    </tr>\n",
       "  </tbody>\n",
       "</table>\n",
       "</div>"
      ],
      "text/plain": [
       "         person  label\n",
       "19410  fff1b11a      1\n",
       "19411  fff1caee      0\n",
       "19412  fff54d61      0\n",
       "19413  fff72025      1\n",
       "19414  fffd1246      0"
      ]
     },
     "execution_count": 33,
     "metadata": {},
     "output_type": "execute_result"
    }
   ],
   "source": [
    "result1.tail()"
   ]
  },
  {
   "cell_type": "code",
   "execution_count": 34,
   "metadata": {},
   "outputs": [],
   "source": [
    "result1.to_csv('data/result_MLP_set21_var_features.csv', encoding='utf-8', index=False)"
   ]
  },
  {
   "cell_type": "markdown",
   "metadata": {},
   "source": [
    "### OPCION 2"
   ]
  },
  {
   "cell_type": "code",
   "execution_count": 36,
   "metadata": {},
   "outputs": [
    {
     "data": {
      "text/plain": [
       "person    19415\n",
       "label     19415\n",
       "dtype: int64"
      ]
     },
     "execution_count": 36,
     "metadata": {},
     "output_type": "execute_result"
    }
   ],
   "source": [
    "# OPCION 2: eliminamos duplicados haciendo un groupby por person\n",
    "# quedandonos con el valor del label que tanga mayor cantidad de 0s o 1s\n",
    "result2 = result\n",
    "result2['cantidad'] = 1 \n",
    "result2 = pd.DataFrame({'label': result.groupby('person').aggregate(sum)['label'], 'cantidad': result.groupby('person').aggregate(sum)['cantidad']}).reset_index()\n",
    "result2['criterio'] = (result2.label - (result2.cantidad/2))\n",
    "result2['label'] = result2['criterio'].apply(lambda x: 1 if (x >= 0) else 0)\n",
    "result2.drop(['criterio','cantidad'], axis=1, inplace=True)\n",
    "result2.count()"
   ]
  },
  {
   "cell_type": "code",
   "execution_count": 37,
   "metadata": {},
   "outputs": [
    {
     "data": {
      "text/plain": [
       "(3643, 2)"
      ]
     },
     "execution_count": 37,
     "metadata": {},
     "output_type": "execute_result"
    }
   ],
   "source": [
    "result2[result2['label'] == 1].shape"
   ]
  },
  {
   "cell_type": "code",
   "execution_count": 38,
   "metadata": {},
   "outputs": [
    {
     "data": {
      "text/plain": [
       "(15772, 2)"
      ]
     },
     "execution_count": 38,
     "metadata": {},
     "output_type": "execute_result"
    }
   ],
   "source": [
    "result2[result2['label'] == 0].shape"
   ]
  },
  {
   "cell_type": "code",
   "execution_count": 39,
   "metadata": {},
   "outputs": [
    {
     "data": {
      "text/html": [
       "<div>\n",
       "<style scoped>\n",
       "    .dataframe tbody tr th:only-of-type {\n",
       "        vertical-align: middle;\n",
       "    }\n",
       "\n",
       "    .dataframe tbody tr th {\n",
       "        vertical-align: top;\n",
       "    }\n",
       "\n",
       "    .dataframe thead th {\n",
       "        text-align: right;\n",
       "    }\n",
       "</style>\n",
       "<table border=\"1\" class=\"dataframe\">\n",
       "  <thead>\n",
       "    <tr style=\"text-align: right;\">\n",
       "      <th></th>\n",
       "      <th>person</th>\n",
       "      <th>label</th>\n",
       "    </tr>\n",
       "  </thead>\n",
       "  <tbody>\n",
       "    <tr>\n",
       "      <th>0</th>\n",
       "      <td>00091926</td>\n",
       "      <td>0</td>\n",
       "    </tr>\n",
       "    <tr>\n",
       "      <th>1</th>\n",
       "      <td>00091a7a</td>\n",
       "      <td>1</td>\n",
       "    </tr>\n",
       "    <tr>\n",
       "      <th>2</th>\n",
       "      <td>000ba417</td>\n",
       "      <td>0</td>\n",
       "    </tr>\n",
       "    <tr>\n",
       "      <th>3</th>\n",
       "      <td>000e4d9e</td>\n",
       "      <td>0</td>\n",
       "    </tr>\n",
       "    <tr>\n",
       "      <th>4</th>\n",
       "      <td>000e619d</td>\n",
       "      <td>0</td>\n",
       "    </tr>\n",
       "  </tbody>\n",
       "</table>\n",
       "</div>"
      ],
      "text/plain": [
       "     person  label\n",
       "0  00091926      0\n",
       "1  00091a7a      1\n",
       "2  000ba417      0\n",
       "3  000e4d9e      0\n",
       "4  000e619d      0"
      ]
     },
     "execution_count": 39,
     "metadata": {},
     "output_type": "execute_result"
    }
   ],
   "source": [
    "result2.head()"
   ]
  },
  {
   "cell_type": "code",
   "execution_count": 40,
   "metadata": {},
   "outputs": [
    {
     "data": {
      "text/html": [
       "<div>\n",
       "<style scoped>\n",
       "    .dataframe tbody tr th:only-of-type {\n",
       "        vertical-align: middle;\n",
       "    }\n",
       "\n",
       "    .dataframe tbody tr th {\n",
       "        vertical-align: top;\n",
       "    }\n",
       "\n",
       "    .dataframe thead th {\n",
       "        text-align: right;\n",
       "    }\n",
       "</style>\n",
       "<table border=\"1\" class=\"dataframe\">\n",
       "  <thead>\n",
       "    <tr style=\"text-align: right;\">\n",
       "      <th></th>\n",
       "      <th>person</th>\n",
       "      <th>label</th>\n",
       "    </tr>\n",
       "  </thead>\n",
       "  <tbody>\n",
       "    <tr>\n",
       "      <th>19410</th>\n",
       "      <td>fff1b11a</td>\n",
       "      <td>1</td>\n",
       "    </tr>\n",
       "    <tr>\n",
       "      <th>19411</th>\n",
       "      <td>fff1caee</td>\n",
       "      <td>0</td>\n",
       "    </tr>\n",
       "    <tr>\n",
       "      <th>19412</th>\n",
       "      <td>fff54d61</td>\n",
       "      <td>0</td>\n",
       "    </tr>\n",
       "    <tr>\n",
       "      <th>19413</th>\n",
       "      <td>fff72025</td>\n",
       "      <td>0</td>\n",
       "    </tr>\n",
       "    <tr>\n",
       "      <th>19414</th>\n",
       "      <td>fffd1246</td>\n",
       "      <td>0</td>\n",
       "    </tr>\n",
       "  </tbody>\n",
       "</table>\n",
       "</div>"
      ],
      "text/plain": [
       "         person  label\n",
       "19410  fff1b11a      1\n",
       "19411  fff1caee      0\n",
       "19412  fff54d61      0\n",
       "19413  fff72025      0\n",
       "19414  fffd1246      0"
      ]
     },
     "execution_count": 40,
     "metadata": {},
     "output_type": "execute_result"
    }
   ],
   "source": [
    "result2.tail()"
   ]
  },
  {
   "cell_type": "code",
   "execution_count": 41,
   "metadata": {},
   "outputs": [],
   "source": [
    "result2.to_csv('data/result_MLP_set17_two_labels.csv', encoding='utf-8', index=False)"
   ]
  },
  {
   "cell_type": "code",
   "execution_count": null,
   "metadata": {},
   "outputs": [],
   "source": []
  }
 ],
 "metadata": {
  "kernelspec": {
   "display_name": "Python 3",
   "language": "python",
   "name": "python3"
  },
  "language_info": {
   "codemirror_mode": {
    "name": "ipython",
    "version": 3
   },
   "file_extension": ".py",
   "mimetype": "text/x-python",
   "name": "python",
   "nbconvert_exporter": "python",
   "pygments_lexer": "ipython3",
   "version": "3.7.0"
  }
 },
 "nbformat": 4,
 "nbformat_minor": 2
}
