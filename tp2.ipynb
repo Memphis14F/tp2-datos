{
 "cells": [
  {
   "cell_type": "code",
   "execution_count": 16,
   "metadata": {},
   "outputs": [],
   "source": [
    "import pandas as pd\n",
    "import datetime\n",
    "from sklearn.neighbors import KNeighborsClassifier\n",
    "import numpy as np\n",
    "from sklearn.metrics import accuracy_score"
   ]
  },
  {
   "cell_type": "code",
   "execution_count": 35,
   "metadata": {},
   "outputs": [
    {
     "data": {
      "text/html": [
       "<div>\n",
       "<style scoped>\n",
       "    .dataframe tbody tr th:only-of-type {\n",
       "        vertical-align: middle;\n",
       "    }\n",
       "\n",
       "    .dataframe tbody tr th {\n",
       "        vertical-align: top;\n",
       "    }\n",
       "\n",
       "    .dataframe thead th {\n",
       "        text-align: right;\n",
       "    }\n",
       "</style>\n",
       "<table border=\"1\" class=\"dataframe\">\n",
       "  <thead>\n",
       "    <tr style=\"text-align: right;\">\n",
       "      <th></th>\n",
       "      <th>person</th>\n",
       "      <th>label</th>\n",
       "    </tr>\n",
       "  </thead>\n",
       "  <tbody>\n",
       "    <tr>\n",
       "      <th>0</th>\n",
       "      <td>0566e9c1</td>\n",
       "      <td>0</td>\n",
       "    </tr>\n",
       "    <tr>\n",
       "      <th>1</th>\n",
       "      <td>6ec7ee77</td>\n",
       "      <td>0</td>\n",
       "    </tr>\n",
       "    <tr>\n",
       "      <th>2</th>\n",
       "      <td>abe7a2fb</td>\n",
       "      <td>0</td>\n",
       "    </tr>\n",
       "    <tr>\n",
       "      <th>3</th>\n",
       "      <td>34728364</td>\n",
       "      <td>0</td>\n",
       "    </tr>\n",
       "    <tr>\n",
       "      <th>4</th>\n",
       "      <td>87ed62de</td>\n",
       "      <td>0</td>\n",
       "    </tr>\n",
       "  </tbody>\n",
       "</table>\n",
       "</div>"
      ],
      "text/plain": [
       "     person  label\n",
       "0  0566e9c1      0\n",
       "1  6ec7ee77      0\n",
       "2  abe7a2fb      0\n",
       "3  34728364      0\n",
       "4  87ed62de      0"
      ]
     },
     "execution_count": 35,
     "metadata": {},
     "output_type": "execute_result"
    }
   ],
   "source": [
    "personas= pd.read_csv('data/labels_training_set.csv', low_memory=False)\n",
    "personas.head()\n",
    "#la probabilidad de conversion no cambia segun el perfil de la persona? "
   ]
  },
  {
   "cell_type": "code",
   "execution_count": 5,
   "metadata": {
    "scrolled": true
   },
   "outputs": [
    {
     "data": {
      "text/plain": [
       "timestamp                   2341681\n",
       "event                       2341681\n",
       "person                      2341681\n",
       "url                          191131\n",
       "sku                         1320530\n",
       "model                       1321513\n",
       "condition                   1320530\n",
       "storage                     1320530\n",
       "color                       1320530\n",
       "skus                         505949\n",
       "search_term                  113763\n",
       "staticpage                    11201\n",
       "campaign_source              191286\n",
       "search_engine                106406\n",
       "channel                      204069\n",
       "new_vs_returning             204069\n",
       "city                         204069\n",
       "region                       204069\n",
       "country                      204069\n",
       "device_type                  204069\n",
       "screen_resolution            204066\n",
       "operating_system_version     204069\n",
       "browser_version              204069\n",
       "dtype: int64"
      ]
     },
     "execution_count": 5,
     "metadata": {},
     "output_type": "execute_result"
    }
   ],
   "source": [
    "features = pd.read_csv('data/events_up_to_01062018.csv', low_memory= False)\n",
    "features.count()"
   ]
  },
  {
   "cell_type": "code",
   "execution_count": 30,
   "metadata": {
    "scrolled": true
   },
   "outputs": [
    {
     "name": "stdout",
     "output_type": "stream",
     "text": [
      "(94875, 9)\n",
      "# 1: 0.760539629005059\n",
      "# 2: 0.9376053962900506\n",
      "# 3: 0.8724704890387859\n",
      "# 4: 0.9364460370994941\n",
      "# 5: 0.8544477234401349\n",
      "# 6: 0.9256956155143339\n",
      "# 7: 0.922322934232715\n",
      "# 8: 0.9406618887015177\n",
      "# 9: 0.9406618887015177\n",
      "# 10: 0.9409780775716695\n",
      "# 11: 0.9409780775716695\n",
      "# 12: 0.9409780775716695\n",
      "# 13: 0.9409780775716695\n",
      "# 14: 0.9409780775716695\n",
      "# 15: 0.9409780775716695\n",
      "# 16: 0.9409780775716695\n",
      "# 17: 0.9409780775716695\n",
      "# 18: 0.9409780775716695\n",
      "# 19: 0.9409780775716695\n"
     ]
    }
   ],
   "source": [
    "training_set = personas.merge(features, on = 'person', how = 'left')\n",
    "training_set = training_set[['event','person','timestamp','label','url']]\n",
    "training_set = training_set.dropna(0,how = 'any')\n",
    "training_set['url'] = training_set.url.apply(lambda x: x.split('/')[-1])\n",
    "training_set['url'] = training_set.url.apply(lambda x: x.replace('','nulo'))\n",
    "training_set_list = training_set.values.tolist()\n",
    "\n",
    "\n",
    "\n",
    "i=32\n",
    "dic={}\n",
    "\n",
    "for lista in training_set_list:\n",
    "    for element in lista:\n",
    "        if type(element) != float:\n",
    "            if element not in dic:\n",
    "                dic[element]=i\n",
    "                i+=1\n",
    "#print(training_set.timestamp)\n",
    "\n",
    "training_set[['event','person','url']] = training_set[['event','person','url']].applymap(lambda x: dic[x] if (type(x) != float) else x)\n",
    "training_set['timestamp'] = pd.to_datetime(training_set.timestamp, format = '%Y-%m-%d %H:%M:%S')\n",
    "training_set[\"dia\"] = training_set['timestamp'].apply(lambda x: x.day)\n",
    "\n",
    "training_set = training_set.drop('timestamp',1)\n",
    "\n",
    "train_set = training_set.iloc[:train,:]\n",
    "validation_set = training_set.iloc[train:,:]\n",
    "\n",
    "y_train = np.array(train_set['label'])\n",
    "x_train = train_set.values\n",
    "\n",
    "y_test = np.array(validation_set['label'])\n",
    "x_test = validation_set.values\n",
    "del train_set['label']\n",
    "del validation_set['label']\n",
    "\n",
    "print(training_set.shape)\n",
    "\n",
    "train = int(94875*0.65)\n",
    "\n",
    "\n",
    "train_set = training_set.iloc[:train,:]\n",
    "validation_set = training_set.iloc[train:,:]\n",
    "\n",
    "\n",
    "for i in range(1, 20):    \n",
    "    knn = KNeighborsClassifier(n_neighbors=i) \n",
    "    knn.fit(x_train, y_train)                   \n",
    "    pred = knn.predict(x_test)              \n",
    "    print (\"# \" + str(i) + \": \" + str(accuracy_score(y_test, pred)))\n",
    "    "
   ]
  },
  {
   "cell_type": "code",
   "execution_count": 3,
   "metadata": {},
   "outputs": [
    {
     "ename": "NameError",
     "evalue": "name 'pd' is not defined",
     "output_type": "error",
     "traceback": [
      "\u001b[1;31m---------------------------------------------------------------------------\u001b[0m",
      "\u001b[1;31mNameError\u001b[0m                                 Traceback (most recent call last)",
      "\u001b[1;32m<ipython-input-3-aa10f2263da4>\u001b[0m in \u001b[0;36m<module>\u001b[1;34m()\u001b[0m\n\u001b[1;32m----> 1\u001b[1;33m \u001b[0mresult\u001b[0m \u001b[1;33m=\u001b[0m \u001b[0mpd\u001b[0m\u001b[1;33m.\u001b[0m\u001b[0mread_csv\u001b[0m\u001b[1;33m(\u001b[0m\u001b[1;34m'data/trocafone_kaggle_test.csv'\u001b[0m\u001b[1;33m)\u001b[0m\u001b[1;33m\u001b[0m\u001b[0m\n\u001b[0m\u001b[0;32m      2\u001b[0m \u001b[1;33m\u001b[0m\u001b[0m\n\u001b[0;32m      3\u001b[0m \u001b[0mprediccion_set\u001b[0m \u001b[1;33m=\u001b[0m \u001b[0mresult\u001b[0m\u001b[1;33m.\u001b[0m\u001b[0mmerge\u001b[0m\u001b[1;33m(\u001b[0m\u001b[0mfeatures\u001b[0m\u001b[1;33m,\u001b[0m \u001b[0mon\u001b[0m \u001b[1;33m=\u001b[0m \u001b[1;34m'person'\u001b[0m\u001b[1;33m,\u001b[0m \u001b[0mhow\u001b[0m \u001b[1;33m=\u001b[0m \u001b[1;34m'inner'\u001b[0m\u001b[1;33m)\u001b[0m\u001b[1;33m\u001b[0m\u001b[0m\n\u001b[0;32m      4\u001b[0m \u001b[0mprediccion_set\u001b[0m \u001b[1;33m=\u001b[0m \u001b[0mprediccion_set\u001b[0m\u001b[1;33m[\u001b[0m\u001b[1;33m[\u001b[0m\u001b[1;34m'event'\u001b[0m\u001b[1;33m,\u001b[0m\u001b[1;34m'person'\u001b[0m\u001b[1;33m,\u001b[0m\u001b[1;34m'timestamp'\u001b[0m\u001b[1;33m,\u001b[0m\u001b[1;34m'url'\u001b[0m\u001b[1;33m]\u001b[0m\u001b[1;33m]\u001b[0m\u001b[1;33m\u001b[0m\u001b[0m\n\u001b[0;32m      5\u001b[0m \u001b[0mprediccion_set\u001b[0m \u001b[1;33m=\u001b[0m \u001b[0mprediccion_set\u001b[0m\u001b[1;33m.\u001b[0m\u001b[0mfillna\u001b[0m\u001b[1;33m(\u001b[0m\u001b[1;36m0\u001b[0m\u001b[1;33m,\u001b[0m\u001b[0minplace\u001b[0m \u001b[1;33m=\u001b[0m \u001b[1;32mTrue\u001b[0m\u001b[1;33m)\u001b[0m\u001b[1;33m\u001b[0m\u001b[0m\n",
      "\u001b[1;31mNameError\u001b[0m: name 'pd' is not defined"
     ]
    }
   ],
   "source": [
    "result = pd.read_csv('data/trocafone_kaggle_test.csv')\n",
    "\n",
    "prediccion_set = result.merge(features, on = 'person', how = 'inner')\n",
    "prediccion_set = prediccion_set[['event','person','timestamp','url']]\n",
    "prediccion_set = prediccion_set.fillna(0,inplace = True)\n",
    "prediccion_set['url'] = prediccion_set.url.apply(lambda x: x.split('/')[-1])\n",
    "prediccion_set['url'] = prediccion_set.url.apply(lambda x: x.replace('','nulo'))\n",
    "prediccion_set_list = prediccion_set.values.tolist()\n",
    "i=32\n",
    "dic={}\n",
    "\n",
    "for lista in prediccion_set_list:\n",
    "    for element in lista:\n",
    "        if not (str(element).isnumeric()):\n",
    "            if element not in dic:\n",
    "                dic[element]=i\n",
    "                i+=1\n",
    "#print(prediccion_set.timestamp)\n",
    "\n",
    "prediccion_set[['event','person','url']] = prediccion_set[['event','person','url']].applymap(lambda x: dic[x] if (type(x) != float) else x)\n",
    "prediccion_set['timestamp'] = pd.to_datetime(prediccion_set.timestamp, format = '%Y-%m-%d %H:%M:%S')\n",
    "prediccion_set[\"dia\"] = prediccion_set['timestamp'].apply(lambda x: x.day)\n",
    "prediccion_set = prediccion_set.drop('timestamp',1)\n",
    "prediction_set['label'] = clf.predict(prediccion_set.values)\n",
    "\n",
    "\n",
    "\n",
    "prediccion_set = prediccion_set[['person', 'label']]\n",
    "prediccion_set.fillna(0, inplace=True)\n",
    "prediccion_set['label'] = prediccion_set['label'].astype('int')\n",
    "\n",
    "\n",
    "\n",
    "prediccion_set = prediccion_set.groupby('person').sum()\n",
    "prediccion_set.reset_index(inplace=True)\n",
    "prediccion_set[['label']] = prediccion_set[['label']].applymap(lambda x: 1 if x > 0 else 0)\n",
    "\n",
    "\n",
    "\n",
    "\n",
    "\n",
    "print(prediccion_set[prediccion_set['label'] == 1])\n",
    "print(prediccion_set[prediccion_set['label'] == 0])\n",
    "\n",
    "\n"
   ]
  },
  {
   "cell_type": "code",
   "execution_count": null,
   "metadata": {},
   "outputs": [],
   "source": []
  }
 ],
 "metadata": {
  "kernelspec": {
   "display_name": "Python 3",
   "language": "python",
   "name": "python3"
  },
  "language_info": {
   "codemirror_mode": {
    "name": "ipython",
    "version": 3
   },
   "file_extension": ".py",
   "mimetype": "text/x-python",
   "name": "python",
   "nbconvert_exporter": "python",
   "pygments_lexer": "ipython3",
   "version": "3.7.0"
  }
 },
 "nbformat": 4,
 "nbformat_minor": 2
}
