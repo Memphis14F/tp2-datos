{
 "cells": [
  {
   "cell_type": "code",
   "execution_count": 12,
   "metadata": {},
   "outputs": [
    {
     "ename": "ModuleNotFoundError",
     "evalue": "No module named 'sklearn'",
     "output_type": "error",
     "traceback": [
      "\u001b[0;31m---------------------------------------------------------------------------\u001b[0m",
      "\u001b[0;31mModuleNotFoundError\u001b[0m                       Traceback (most recent call last)",
      "\u001b[0;32m<ipython-input-12-e88d0d64b6d9>\u001b[0m in \u001b[0;36m<module>\u001b[0;34m()\u001b[0m\n\u001b[1;32m      1\u001b[0m \u001b[0;32mimport\u001b[0m \u001b[0mpandas\u001b[0m \u001b[0;32mas\u001b[0m \u001b[0mpd\u001b[0m\u001b[0;34m\u001b[0m\u001b[0m\n\u001b[1;32m      2\u001b[0m \u001b[0;32mimport\u001b[0m \u001b[0mdatetime\u001b[0m\u001b[0;34m\u001b[0m\u001b[0m\n\u001b[0;32m----> 3\u001b[0;31m \u001b[0;32mfrom\u001b[0m \u001b[0msklearn\u001b[0m\u001b[0;34m.\u001b[0m\u001b[0mensemble\u001b[0m \u001b[0;32mimport\u001b[0m \u001b[0mRandomForestRegressor\u001b[0m\u001b[0;34m\u001b[0m\u001b[0m\n\u001b[0m",
      "\u001b[0;31mModuleNotFoundError\u001b[0m: No module named 'sklearn'"
     ]
    }
   ],
   "source": [
    "import pandas as pd\n",
    "import datetime\n",
    "from sklearn.ensemble import RandomForestRegressor"
   ]
  },
  {
   "cell_type": "code",
   "execution_count": 6,
   "metadata": {},
   "outputs": [
    {
     "data": {
      "text/html": [
       "<div>\n",
       "<style scoped>\n",
       "    .dataframe tbody tr th:only-of-type {\n",
       "        vertical-align: middle;\n",
       "    }\n",
       "\n",
       "    .dataframe tbody tr th {\n",
       "        vertical-align: top;\n",
       "    }\n",
       "\n",
       "    .dataframe thead th {\n",
       "        text-align: right;\n",
       "    }\n",
       "</style>\n",
       "<table border=\"1\" class=\"dataframe\">\n",
       "  <thead>\n",
       "    <tr style=\"text-align: right;\">\n",
       "      <th></th>\n",
       "      <th>person</th>\n",
       "      <th>label</th>\n",
       "    </tr>\n",
       "  </thead>\n",
       "  <tbody>\n",
       "    <tr>\n",
       "      <th>0</th>\n",
       "      <td>0566e9c1</td>\n",
       "      <td>0</td>\n",
       "    </tr>\n",
       "    <tr>\n",
       "      <th>1</th>\n",
       "      <td>6ec7ee77</td>\n",
       "      <td>0</td>\n",
       "    </tr>\n",
       "    <tr>\n",
       "      <th>2</th>\n",
       "      <td>abe7a2fb</td>\n",
       "      <td>0</td>\n",
       "    </tr>\n",
       "    <tr>\n",
       "      <th>3</th>\n",
       "      <td>34728364</td>\n",
       "      <td>0</td>\n",
       "    </tr>\n",
       "    <tr>\n",
       "      <th>4</th>\n",
       "      <td>87ed62de</td>\n",
       "      <td>0</td>\n",
       "    </tr>\n",
       "  </tbody>\n",
       "</table>\n",
       "</div>"
      ],
      "text/plain": [
       "     person  label\n",
       "0  0566e9c1      0\n",
       "1  6ec7ee77      0\n",
       "2  abe7a2fb      0\n",
       "3  34728364      0\n",
       "4  87ed62de      0"
      ]
     },
     "execution_count": 6,
     "metadata": {},
     "output_type": "execute_result"
    }
   ],
   "source": [
    "\n",
    "personas= pd.read_csv('labels_training_set.csv')\n",
    "personas.head()\n",
    "#la probabilidad de conversion no cambia segun el perfil de la persona? "
   ]
  },
  {
   "cell_type": "code",
   "execution_count": 3,
   "metadata": {
    "scrolled": true
   },
   "outputs": [
    {
     "data": {
      "text/plain": [
       "timestamp                   2341681\n",
       "event                       2341681\n",
       "person                      2341681\n",
       "url                          191131\n",
       "sku                         1320530\n",
       "model                       1321513\n",
       "condition                   1320530\n",
       "storage                     1320530\n",
       "color                       1320530\n",
       "skus                         505949\n",
       "search_term                  113763\n",
       "staticpage                    11201\n",
       "campaign_source              191286\n",
       "search_engine                106406\n",
       "channel                      204069\n",
       "new_vs_returning             204069\n",
       "city                         204069\n",
       "region                       204069\n",
       "country                      204069\n",
       "device_type                  204069\n",
       "screen_resolution            204066\n",
       "operating_system_version     204069\n",
       "browser_version              204069\n",
       "dtype: int64"
      ]
     },
     "execution_count": 3,
     "metadata": {},
     "output_type": "execute_result"
    }
   ],
   "source": [
    "features = pd.read_csv('events_up_to_01062018.csv', low_memory= False)\n",
    "features.count()"
   ]
  },
  {
   "cell_type": "code",
   "execution_count": 86,
   "metadata": {
    "scrolled": true
   },
   "outputs": [
    {
     "name": "stdout",
     "output_type": "stream",
     "text": [
      "event      85387\n",
      "person     85387\n",
      "label      85387\n",
      "url        85387\n",
      "dia        85387\n",
      "mes        85387\n",
      "hora       85387\n",
      "minuto     85387\n",
      "segundo    85387\n",
      "dtype: int64\n",
      "event      9488\n",
      "person     9488\n",
      "label      9488\n",
      "url        9488\n",
      "dia        9488\n",
      "mes        9488\n",
      "hora       9488\n",
      "minuto     9488\n",
      "segundo    9488\n",
      "dtype: int64\n"
     ]
    }
   ],
   "source": [
    "training_set = personas.merge(features, on = 'person', how = 'left')\n",
    "training_set = training_set[['event','person','timestamp','label','url']]\n",
    "training_set = training_set.dropna(0,how = 'any')\n",
    "training_set['url'] = training_set.url.apply(lambda x: x.split('/')[-1])\n",
    "training_set['url'] = training_set.url.apply(lambda x: x.replace('','nulo'))\n",
    "training_set_list = training_set.values.tolist()\n",
    "\n",
    "\n",
    "\n",
    "i=32\n",
    "dic={}\n",
    "\n",
    "for lista in training_set_list:\n",
    "    for element in lista:\n",
    "        if type(element) != float:\n",
    "            if element not in dic:\n",
    "                dic[element]=i\n",
    "                i+=1\n",
    "#print(training_set.timestamp)\n",
    "\n",
    "training_set[['event','person','url']] = training_set[['event','person','url']].applymap(lambda x: dic[x] if (type(x) != float) else x)\n",
    "training_set['timestamp'] = pd.to_datetime(training_set.timestamp, format = '%Y-%m-%d %H:%M:%S')\n",
    "training_set[\"dia\"] = training_set['timestamp'].apply(lambda x: x.day)\n",
    "training_set['mes'] = training_set['timestamp'].apply(lambda x: x.month)\n",
    "training_set['hora'] = training_set['timestamp'].apply(lambda x: x.hour)\n",
    "training_set['minuto'] = training_set['timestamp'].apply(lambda x: x.minute)\n",
    "training_set['segundo'] = training_set['timestamp'].apply(lambda x: x.second)\n",
    "training_set = training_set.drop('timestamp',1)\n",
    "\n",
    "train = int(94875*0.90)\n",
    "\n",
    "train_set = training_set.iloc[:train,:]\n",
    "validation_set = training_set.iloc[train:,:]\n",
    "\n",
    "\n",
    "print(train_set.count())\n",
    "print(validation_set.count())\n",
    "\n"
   ]
  },
  {
   "cell_type": "code",
   "execution_count": null,
   "metadata": {},
   "outputs": [],
   "source": []
  },
  {
   "cell_type": "code",
   "execution_count": null,
   "metadata": {},
   "outputs": [],
   "source": []
  }
 ],
 "metadata": {
  "kernelspec": {
   "display_name": "Python 3",
   "language": "python",
   "name": "python3"
  },
  "language_info": {
   "codemirror_mode": {
    "name": "ipython",
    "version": 3
   },
   "file_extension": ".py",
   "mimetype": "text/x-python",
   "name": "python",
   "nbconvert_exporter": "python",
   "pygments_lexer": "ipython3",
   "version": "3.6.5"
  }
 },
 "nbformat": 4,
 "nbformat_minor": 2
}
