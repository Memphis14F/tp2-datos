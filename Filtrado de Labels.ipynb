{
 "cells": [
  {
   "cell_type": "code",
   "execution_count": 49,
   "metadata": {},
   "outputs": [],
   "source": [
    "import pandas as pd\n",
    "from sklearn import preprocessing\n",
    "import matplotlib.pyplot as plt\n",
    "\n",
    "personas_entrenar = pd.read_csv('data/labels_training_set.csv', low_memory=False)\n",
    "informacion = pd.read_csv('data/events_up_to_01062018.csv', low_memory= False)\n",
    "info_clasificar = personas_entrenar.merge(informacion, on = 'person', how = 'inner')"
   ]
  },
  {
   "cell_type": "code",
   "execution_count": 55,
   "metadata": {},
   "outputs": [
    {
     "name": "stdout",
     "output_type": "stream",
     "text": [
      "person        980\n",
      "frecuencia    980\n",
      "label         980\n",
      "dtype: int64\n",
      "         person  frecuencia  label\n",
      "15061  c7cc2c23        1561      1\n",
      "4568   3cd434ec        1480      1\n",
      "1776   171e75cb        1212      1\n",
      "13981  b9628c41        1166      1\n",
      "17343  e55f7d70        1055      1\n",
      "18343  f2408126         991      1\n",
      "16216  d6db0770         859      1\n",
      "3525   2f729bc3         845      1\n",
      "9966   846fde56         833      1\n",
      "11694  9b8d001b         825      1\n",
      "person        18434\n",
      "frecuencia    18434\n",
      "label         18434\n",
      "dtype: int64\n",
      "         person  frecuencia  label\n",
      "19409  ffee0f18        3458      0\n",
      "11805  9ccf882a        2850      0\n",
      "8083   6abd2bf1        2844      0\n",
      "13379  b1f4dbf6        2475      0\n",
      "18841  f8b80f26        2163      0\n",
      "8228   6ca3126e        2006      0\n",
      "11401  97b0c0d1        1933      0\n",
      "14460  bfb74b38        1915      0\n",
      "15145  c8e25442        1870      0\n",
      "211    02f14240        1798      0\n",
      "99684\n",
      "1072202\n"
     ]
    },
    {
     "data": {
      "image/png": "[encoded data removed]",
      "text/plain": [
       "<Figure size 432x288 with 1 Axes>"
      ]
     },
     "metadata": {
      "needs_background": "light"
     },
     "output_type": "display_data"
    }
   ],
   "source": [
    "info = personas_entrenar.merge(informacion, on = 'person', how = 'inner')\n",
    "info = info[['person','label']]\n",
    "info['frecuencia'] = 1\n",
    "data = pd.DataFrame({'frecuencia': info.groupby('person').aggregate(sum)['frecuencia'],'label': info.groupby('person').aggregate(sum)['label']}).reset_index()\n",
    "data['label'] = data.label.apply(lambda x: 1 if x > 0 else 0)\n",
    "data = data.sort_values(by= 'frecuencia', ascending= False)\n",
    "#info.groupby('person').sum()['frecuencia'].sort().plot(figsize=(14,4));\n",
    "\n",
    "#data= data[(data['label'] == 1) | ((data['frecuencia'] < 250) & (data['label'] == 0))]\n",
    "\n",
    "\n",
    "data_1 = data[data['label'] == 1]\n",
    "data_0 = data[data['label'] == 0]\n",
    "\n",
    "\n",
    "print(data_1.count())\n",
    "print(data_1.head(10))\n",
    "\n",
    "print(data_0.count())\n",
    "print(data_0.head(10))\n",
    "print(data_1['frecuencia'].sum())\n",
    "print(data_0['frecuencia'].sum())\n",
    "\n",
    "plt.plot(data_0['frecuencia'].tolist())\n",
    "plt.plot(data_1['frecuencia'].tolist())\n",
    "plt.ylabel('Events')\n",
    "plt.xlabel('Personas')\n",
    "plt.show()\n"
   ]
  },
  {
   "cell_type": "code",
   "execution_count": null,
   "metadata": {},
   "outputs": [],
   "source": [
    "df = pd.DataFrame()"
   ]
  }
 ],
 "metadata": {
  "kernelspec": {
   "display_name": "Python 3",
   "language": "python",
   "name": "python3"
  },
  "language_info": {
   "codemirror_mode": {
    "name": "ipython",
    "version": 3
   },
   "file_extension": ".py",
   "mimetype": "text/x-python",
   "name": "python",
   "nbconvert_exporter": "python",
   "pygments_lexer": "ipython3",
   "version": "3.7.0"
  }
 },
 "nbformat": 4,
 "nbformat_minor": 2
}
