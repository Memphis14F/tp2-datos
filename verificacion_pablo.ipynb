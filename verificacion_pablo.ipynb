{
 "cells": [
  {
   "cell_type": "code",
   "execution_count": 1,
   "metadata": {},
   "outputs": [],
   "source": [
    "import pandas as pd\n",
    "import numpy as np"
   ]
  },
  {
   "cell_type": "code",
   "execution_count": 2,
   "metadata": {},
   "outputs": [],
   "source": [
    "personas_entrenar = pd.read_csv('data/labels_training_set.csv', low_memory=False)\n",
    "informacion = pd.read_csv('data/events_up_to_01062018.csv', low_memory= False)\n",
    "personas_adivinar = pd.read_csv('data/trocafone_kaggle_test.csv', low_memory = False)"
   ]
  },
  {
   "cell_type": "code",
   "execution_count": 3,
   "metadata": {},
   "outputs": [
    {
     "name": "stdout",
     "output_type": "stream",
     "text": [
      "19414\n",
      "19415\n"
     ]
    }
   ],
   "source": [
    "print(personas_entrenar.person.count())\n",
    "print(personas_adivinar.person.count())"
   ]
  },
  {
   "cell_type": "code",
   "execution_count": 4,
   "metadata": {},
   "outputs": [
    {
     "data": {
      "text/plain": [
       "count      1169795\n",
       "unique       19415\n",
       "top       c76b8417\n",
       "freq          4438\n",
       "Name: person, dtype: object"
      ]
     },
     "execution_count": 4,
     "metadata": {},
     "output_type": "execute_result"
    }
   ],
   "source": [
    "informacion.drop(['url','skus','city','search_engine','campaign_source','channel'], inplace=True, axis=1)\n",
    "eventos = personas_adivinar.merge(informacion, on = 'person', how='inner')\n",
    "eventos.person.describe()"
   ]
  },
  {
   "cell_type": "code",
   "execution_count": 5,
   "metadata": {},
   "outputs": [
    {
     "name": "stdout",
     "output_type": "stream",
     "text": [
      "                   person  timestamp     sku   model  condition  storage  \\\n",
      "event                                                                      \n",
      "ad campaign hit     96390      96390       0       0          0        0   \n",
      "brand listing      110319     110319       0       0          0        0   \n",
      "checkout            32776      32776   32776   32776      32776    32776   \n",
      "conversion           3527       3527    3527    3527       3527     3527   \n",
      "generic listing     79723      79723       0       0          0        0   \n",
      "lead                  552        552       0     552          0        0   \n",
      "search engine hit   53577      53577       0       0          0        0   \n",
      "searched products   66729      66729       0       0          0        0   \n",
      "staticpage           5541       5541       0       0          0        0   \n",
      "viewed product     618891     618891  618891  618891     618891   618891   \n",
      "visited site       101770     101770       0       0          0        0   \n",
      "\n",
      "                    color  search_term  staticpage  new_vs_returning  region  \\\n",
      "event                                                                          \n",
      "ad campaign hit         0            0           0                 0       0   \n",
      "brand listing           0            0           0                 0       0   \n",
      "checkout            32776            0           0                 0       0   \n",
      "conversion           3527            0           0                 0       0   \n",
      "generic listing         0            0           0                 0       0   \n",
      "lead                    0            0           0                 0       0   \n",
      "search engine hit       0            0           0                 0       0   \n",
      "searched products       0        57989           0                 0       0   \n",
      "staticpage              0            0        5541                 0       0   \n",
      "viewed product     618891            0           0                 0       0   \n",
      "visited site            0            0           0            101770  101770   \n",
      "\n",
      "                   country  device_type  screen_resolution  \\\n",
      "event                                                        \n",
      "ad campaign hit          0            0                  0   \n",
      "brand listing            0            0                  0   \n",
      "checkout                 0            0                  0   \n",
      "conversion               0            0                  0   \n",
      "generic listing          0            0                  0   \n",
      "lead                     0            0                  0   \n",
      "search engine hit        0            0                  0   \n",
      "searched products        0            0                  0   \n",
      "staticpage               0            0                  0   \n",
      "viewed product           0            0                  0   \n",
      "visited site        101770       101770             101769   \n",
      "\n",
      "                   operating_system_version  browser_version  \n",
      "event                                                         \n",
      "ad campaign hit                           0                0  \n",
      "brand listing                             0                0  \n",
      "checkout                                  0                0  \n",
      "conversion                                0                0  \n",
      "generic listing                           0                0  \n",
      "lead                                      0                0  \n",
      "search engine hit                         0                0  \n",
      "searched products                         0                0  \n",
      "staticpage                                0                0  \n",
      "viewed product                            0                0  \n",
      "visited site                         101770           101770  \n"
     ]
    }
   ],
   "source": [
    "print(eventos.groupby('event').count())"
   ]
  },
  {
   "cell_type": "code",
   "execution_count": 6,
   "metadata": {},
   "outputs": [
    {
     "data": {
      "text/plain": [
       "count       953099\n",
       "unique       19415\n",
       "top       5059f7fd\n",
       "freq          2932\n",
       "Name: person, dtype: object"
      ]
     },
     "execution_count": 6,
     "metadata": {},
     "output_type": "execute_result"
    }
   ],
   "source": [
    "eventos_personas_predecir = eventos[(eventos['event'] == 'visited site') | (eventos['event'] == 'viewed product') | (eventos['event'] == 'conversion') | (eventos['event'] == 'checkout') | (eventos['event'] == 'brand listing') | (eventos['event'] == 'generic listing') | (eventos['event'] == 'lead') | (eventos['event'] == 'staticpage') ]                                                                      \n",
    "eventos_personas_predecir.person.describe()"
   ]
  },
  {
   "cell_type": "code",
   "execution_count": 7,
   "metadata": {},
   "outputs": [
    {
     "name": "stdout",
     "output_type": "stream",
     "text": [
      "                 person  timestamp     sku   model  condition  storage  \\\n",
      "event                                                                    \n",
      "brand listing    110319     110319       0       0          0        0   \n",
      "checkout          32776      32776   32776   32776      32776    32776   \n",
      "conversion         3527       3527    3527    3527       3527     3527   \n",
      "generic listing   79723      79723       0       0          0        0   \n",
      "lead                552        552       0     552          0        0   \n",
      "staticpage         5541       5541       0       0          0        0   \n",
      "viewed product   618891     618891  618891  618891     618891   618891   \n",
      "visited site     101770     101770       0       0          0        0   \n",
      "\n",
      "                  color  search_term  staticpage  new_vs_returning  region  \\\n",
      "event                                                                        \n",
      "brand listing         0            0           0                 0       0   \n",
      "checkout          32776            0           0                 0       0   \n",
      "conversion         3527            0           0                 0       0   \n",
      "generic listing       0            0           0                 0       0   \n",
      "lead                  0            0           0                 0       0   \n",
      "staticpage            0            0        5541                 0       0   \n",
      "viewed product   618891            0           0                 0       0   \n",
      "visited site          0            0           0            101770  101770   \n",
      "\n",
      "                 country  device_type  screen_resolution  \\\n",
      "event                                                      \n",
      "brand listing          0            0                  0   \n",
      "checkout               0            0                  0   \n",
      "conversion             0            0                  0   \n",
      "generic listing        0            0                  0   \n",
      "lead                   0            0                  0   \n",
      "staticpage             0            0                  0   \n",
      "viewed product         0            0                  0   \n",
      "visited site      101770       101770             101769   \n",
      "\n",
      "                 operating_system_version  browser_version  \n",
      "event                                                       \n",
      "brand listing                           0                0  \n",
      "checkout                                0                0  \n",
      "conversion                              0                0  \n",
      "generic listing                         0                0  \n",
      "lead                                    0                0  \n",
      "staticpage                              0                0  \n",
      "viewed product                          0                0  \n",
      "visited site                       101770           101770  \n"
     ]
    }
   ],
   "source": [
    "print(eventos_personas_predecir.groupby('event').count())"
   ]
  },
  {
   "cell_type": "code",
   "execution_count": 14,
   "metadata": {},
   "outputs": [],
   "source": [
    "conversion = eventos[(eventos['event'] == 'conversion')]\n",
    "checkout = eventos[(eventos['event'] == 'checkout')]\n",
    "viewed_product = eventos[(eventos['event'] == 'viewed product')]\n",
    "visited_site = eventos[(eventos['event'] == 'visited site')]\n",
    "brand_listing = eventos[(eventos['event'] == 'brand listing')]\n",
    "generic_listing = eventos[(eventos['event'] == 'generic listing')]\n",
    "lead = eventos[(eventos['event'] == 'lead')]\n",
    "staticpage = eventos[(eventos['event'] == 'staticpage')]"
   ]
  },
  {
   "cell_type": "code",
   "execution_count": 15,
   "metadata": {},
   "outputs": [
    {
     "data": {
      "text/plain": [
       "count         3527\n",
       "unique        2129\n",
       "top       5059f7fd\n",
       "freq           129\n",
       "Name: person, dtype: object"
      ]
     },
     "execution_count": 15,
     "metadata": {},
     "output_type": "execute_result"
    }
   ],
   "source": [
    "conversion.person.describe()"
   ]
  },
  {
   "cell_type": "code",
   "execution_count": 16,
   "metadata": {},
   "outputs": [
    {
     "data": {
      "text/plain": [
       "count        32776\n",
       "unique       16381\n",
       "top       5059f7fd\n",
       "freq           197\n",
       "Name: person, dtype: object"
      ]
     },
     "execution_count": 16,
     "metadata": {},
     "output_type": "execute_result"
    }
   ],
   "source": [
    "checkout.person.describe()"
   ]
  },
  {
   "cell_type": "code",
   "execution_count": 19,
   "metadata": {},
   "outputs": [
    {
     "data": {
      "text/plain": [
       "count       618891\n",
       "unique       18560\n",
       "top       8fb4929e\n",
       "freq          1912\n",
       "Name: person, dtype: object"
      ]
     },
     "execution_count": 19,
     "metadata": {},
     "output_type": "execute_result"
    }
   ],
   "source": [
    "viewed_product.person.describe()"
   ]
  },
  {
   "cell_type": "code",
   "execution_count": 20,
   "metadata": {},
   "outputs": [
    {
     "data": {
      "text/plain": [
       "count       101770\n",
       "unique       19116\n",
       "top       5059f7fd\n",
       "freq           295\n",
       "Name: person, dtype: object"
      ]
     },
     "execution_count": 20,
     "metadata": {},
     "output_type": "execute_result"
    }
   ],
   "source": [
    "visited_site.person.describe()"
   ]
  },
  {
   "cell_type": "code",
   "execution_count": 21,
   "metadata": {},
   "outputs": [
    {
     "data": {
      "text/plain": [
       "count       110319\n",
       "unique        9631\n",
       "top       5059f7fd\n",
       "freq          1346\n",
       "Name: person, dtype: object"
      ]
     },
     "execution_count": 21,
     "metadata": {},
     "output_type": "execute_result"
    }
   ],
   "source": [
    "brand_listing.person.describe()"
   ]
  },
  {
   "cell_type": "code",
   "execution_count": 22,
   "metadata": {},
   "outputs": [
    {
     "data": {
      "text/plain": [
       "count        79723\n",
       "unique       12582\n",
       "top       b3dac177\n",
       "freq           267\n",
       "Name: person, dtype: object"
      ]
     },
     "execution_count": 22,
     "metadata": {},
     "output_type": "execute_result"
    }
   ],
   "source": [
    "generic_listing.person.describe()"
   ]
  },
  {
   "cell_type": "code",
   "execution_count": 23,
   "metadata": {},
   "outputs": [
    {
     "data": {
      "text/plain": [
       "count          552\n",
       "unique         315\n",
       "top       79f9626a\n",
       "freq            38\n",
       "Name: person, dtype: object"
      ]
     },
     "execution_count": 23,
     "metadata": {},
     "output_type": "execute_result"
    }
   ],
   "source": [
    "lead.person.describe()"
   ]
  },
  {
   "cell_type": "code",
   "execution_count": 24,
   "metadata": {},
   "outputs": [
    {
     "data": {
      "text/plain": [
       "count         5541\n",
       "unique        2020\n",
       "top       5059f7fd\n",
       "freq            45\n",
       "Name: person, dtype: object"
      ]
     },
     "execution_count": 24,
     "metadata": {},
     "output_type": "execute_result"
    }
   ],
   "source": [
    "staticpage.person.describe()"
   ]
  }
 ],
 "metadata": {
  "kernelspec": {
   "display_name": "Python 3",
   "language": "python",
   "name": "python3"
  },
  "language_info": {
   "codemirror_mode": {
    "name": "ipython",
    "version": 3
   },
   "file_extension": ".py",
   "mimetype": "text/x-python",
   "name": "python",
   "nbconvert_exporter": "python",
   "pygments_lexer": "ipython3",
   "version": "3.6.5"
  }
 },
 "nbformat": 4,
 "nbformat_minor": 2
}
