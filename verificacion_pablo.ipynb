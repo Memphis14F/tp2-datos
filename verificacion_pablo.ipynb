{
 "cells": [
  {
   "cell_type": "code",
   "execution_count": 2,
   "metadata": {},
   "outputs": [],
   "source": [
    "import pandas as pd\n",
    "import numpy as np"
   ]
  },
  {
   "cell_type": "code",
   "execution_count": 16,
   "metadata": {},
   "outputs": [
    {
     "data": {
      "text/plain": [
       "'\\n[10:58, 29/11/2018] Pablo Datos: Primero armate un df arriba\\n[10:58, 29/11/2018] Pablo Datos: Donde haces inner join\\n[10:58, 29/11/2018] Pablo Datos: Entre las personas a predecir y events\\n[10:59, 29/11/2018] Pablo Datos: De ahi hacer un count agrupando por personas y te tiene q dar lo mismo q el csv de prediccion\\n[11:00, 29/11/2018] Pablo Datos: Es donde puse compras solo evento conversion\\n[11:00, 29/11/2018] Pablo Datos: Agrega otra vez el or con checkout\\n[11:02, 29/11/2018] Pablo Datos: Desp fijate en ese set si te quedas con los eventos conversion checkout y view\\n[11:02, 29/11/2018] Pablo Datos: Y fijate otra vez si estan todas las personas\\n[11:02, 29/11/2018] Pablo Datos: O perdimos algunos en otros eventos\\n'"
      ]
     },
     "execution_count": 16,
     "metadata": {},
     "output_type": "execute_result"
    }
   ],
   "source": [
    "personas_entrenar = pd.read_csv('data/labels_training_set.csv', low_memory=False)\n",
    "informacion = pd.read_csv('data/events_up_to_01062018.csv', low_memory= False)\n",
    "personas_adivinar = pd.read_csv('data/trocafone_kaggle_test.csv', low_memory = False)\n",
    "\"\"\"\n",
    "[10:58, 29/11/2018] Pablo Datos: Primero armate un df arriba\n",
    "[10:58, 29/11/2018] Pablo Datos: Donde haces inner join\n",
    "[10:58, 29/11/2018] Pablo Datos: Entre las personas a predecir y events\n",
    "[10:59, 29/11/2018] Pablo Datos: De ahi hacer un count agrupando por personas y te tiene q dar lo mismo q el csv de prediccion\n",
    "[11:00, 29/11/2018] Pablo Datos: Es donde puse compras solo evento conversion\n",
    "[11:00, 29/11/2018] Pablo Datos: Agrega otra vez el or con checkout\n",
    "[11:02, 29/11/2018] Pablo Datos: Desp fijate en ese set si te quedas con los eventos conversion checkout y view\n",
    "[11:02, 29/11/2018] Pablo Datos: Y fijate otra vez si estan todas las personas\n",
    "[11:02, 29/11/2018] Pablo Datos: O perdimos algunos en otros eventos\n",
    "\"\"\""
   ]
  },
  {
   "cell_type": "code",
   "execution_count": 18,
   "metadata": {},
   "outputs": [
    {
     "name": "stdout",
     "output_type": "stream",
     "text": [
      "19414\n",
      "19415\n"
     ]
    }
   ],
   "source": [
    "print(personas_entrenar.person.count())\n",
    "print(personas_adivinar.person.count())"
   ]
  },
  {
   "cell_type": "code",
   "execution_count": 49,
   "metadata": {},
   "outputs": [],
   "source": [
    "informacion = informacion[['event','timestamp','person', 'sku', 'model', 'condition', 'storage', 'color']]\n",
    "productos = personas_adivinar.merge(informacion, on = 'person', how='inner')"
   ]
  },
  {
   "cell_type": "code",
   "execution_count": 50,
   "metadata": {},
   "outputs": [
    {
     "name": "stderr",
     "output_type": "stream",
     "text": [
      "C:\\Users\\Memphis\\Anaconda3\\lib\\site-packages\\pandas\\core\\frame.py:3697: SettingWithCopyWarning: \n",
      "A value is trying to be set on a copy of a slice from a DataFrame\n",
      "\n",
      "See the caveats in the documentation: http://pandas.pydata.org/pandas-docs/stable/indexing.html#indexing-view-versus-copy\n",
      "  errors=errors)\n"
     ]
    },
    {
     "data": {
      "text/plain": [
       "count       651667\n",
       "unique       19117\n",
       "top       8fb4929e\n",
       "freq          1916\n",
       "Name: person, dtype: object"
      ]
     },
     "execution_count": 50,
     "metadata": {},
     "output_type": "execute_result"
    }
   ],
   "source": [
    "productos_comprados = productos[(productos['event'] == 'viewed product') | (productos['event'] == 'checkout')]\n",
    "productos_comprados.drop(['event'],inplace = True, axis=1)\n",
    "productos_comprados.head()\n",
    "productos_comprados.person.describe()"
   ]
  },
  {
   "cell_type": "code",
   "execution_count": null,
   "metadata": {},
   "outputs": [],
   "source": []
  }
 ],
 "metadata": {
  "kernelspec": {
   "display_name": "Python 3",
   "language": "python",
   "name": "python3"
  },
  "language_info": {
   "codemirror_mode": {
    "name": "ipython",
    "version": 3
   },
   "file_extension": ".py",
   "mimetype": "text/x-python",
   "name": "python",
   "nbconvert_exporter": "python",
   "pygments_lexer": "ipython3",
   "version": "3.7.0"
  }
 },
 "nbformat": 4,
 "nbformat_minor": 2
}
