{
 "cells": [
  {
   "cell_type": "code",
   "execution_count": 1,
   "metadata": {},
   "outputs": [],
   "source": [
    "import pandas as pd\n",
    "import numpy as np\n",
    "from sklearn import linear_model\n",
    "from sklearn import model_selection\n",
    "from sklearn import metrics\n",
    "from sklearn.model_selection import train_test_split\n",
    "from sklearn.decomposition import PCA\n",
    "from sklearn.metrics import accuracy_score\n",
    "from sklearn.svm import LinearSVC\n",
    "from sklearn.feature_selection import SelectFromModel\n",
    "from sklearn.neural_network import MLPClassifier\n",
    "from sklearn.neighbors import KNeighborsClassifier\n",
    "from sklearn.decomposition import PCA\n",
    "from sklearn import preprocessing\n",
    "from sklearn.pipeline import make_pipeline"
   ]
  },
  {
   "cell_type": "code",
   "execution_count": 2,
   "metadata": {},
   "outputs": [
    {
     "name": "stderr",
     "output_type": "stream",
     "text": [
      "/home/prpablo/anaconda3/lib/python3.7/site-packages/IPython/core/interactiveshell.py:2785: DtypeWarning: Columns (0) have mixed types. Specify dtype option on import or set low_memory=False.\n",
      "  interactivity=interactivity, compiler=compiler, result=result)\n"
     ]
    },
    {
     "data": {
      "text/html": [
       "<div>\n",
       "<style scoped>\n",
       "    .dataframe tbody tr th:only-of-type {\n",
       "        vertical-align: middle;\n",
       "    }\n",
       "\n",
       "    .dataframe tbody tr th {\n",
       "        vertical-align: top;\n",
       "    }\n",
       "\n",
       "    .dataframe thead th {\n",
       "        text-align: right;\n",
       "    }\n",
       "</style>\n",
       "<table border=\"1\" class=\"dataframe\">\n",
       "  <thead>\n",
       "    <tr style=\"text-align: right;\">\n",
       "      <th></th>\n",
       "      <th>person</th>\n",
       "      <th>model</th>\n",
       "      <th>condition</th>\n",
       "      <th>storage</th>\n",
       "      <th>color</th>\n",
       "      <th>new_vs_returning</th>\n",
       "      <th>region</th>\n",
       "      <th>country</th>\n",
       "      <th>device_type</th>\n",
       "      <th>screen_resolution</th>\n",
       "      <th>...</th>\n",
       "      <th>browser_version</th>\n",
       "      <th>dia_view_prod</th>\n",
       "      <th>mes_view_prod</th>\n",
       "      <th>hora_view_prod</th>\n",
       "      <th>minuto_view_prod</th>\n",
       "      <th>dia_visit_user</th>\n",
       "      <th>mes_visit_user</th>\n",
       "      <th>hora_visit_user</th>\n",
       "      <th>minuto_visit_user</th>\n",
       "      <th>label</th>\n",
       "    </tr>\n",
       "  </thead>\n",
       "  <tbody>\n",
       "    <tr>\n",
       "      <th>0</th>\n",
       "      <td>15ea8012</td>\n",
       "      <td>61</td>\n",
       "      <td>62</td>\n",
       "      <td>63</td>\n",
       "      <td>64</td>\n",
       "      <td>65</td>\n",
       "      <td>66</td>\n",
       "      <td>67</td>\n",
       "      <td>68</td>\n",
       "      <td>69</td>\n",
       "      <td>...</td>\n",
       "      <td>71</td>\n",
       "      <td>18</td>\n",
       "      <td>5</td>\n",
       "      <td>0</td>\n",
       "      <td>29</td>\n",
       "      <td>17</td>\n",
       "      <td>5</td>\n",
       "      <td>16</td>\n",
       "      <td>13</td>\n",
       "      <td>0</td>\n",
       "    </tr>\n",
       "    <tr>\n",
       "      <th>1</th>\n",
       "      <td>15ea8012</td>\n",
       "      <td>61</td>\n",
       "      <td>62</td>\n",
       "      <td>63</td>\n",
       "      <td>64</td>\n",
       "      <td>72</td>\n",
       "      <td>66</td>\n",
       "      <td>67</td>\n",
       "      <td>68</td>\n",
       "      <td>69</td>\n",
       "      <td>...</td>\n",
       "      <td>71</td>\n",
       "      <td>18</td>\n",
       "      <td>5</td>\n",
       "      <td>0</td>\n",
       "      <td>29</td>\n",
       "      <td>18</td>\n",
       "      <td>5</td>\n",
       "      <td>0</td>\n",
       "      <td>18</td>\n",
       "      <td>0</td>\n",
       "    </tr>\n",
       "    <tr>\n",
       "      <th>2</th>\n",
       "      <td>15ea8012</td>\n",
       "      <td>61</td>\n",
       "      <td>62</td>\n",
       "      <td>63</td>\n",
       "      <td>64</td>\n",
       "      <td>72</td>\n",
       "      <td>66</td>\n",
       "      <td>67</td>\n",
       "      <td>68</td>\n",
       "      <td>69</td>\n",
       "      <td>...</td>\n",
       "      <td>71</td>\n",
       "      <td>18</td>\n",
       "      <td>5</td>\n",
       "      <td>0</td>\n",
       "      <td>29</td>\n",
       "      <td>18</td>\n",
       "      <td>5</td>\n",
       "      <td>2</td>\n",
       "      <td>55</td>\n",
       "      <td>0</td>\n",
       "    </tr>\n",
       "    <tr>\n",
       "      <th>3</th>\n",
       "      <td>15ea8012</td>\n",
       "      <td>61</td>\n",
       "      <td>62</td>\n",
       "      <td>63</td>\n",
       "      <td>73</td>\n",
       "      <td>65</td>\n",
       "      <td>66</td>\n",
       "      <td>67</td>\n",
       "      <td>68</td>\n",
       "      <td>69</td>\n",
       "      <td>...</td>\n",
       "      <td>71</td>\n",
       "      <td>18</td>\n",
       "      <td>5</td>\n",
       "      <td>0</td>\n",
       "      <td>31</td>\n",
       "      <td>17</td>\n",
       "      <td>5</td>\n",
       "      <td>16</td>\n",
       "      <td>13</td>\n",
       "      <td>0</td>\n",
       "    </tr>\n",
       "    <tr>\n",
       "      <th>4</th>\n",
       "      <td>15ea8012</td>\n",
       "      <td>61</td>\n",
       "      <td>62</td>\n",
       "      <td>63</td>\n",
       "      <td>73</td>\n",
       "      <td>72</td>\n",
       "      <td>66</td>\n",
       "      <td>67</td>\n",
       "      <td>68</td>\n",
       "      <td>69</td>\n",
       "      <td>...</td>\n",
       "      <td>71</td>\n",
       "      <td>18</td>\n",
       "      <td>5</td>\n",
       "      <td>0</td>\n",
       "      <td>31</td>\n",
       "      <td>18</td>\n",
       "      <td>5</td>\n",
       "      <td>0</td>\n",
       "      <td>18</td>\n",
       "      <td>0</td>\n",
       "    </tr>\n",
       "  </tbody>\n",
       "</table>\n",
       "<p>5 rows × 21 columns</p>\n",
       "</div>"
      ],
      "text/plain": [
       "     person  model  condition  storage  color  new_vs_returning  region  \\\n",
       "0  15ea8012     61         62       63     64                65      66   \n",
       "1  15ea8012     61         62       63     64                72      66   \n",
       "2  15ea8012     61         62       63     64                72      66   \n",
       "3  15ea8012     61         62       63     73                65      66   \n",
       "4  15ea8012     61         62       63     73                72      66   \n",
       "\n",
       "   country  device_type  screen_resolution  ...    browser_version  \\\n",
       "0       67           68                 69  ...                 71   \n",
       "1       67           68                 69  ...                 71   \n",
       "2       67           68                 69  ...                 71   \n",
       "3       67           68                 69  ...                 71   \n",
       "4       67           68                 69  ...                 71   \n",
       "\n",
       "   dia_view_prod  mes_view_prod  hora_view_prod  minuto_view_prod  \\\n",
       "0             18              5               0                29   \n",
       "1             18              5               0                29   \n",
       "2             18              5               0                29   \n",
       "3             18              5               0                31   \n",
       "4             18              5               0                31   \n",
       "\n",
       "   dia_visit_user  mes_visit_user  hora_visit_user  minuto_visit_user  label  \n",
       "0              17               5               16                 13      0  \n",
       "1              18               5                0                 18      0  \n",
       "2              18               5                2                 55      0  \n",
       "3              17               5               16                 13      0  \n",
       "4              18               5                0                 18      0  \n",
       "\n",
       "[5 rows x 21 columns]"
      ]
     },
     "execution_count": 2,
     "metadata": {},
     "output_type": "execute_result"
    }
   ],
   "source": [
    "training_set = pd.read_csv('data/set_entrenamiento_2.csv')\n",
    "training_set.head()"
   ]
  },
  {
   "cell_type": "code",
   "execution_count": 3,
   "metadata": {},
   "outputs": [
    {
     "data": {
      "text/plain": [
       "Index(['person', 'model', 'condition', 'storage', 'color', 'new_vs_returning',\n",
       "       'region', 'country', 'device_type', 'screen_resolution',\n",
       "       'operating_system_version', 'browser_version', 'dia_view_prod',\n",
       "       'mes_view_prod', 'hora_view_prod', 'minuto_view_prod', 'dia_visit_user',\n",
       "       'mes_visit_user', 'hora_visit_user', 'minuto_visit_user', 'label'],\n",
       "      dtype='object')"
      ]
     },
     "execution_count": 3,
     "metadata": {},
     "output_type": "execute_result"
    }
   ],
   "source": [
    "training_set.columns"
   ]
  },
  {
   "cell_type": "markdown",
   "metadata": {},
   "source": [
    "# Entrenamiento"
   ]
  },
  {
   "cell_type": "code",
   "execution_count": 4,
   "metadata": {},
   "outputs": [],
   "source": [
    "dfix = training_set.loc[:,['model', 'condition', 'storage', 'color', 'new_vs_returning', 'region', 'country', 'device_type', 'screen_resolution', 'operating_system_version', 'browser_version', 'dia_view_prod', 'mes_view_prod', 'hora_view_prod', 'minuto_view_prod', 'dia_visit_user', 'mes_visit_user', 'hora_visit_user', 'minuto_visit_user']]"
   ]
  },
  {
   "cell_type": "code",
   "execution_count": 5,
   "metadata": {},
   "outputs": [],
   "source": [
    "# dfix = training_set.loc[:,['model', 'condition', 'storage', 'color', 'new_vs_returning', 'region', 'country', 'device_type', 'operating_system_version', 'dia_visit_user', 'mes_visit_user', 'hora_visit_user', 'minuto_visit_user']]"
   ]
  },
  {
   "cell_type": "code",
   "execution_count": 6,
   "metadata": {},
   "outputs": [],
   "source": [
    "# features a entrenar\n",
    "X = np.array(dfix)\n",
    "# feature a predecir\n",
    "y = np.array(training_set['label'])"
   ]
  },
  {
   "cell_type": "code",
   "execution_count": 7,
   "metadata": {},
   "outputs": [],
   "source": [
    "del training_set\n",
    "del dfix"
   ]
  },
  {
   "cell_type": "code",
   "execution_count": 8,
   "metadata": {},
   "outputs": [],
   "source": [
    "X_train, X_test, y_train, y_test = train_test_split(X, y, test_size=0.25, random_state=7506)"
   ]
  },
  {
   "cell_type": "code",
   "execution_count": 9,
   "metadata": {},
   "outputs": [
    {
     "name": "stdout",
     "output_type": "stream",
     "text": [
      "# 1: 0.881043623569853\n",
      "# 2: 0.922843293616325\n",
      "# 3: 0.9093743372270722\n",
      "# 4: 0.9107158473350726\n",
      "# 5: 0.910637116002028\n",
      "# 6: 0.914240549098475\n",
      "# 7: 0.913561972201941\n",
      "# 8: 0.9228556034012961\n",
      "# 9: 0.9170040958244953\n",
      "# 10: 0.9117819260043438\n",
      "# 11: 0.9217410549537011\n",
      "# 12: 0.913669939274292\n",
      "# 13: 0.9137638013846969\n",
      "# 14: 0.9171533519672703\n"
     ]
    }
   ],
   "source": [
    "#Busco el mejor k aproximadamente\n",
    "for i in range(1, 15):    \n",
    "    knn = make_pipeline(\n",
    "                    preprocessing.QuantileTransformer(), \n",
    "                    PCA(n_components=3), \n",
    "#                     MLPClassifier()\n",
    "                    KNeighborsClassifier(n_neighbors=i)\n",
    "                   )\n",
    "    knn.fit(X_train, y_train)                   \n",
    "    pred = knn.predict(X_test)              \n",
    "    print (\"# \" + str(i) + \": \" + str(accuracy_score(y_test, pred)))"
   ]
  },
  {
   "cell_type": "code",
   "execution_count": 10,
   "metadata": {},
   "outputs": [],
   "source": [
    "clf = make_pipeline(\n",
    "                    preprocessing.QuantileTransformer(), \n",
    "                    PCA(n_components=3), \n",
    "#                     MLPClassifier()\n",
    "                    KNeighborsClassifier(n_neighbors=8)\n",
    "                   )"
   ]
  },
  {
   "cell_type": "code",
   "execution_count": 11,
   "metadata": {},
   "outputs": [
    {
     "data": {
      "text/plain": [
       "Pipeline(memory=None,\n",
       "     steps=[('quantiletransformer', QuantileTransformer(copy=True, ignore_implicit_zeros=False, n_quantiles=1000,\n",
       "          output_distribution='uniform', random_state=None,\n",
       "          subsample=100000)), ('pca', PCA(copy=True, iterated_power='auto', n_components=3, random_state=None,\n",
       "  svd_solver='auto',...owski',\n",
       "           metric_params=None, n_jobs=1, n_neighbors=8, p=2,\n",
       "           weights='uniform'))])"
      ]
     },
     "execution_count": 11,
     "metadata": {},
     "output_type": "execute_result"
    }
   ],
   "source": [
    "clf.fit(X_train, y_train)"
   ]
  },
  {
   "cell_type": "markdown",
   "metadata": {},
   "source": [
    "# Prediccion"
   ]
  },
  {
   "cell_type": "code",
   "execution_count": 12,
   "metadata": {},
   "outputs": [],
   "source": [
    "pred = clf.predict(X_test)"
   ]
  },
  {
   "cell_type": "code",
   "execution_count": 13,
   "metadata": {},
   "outputs": [
    {
     "name": "stdout",
     "output_type": "stream",
     "text": [
      "0.9118221892593535\n"
     ]
    }
   ],
   "source": [
    "print (accuracy_score(y_test, pred))"
   ]
  },
  {
   "cell_type": "code",
   "execution_count": 14,
   "metadata": {},
   "outputs": [
    {
     "data": {
      "text/plain": [
       "(3899337,)"
      ]
     },
     "execution_count": 14,
     "metadata": {},
     "output_type": "execute_result"
    }
   ],
   "source": [
    "pred.shape"
   ]
  },
  {
   "cell_type": "code",
   "execution_count": 17,
   "metadata": {
    "scrolled": true
   },
   "outputs": [
    {
     "name": "stderr",
     "output_type": "stream",
     "text": [
      "/home/prpablo/anaconda3/lib/python3.7/site-packages/IPython/core/interactiveshell.py:2785: DtypeWarning: Columns (0) have mixed types. Specify dtype option on import or set low_memory=False.\n",
      "  interactivity=interactivity, compiler=compiler, result=result)\n"
     ]
    },
    {
     "data": {
      "text/html": [
       "<div>\n",
       "<style scoped>\n",
       "    .dataframe tbody tr th:only-of-type {\n",
       "        vertical-align: middle;\n",
       "    }\n",
       "\n",
       "    .dataframe tbody tr th {\n",
       "        vertical-align: top;\n",
       "    }\n",
       "\n",
       "    .dataframe thead th {\n",
       "        text-align: right;\n",
       "    }\n",
       "</style>\n",
       "<table border=\"1\" class=\"dataframe\">\n",
       "  <thead>\n",
       "    <tr style=\"text-align: right;\">\n",
       "      <th></th>\n",
       "      <th>person</th>\n",
       "      <th>model</th>\n",
       "      <th>condition</th>\n",
       "      <th>storage</th>\n",
       "      <th>color</th>\n",
       "      <th>new_vs_returning</th>\n",
       "      <th>region</th>\n",
       "      <th>country</th>\n",
       "      <th>device_type</th>\n",
       "      <th>screen_resolution</th>\n",
       "      <th>operating_system_version</th>\n",
       "      <th>browser_version</th>\n",
       "      <th>dia_view_prod</th>\n",
       "      <th>mes_view_prod</th>\n",
       "      <th>hora_view_prod</th>\n",
       "      <th>minuto_view_prod</th>\n",
       "      <th>dia_visit_user</th>\n",
       "      <th>mes_visit_user</th>\n",
       "      <th>hora_visit_user</th>\n",
       "      <th>minuto_visit_user</th>\n",
       "    </tr>\n",
       "  </thead>\n",
       "  <tbody>\n",
       "    <tr>\n",
       "      <th>0</th>\n",
       "      <td>d614c608</td>\n",
       "      <td>82</td>\n",
       "      <td>75</td>\n",
       "      <td>83</td>\n",
       "      <td>84</td>\n",
       "      <td>65</td>\n",
       "      <td>66</td>\n",
       "      <td>67</td>\n",
       "      <td>68</td>\n",
       "      <td>69</td>\n",
       "      <td>85</td>\n",
       "      <td>71</td>\n",
       "      <td>18</td>\n",
       "      <td>5</td>\n",
       "      <td>0</td>\n",
       "      <td>38</td>\n",
       "      <td>17</td>\n",
       "      <td>5</td>\n",
       "      <td>3</td>\n",
       "      <td>37</td>\n",
       "    </tr>\n",
       "    <tr>\n",
       "      <th>1</th>\n",
       "      <td>d614c608</td>\n",
       "      <td>82</td>\n",
       "      <td>75</td>\n",
       "      <td>83</td>\n",
       "      <td>84</td>\n",
       "      <td>72</td>\n",
       "      <td>66</td>\n",
       "      <td>67</td>\n",
       "      <td>68</td>\n",
       "      <td>69</td>\n",
       "      <td>85</td>\n",
       "      <td>71</td>\n",
       "      <td>18</td>\n",
       "      <td>5</td>\n",
       "      <td>0</td>\n",
       "      <td>38</td>\n",
       "      <td>18</td>\n",
       "      <td>5</td>\n",
       "      <td>0</td>\n",
       "      <td>38</td>\n",
       "    </tr>\n",
       "    <tr>\n",
       "      <th>2</th>\n",
       "      <td>d614c608</td>\n",
       "      <td>82</td>\n",
       "      <td>75</td>\n",
       "      <td>83</td>\n",
       "      <td>84</td>\n",
       "      <td>72</td>\n",
       "      <td>66</td>\n",
       "      <td>67</td>\n",
       "      <td>68</td>\n",
       "      <td>69</td>\n",
       "      <td>85</td>\n",
       "      <td>71</td>\n",
       "      <td>18</td>\n",
       "      <td>5</td>\n",
       "      <td>0</td>\n",
       "      <td>38</td>\n",
       "      <td>26</td>\n",
       "      <td>5</td>\n",
       "      <td>1</td>\n",
       "      <td>12</td>\n",
       "    </tr>\n",
       "    <tr>\n",
       "      <th>3</th>\n",
       "      <td>55d1e0ee</td>\n",
       "      <td>86</td>\n",
       "      <td>62</td>\n",
       "      <td>87</td>\n",
       "      <td>77</td>\n",
       "      <td>72</td>\n",
       "      <td>88</td>\n",
       "      <td>67</td>\n",
       "      <td>68</td>\n",
       "      <td>69</td>\n",
       "      <td>85</td>\n",
       "      <td>89</td>\n",
       "      <td>18</td>\n",
       "      <td>5</td>\n",
       "      <td>0</td>\n",
       "      <td>57</td>\n",
       "      <td>20</td>\n",
       "      <td>5</td>\n",
       "      <td>14</td>\n",
       "      <td>6</td>\n",
       "    </tr>\n",
       "    <tr>\n",
       "      <th>4</th>\n",
       "      <td>55d1e0ee</td>\n",
       "      <td>86</td>\n",
       "      <td>62</td>\n",
       "      <td>87</td>\n",
       "      <td>77</td>\n",
       "      <td>72</td>\n",
       "      <td>88</td>\n",
       "      <td>67</td>\n",
       "      <td>68</td>\n",
       "      <td>69</td>\n",
       "      <td>85</td>\n",
       "      <td>89</td>\n",
       "      <td>18</td>\n",
       "      <td>5</td>\n",
       "      <td>0</td>\n",
       "      <td>57</td>\n",
       "      <td>20</td>\n",
       "      <td>5</td>\n",
       "      <td>18</td>\n",
       "      <td>30</td>\n",
       "    </tr>\n",
       "  </tbody>\n",
       "</table>\n",
       "</div>"
      ],
      "text/plain": [
       "     person  model  condition  storage  color  new_vs_returning  region  \\\n",
       "0  d614c608     82         75       83     84                65      66   \n",
       "1  d614c608     82         75       83     84                72      66   \n",
       "2  d614c608     82         75       83     84                72      66   \n",
       "3  55d1e0ee     86         62       87     77                72      88   \n",
       "4  55d1e0ee     86         62       87     77                72      88   \n",
       "\n",
       "   country  device_type  screen_resolution  operating_system_version  \\\n",
       "0       67           68                 69                        85   \n",
       "1       67           68                 69                        85   \n",
       "2       67           68                 69                        85   \n",
       "3       67           68                 69                        85   \n",
       "4       67           68                 69                        85   \n",
       "\n",
       "   browser_version  dia_view_prod  mes_view_prod  hora_view_prod  \\\n",
       "0               71             18              5               0   \n",
       "1               71             18              5               0   \n",
       "2               71             18              5               0   \n",
       "3               89             18              5               0   \n",
       "4               89             18              5               0   \n",
       "\n",
       "   minuto_view_prod  dia_visit_user  mes_visit_user  hora_visit_user  \\\n",
       "0                38              17               5                3   \n",
       "1                38              18               5                0   \n",
       "2                38              26               5                1   \n",
       "3                57              20               5               14   \n",
       "4                57              20               5               18   \n",
       "\n",
       "   minuto_visit_user  \n",
       "0                 37  \n",
       "1                 38  \n",
       "2                 12  \n",
       "3                  6  \n",
       "4                 30  "
      ]
     },
     "execution_count": 17,
     "metadata": {},
     "output_type": "execute_result"
    }
   ],
   "source": [
    "prediction_set = pd.read_csv('data/set_prediccion_2.csv')\n",
    "prediction_set.head()"
   ]
  },
  {
   "cell_type": "code",
   "execution_count": 21,
   "metadata": {},
   "outputs": [],
   "source": [
    "dfix_prediction = prediction_set.loc[:,['model', 'condition', 'storage', 'color', 'new_vs_returning', 'region', 'country', 'device_type', 'screen_resolution', 'operating_system_version', 'browser_version', 'dia_view_prod', 'mes_view_prod', 'hora_view_prod', 'minuto_view_prod', 'dia_visit_user', 'mes_visit_user', 'hora_visit_user', 'minuto_visit_user']]\n",
    "# dfix_prediction = prediction_set.loc[:,['model', 'condition', 'storage', 'color', 'new_vs_returning', 'region', 'country', 'device_type', 'operating_system_version', 'dia_visit_user', 'mes_visit_user', 'hora_visit_user', 'minuto_visit_user']]\n",
    "X_full_data = np.array(dfix_prediction)"
   ]
  },
  {
   "cell_type": "code",
   "execution_count": 22,
   "metadata": {},
   "outputs": [
    {
     "ename": "NameError",
     "evalue": "name 'X' is not defined",
     "output_type": "error",
     "traceback": [
      "\u001b[0;31m---------------------------------------------------------------------------\u001b[0m",
      "\u001b[0;31mNameError\u001b[0m                                 Traceback (most recent call last)",
      "\u001b[0;32m<ipython-input-22-9c46d45cc1ba>\u001b[0m in \u001b[0;36m<module>\u001b[0;34m()\u001b[0m\n\u001b[1;32m      1\u001b[0m \u001b[0;32mdel\u001b[0m \u001b[0mdfix_prediction\u001b[0m\u001b[0;34m\u001b[0m\u001b[0m\n\u001b[0;32m----> 2\u001b[0;31m \u001b[0;32mdel\u001b[0m \u001b[0mX\u001b[0m\u001b[0;34m\u001b[0m\u001b[0m\n\u001b[0m\u001b[1;32m      3\u001b[0m \u001b[0;32mdel\u001b[0m \u001b[0my\u001b[0m\u001b[0;34m\u001b[0m\u001b[0m\n\u001b[1;32m      4\u001b[0m \u001b[0;32mdel\u001b[0m \u001b[0mX_train\u001b[0m\u001b[0;34m\u001b[0m\u001b[0m\n\u001b[1;32m      5\u001b[0m \u001b[0;32mdel\u001b[0m \u001b[0mX_test\u001b[0m\u001b[0;34m\u001b[0m\u001b[0m\n",
      "\u001b[0;31mNameError\u001b[0m: name 'X' is not defined"
     ]
    }
   ],
   "source": [
    "del dfix_prediction\n",
    "del X\n",
    "del y\n",
    "del X_train \n",
    "del X_test \n",
    "del y_train \n",
    "del y_test"
   ]
  },
  {
   "cell_type": "code",
   "execution_count": 23,
   "metadata": {},
   "outputs": [
    {
     "data": {
      "text/html": [
       "<div>\n",
       "<style scoped>\n",
       "    .dataframe tbody tr th:only-of-type {\n",
       "        vertical-align: middle;\n",
       "    }\n",
       "\n",
       "    .dataframe tbody tr th {\n",
       "        vertical-align: top;\n",
       "    }\n",
       "\n",
       "    .dataframe thead th {\n",
       "        text-align: right;\n",
       "    }\n",
       "</style>\n",
       "<table border=\"1\" class=\"dataframe\">\n",
       "  <thead>\n",
       "    <tr style=\"text-align: right;\">\n",
       "      <th></th>\n",
       "      <th>person</th>\n",
       "      <th>model</th>\n",
       "      <th>condition</th>\n",
       "      <th>storage</th>\n",
       "      <th>color</th>\n",
       "      <th>new_vs_returning</th>\n",
       "      <th>region</th>\n",
       "      <th>country</th>\n",
       "      <th>device_type</th>\n",
       "      <th>screen_resolution</th>\n",
       "      <th>...</th>\n",
       "      <th>browser_version</th>\n",
       "      <th>dia_view_prod</th>\n",
       "      <th>mes_view_prod</th>\n",
       "      <th>hora_view_prod</th>\n",
       "      <th>minuto_view_prod</th>\n",
       "      <th>dia_visit_user</th>\n",
       "      <th>mes_visit_user</th>\n",
       "      <th>hora_visit_user</th>\n",
       "      <th>minuto_visit_user</th>\n",
       "      <th>label</th>\n",
       "    </tr>\n",
       "  </thead>\n",
       "  <tbody>\n",
       "    <tr>\n",
       "      <th>0</th>\n",
       "      <td>d614c608</td>\n",
       "      <td>82</td>\n",
       "      <td>75</td>\n",
       "      <td>83</td>\n",
       "      <td>84</td>\n",
       "      <td>65</td>\n",
       "      <td>66</td>\n",
       "      <td>67</td>\n",
       "      <td>68</td>\n",
       "      <td>69</td>\n",
       "      <td>...</td>\n",
       "      <td>71</td>\n",
       "      <td>18</td>\n",
       "      <td>5</td>\n",
       "      <td>0</td>\n",
       "      <td>38</td>\n",
       "      <td>17</td>\n",
       "      <td>5</td>\n",
       "      <td>3</td>\n",
       "      <td>37</td>\n",
       "      <td>0</td>\n",
       "    </tr>\n",
       "    <tr>\n",
       "      <th>1</th>\n",
       "      <td>d614c608</td>\n",
       "      <td>82</td>\n",
       "      <td>75</td>\n",
       "      <td>83</td>\n",
       "      <td>84</td>\n",
       "      <td>72</td>\n",
       "      <td>66</td>\n",
       "      <td>67</td>\n",
       "      <td>68</td>\n",
       "      <td>69</td>\n",
       "      <td>...</td>\n",
       "      <td>71</td>\n",
       "      <td>18</td>\n",
       "      <td>5</td>\n",
       "      <td>0</td>\n",
       "      <td>38</td>\n",
       "      <td>18</td>\n",
       "      <td>5</td>\n",
       "      <td>0</td>\n",
       "      <td>38</td>\n",
       "      <td>0</td>\n",
       "    </tr>\n",
       "    <tr>\n",
       "      <th>2</th>\n",
       "      <td>d614c608</td>\n",
       "      <td>82</td>\n",
       "      <td>75</td>\n",
       "      <td>83</td>\n",
       "      <td>84</td>\n",
       "      <td>72</td>\n",
       "      <td>66</td>\n",
       "      <td>67</td>\n",
       "      <td>68</td>\n",
       "      <td>69</td>\n",
       "      <td>...</td>\n",
       "      <td>71</td>\n",
       "      <td>18</td>\n",
       "      <td>5</td>\n",
       "      <td>0</td>\n",
       "      <td>38</td>\n",
       "      <td>26</td>\n",
       "      <td>5</td>\n",
       "      <td>1</td>\n",
       "      <td>12</td>\n",
       "      <td>0</td>\n",
       "    </tr>\n",
       "    <tr>\n",
       "      <th>3</th>\n",
       "      <td>55d1e0ee</td>\n",
       "      <td>86</td>\n",
       "      <td>62</td>\n",
       "      <td>87</td>\n",
       "      <td>77</td>\n",
       "      <td>72</td>\n",
       "      <td>88</td>\n",
       "      <td>67</td>\n",
       "      <td>68</td>\n",
       "      <td>69</td>\n",
       "      <td>...</td>\n",
       "      <td>89</td>\n",
       "      <td>18</td>\n",
       "      <td>5</td>\n",
       "      <td>0</td>\n",
       "      <td>57</td>\n",
       "      <td>20</td>\n",
       "      <td>5</td>\n",
       "      <td>14</td>\n",
       "      <td>6</td>\n",
       "      <td>0</td>\n",
       "    </tr>\n",
       "    <tr>\n",
       "      <th>4</th>\n",
       "      <td>55d1e0ee</td>\n",
       "      <td>86</td>\n",
       "      <td>62</td>\n",
       "      <td>87</td>\n",
       "      <td>77</td>\n",
       "      <td>72</td>\n",
       "      <td>88</td>\n",
       "      <td>67</td>\n",
       "      <td>68</td>\n",
       "      <td>69</td>\n",
       "      <td>...</td>\n",
       "      <td>89</td>\n",
       "      <td>18</td>\n",
       "      <td>5</td>\n",
       "      <td>0</td>\n",
       "      <td>57</td>\n",
       "      <td>20</td>\n",
       "      <td>5</td>\n",
       "      <td>18</td>\n",
       "      <td>30</td>\n",
       "      <td>0</td>\n",
       "    </tr>\n",
       "  </tbody>\n",
       "</table>\n",
       "<p>5 rows × 21 columns</p>\n",
       "</div>"
      ],
      "text/plain": [
       "     person  model  condition  storage  color  new_vs_returning  region  \\\n",
       "0  d614c608     82         75       83     84                65      66   \n",
       "1  d614c608     82         75       83     84                72      66   \n",
       "2  d614c608     82         75       83     84                72      66   \n",
       "3  55d1e0ee     86         62       87     77                72      88   \n",
       "4  55d1e0ee     86         62       87     77                72      88   \n",
       "\n",
       "   country  device_type  screen_resolution  ...    browser_version  \\\n",
       "0       67           68                 69  ...                 71   \n",
       "1       67           68                 69  ...                 71   \n",
       "2       67           68                 69  ...                 71   \n",
       "3       67           68                 69  ...                 89   \n",
       "4       67           68                 69  ...                 89   \n",
       "\n",
       "   dia_view_prod  mes_view_prod  hora_view_prod  minuto_view_prod  \\\n",
       "0             18              5               0                38   \n",
       "1             18              5               0                38   \n",
       "2             18              5               0                38   \n",
       "3             18              5               0                57   \n",
       "4             18              5               0                57   \n",
       "\n",
       "   dia_visit_user  mes_visit_user  hora_visit_user  minuto_visit_user  label  \n",
       "0              17               5                3                 37      0  \n",
       "1              18               5                0                 38      0  \n",
       "2              26               5                1                 12      0  \n",
       "3              20               5               14                  6      0  \n",
       "4              20               5               18                 30      0  \n",
       "\n",
       "[5 rows x 21 columns]"
      ]
     },
     "execution_count": 23,
     "metadata": {},
     "output_type": "execute_result"
    }
   ],
   "source": [
    "pred_full_data = clf.predict(X_full_data)\n",
    "prediction_set['label'] = pred_full_data\n",
    "prediction_set.head()"
   ]
  },
  {
   "cell_type": "code",
   "execution_count": 24,
   "metadata": {},
   "outputs": [],
   "source": [
    "del X_full_data\n",
    "del pred_full_data"
   ]
  },
  {
   "cell_type": "markdown",
   "metadata": {},
   "source": [
    "# Resultado"
   ]
  },
  {
   "cell_type": "code",
   "execution_count": 25,
   "metadata": {},
   "outputs": [
    {
     "data": {
      "text/html": [
       "<div>\n",
       "<style scoped>\n",
       "    .dataframe tbody tr th:only-of-type {\n",
       "        vertical-align: middle;\n",
       "    }\n",
       "\n",
       "    .dataframe tbody tr th {\n",
       "        vertical-align: top;\n",
       "    }\n",
       "\n",
       "    .dataframe thead th {\n",
       "        text-align: right;\n",
       "    }\n",
       "</style>\n",
       "<table border=\"1\" class=\"dataframe\">\n",
       "  <thead>\n",
       "    <tr style=\"text-align: right;\">\n",
       "      <th></th>\n",
       "      <th>person</th>\n",
       "    </tr>\n",
       "  </thead>\n",
       "  <tbody>\n",
       "    <tr>\n",
       "      <th>0</th>\n",
       "      <td>4886f805</td>\n",
       "    </tr>\n",
       "    <tr>\n",
       "      <th>1</th>\n",
       "      <td>0297fc1e</td>\n",
       "    </tr>\n",
       "    <tr>\n",
       "      <th>2</th>\n",
       "      <td>2d681dd8</td>\n",
       "    </tr>\n",
       "    <tr>\n",
       "      <th>3</th>\n",
       "      <td>cccea85e</td>\n",
       "    </tr>\n",
       "    <tr>\n",
       "      <th>4</th>\n",
       "      <td>4c8a8b93</td>\n",
       "    </tr>\n",
       "  </tbody>\n",
       "</table>\n",
       "</div>"
      ],
      "text/plain": [
       "     person\n",
       "0  4886f805\n",
       "1  0297fc1e\n",
       "2  2d681dd8\n",
       "3  cccea85e\n",
       "4  4c8a8b93"
      ]
     },
     "execution_count": 25,
     "metadata": {},
     "output_type": "execute_result"
    }
   ],
   "source": [
    "result = pd.read_csv('data/trocafone_kaggle_test.csv')\n",
    "result.head()"
   ]
  },
  {
   "cell_type": "code",
   "execution_count": 26,
   "metadata": {},
   "outputs": [
    {
     "data": {
      "text/plain": [
       "person    19415\n",
       "dtype: int64"
      ]
     },
     "execution_count": 26,
     "metadata": {},
     "output_type": "execute_result"
    }
   ],
   "source": [
    "result.count()"
   ]
  },
  {
   "cell_type": "code",
   "execution_count": 27,
   "metadata": {},
   "outputs": [],
   "source": [
    "result = result.merge(prediction_set, how='left', on='person')\n",
    "result = result[['person', 'label']]\n",
    "result.fillna(0, inplace=True)\n",
    "result['label'] = result['label'].astype('int')"
   ]
  },
  {
   "cell_type": "code",
   "execution_count": 28,
   "metadata": {},
   "outputs": [
    {
     "data": {
      "text/plain": [
       "person    14473503\n",
       "label     14473503\n",
       "dtype: int64"
      ]
     },
     "execution_count": 28,
     "metadata": {},
     "output_type": "execute_result"
    }
   ],
   "source": [
    "result.count()"
   ]
  },
  {
   "cell_type": "code",
   "execution_count": 29,
   "metadata": {},
   "outputs": [
    {
     "data": {
      "text/plain": [
       "person    19415\n",
       "label     19415\n",
       "dtype: int64"
      ]
     },
     "execution_count": 29,
     "metadata": {},
     "output_type": "execute_result"
    }
   ],
   "source": [
    "# eliminamos duplicados haciendo un groupby por person y quedandonos con label 1 si la suma es mayor a 0\n",
    "result = result.groupby('person').sum()\n",
    "result.reset_index(inplace=True)\n",
    "result[['label']] = result[['label']].applymap(lambda x: 1 if x > 0 else 0)\n",
    "result.count()"
   ]
  },
  {
   "cell_type": "code",
   "execution_count": 30,
   "metadata": {},
   "outputs": [
    {
     "data": {
      "text/plain": [
       "(6918, 2)"
      ]
     },
     "execution_count": 30,
     "metadata": {},
     "output_type": "execute_result"
    }
   ],
   "source": [
    "result[result['label'] == 1].shape"
   ]
  },
  {
   "cell_type": "code",
   "execution_count": 31,
   "metadata": {},
   "outputs": [
    {
     "data": {
      "text/plain": [
       "(12497, 2)"
      ]
     },
     "execution_count": 31,
     "metadata": {},
     "output_type": "execute_result"
    }
   ],
   "source": [
    "result[result['label'] == 0].shape"
   ]
  },
  {
   "cell_type": "code",
   "execution_count": 32,
   "metadata": {},
   "outputs": [],
   "source": [
    "result.to_csv('data/result_pipeline_knn_8_pca_quantile.csv', encoding='utf-8', index=False)"
   ]
  },
  {
   "cell_type": "code",
   "execution_count": 33,
   "metadata": {},
   "outputs": [
    {
     "data": {
      "text/html": [
       "<div>\n",
       "<style scoped>\n",
       "    .dataframe tbody tr th:only-of-type {\n",
       "        vertical-align: middle;\n",
       "    }\n",
       "\n",
       "    .dataframe tbody tr th {\n",
       "        vertical-align: top;\n",
       "    }\n",
       "\n",
       "    .dataframe thead th {\n",
       "        text-align: right;\n",
       "    }\n",
       "</style>\n",
       "<table border=\"1\" class=\"dataframe\">\n",
       "  <thead>\n",
       "    <tr style=\"text-align: right;\">\n",
       "      <th></th>\n",
       "      <th>person</th>\n",
       "      <th>label</th>\n",
       "    </tr>\n",
       "  </thead>\n",
       "  <tbody>\n",
       "    <tr>\n",
       "      <th>0</th>\n",
       "      <td>00091926</td>\n",
       "      <td>1</td>\n",
       "    </tr>\n",
       "    <tr>\n",
       "      <th>1</th>\n",
       "      <td>00091a7a</td>\n",
       "      <td>0</td>\n",
       "    </tr>\n",
       "    <tr>\n",
       "      <th>2</th>\n",
       "      <td>000ba417</td>\n",
       "      <td>1</td>\n",
       "    </tr>\n",
       "    <tr>\n",
       "      <th>3</th>\n",
       "      <td>000e4d9e</td>\n",
       "      <td>1</td>\n",
       "    </tr>\n",
       "    <tr>\n",
       "      <th>4</th>\n",
       "      <td>000e619d</td>\n",
       "      <td>1</td>\n",
       "    </tr>\n",
       "  </tbody>\n",
       "</table>\n",
       "</div>"
      ],
      "text/plain": [
       "     person  label\n",
       "0  00091926      1\n",
       "1  00091a7a      0\n",
       "2  000ba417      1\n",
       "3  000e4d9e      1\n",
       "4  000e619d      1"
      ]
     },
     "execution_count": 33,
     "metadata": {},
     "output_type": "execute_result"
    }
   ],
   "source": [
    "result.head()"
   ]
  },
  {
   "cell_type": "code",
   "execution_count": null,
   "metadata": {},
   "outputs": [],
   "source": []
  }
 ],
 "metadata": {
  "kernelspec": {
   "display_name": "Python 3",
   "language": "python",
   "name": "python3"
  },
  "language_info": {
   "codemirror_mode": {
    "name": "ipython",
    "version": 3
   },
   "file_extension": ".py",
   "mimetype": "text/x-python",
   "name": "python",
   "nbconvert_exporter": "python",
   "pygments_lexer": "ipython3",
   "version": "3.7.0"
  }
 },
 "nbformat": 4,
 "nbformat_minor": 2
}
