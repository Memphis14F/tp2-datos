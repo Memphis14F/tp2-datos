{
 "cells": [
  {
   "cell_type": "code",
   "execution_count": 38,
   "metadata": {},
   "outputs": [],
   "source": [
    "import pandas as pd\n",
    "import numpy as np\n",
    "from sklearn import linear_model\n",
    "from sklearn import model_selection\n",
    "from sklearn import metrics\n",
    "from sklearn.model_selection import train_test_split\n",
    "from sklearn.decomposition import PCA\n",
    "from sklearn.metrics import accuracy_score\n",
    "from sklearn.svm import LinearSVC\n",
    "from sklearn.feature_selection import SelectFromModel\n",
    "from sklearn.neural_network import MLPClassifier\n",
    "from sklearn.neighbors import KNeighborsClassifier\n",
    "from sklearn.decomposition import PCA\n",
    "from sklearn import preprocessing\n",
    "from sklearn.pipeline import make_pipeline"
   ]
  },
  {
   "cell_type": "code",
   "execution_count": 39,
   "metadata": {},
   "outputs": [
    {
     "data": {
      "text/html": [
       "<div>\n",
       "<style scoped>\n",
       "    .dataframe tbody tr th:only-of-type {\n",
       "        vertical-align: middle;\n",
       "    }\n",
       "\n",
       "    .dataframe tbody tr th {\n",
       "        vertical-align: top;\n",
       "    }\n",
       "\n",
       "    .dataframe thead th {\n",
       "        text-align: right;\n",
       "    }\n",
       "</style>\n",
       "<table border=\"1\" class=\"dataframe\">\n",
       "  <thead>\n",
       "    <tr style=\"text-align: right;\">\n",
       "      <th></th>\n",
       "      <th>browser_version</th>\n",
       "      <th>color</th>\n",
       "      <th>compras_prod</th>\n",
       "      <th>condition</th>\n",
       "      <th>country</th>\n",
       "      <th>device_type</th>\n",
       "      <th>model</th>\n",
       "      <th>new_vs_returning</th>\n",
       "      <th>operating_system_version</th>\n",
       "      <th>otros</th>\n",
       "      <th>...</th>\n",
       "      <th>visitas_sitio</th>\n",
       "      <th>vistas_prod</th>\n",
       "      <th>label</th>\n",
       "      <th>person_int</th>\n",
       "      <th>dia_view_prod</th>\n",
       "      <th>mes_view_prod</th>\n",
       "      <th>dia_sem_view_prod</th>\n",
       "      <th>dia_visit_user</th>\n",
       "      <th>mes_visit_user</th>\n",
       "      <th>dia_sem_visit_user</th>\n",
       "    </tr>\n",
       "  </thead>\n",
       "  <tbody>\n",
       "    <tr>\n",
       "      <th>0</th>\n",
       "      <td>102</td>\n",
       "      <td>21</td>\n",
       "      <td>1</td>\n",
       "      <td>4</td>\n",
       "      <td>5</td>\n",
       "      <td>2</td>\n",
       "      <td>174</td>\n",
       "      <td>1</td>\n",
       "      <td>19</td>\n",
       "      <td>0</td>\n",
       "      <td>...</td>\n",
       "      <td>1</td>\n",
       "      <td>0</td>\n",
       "      <td>0</td>\n",
       "      <td>12377</td>\n",
       "      <td>14</td>\n",
       "      <td>5</td>\n",
       "      <td>0</td>\n",
       "      <td>14</td>\n",
       "      <td>5</td>\n",
       "      <td>0</td>\n",
       "    </tr>\n",
       "    <tr>\n",
       "      <th>1</th>\n",
       "      <td>102</td>\n",
       "      <td>21</td>\n",
       "      <td>1</td>\n",
       "      <td>4</td>\n",
       "      <td>5</td>\n",
       "      <td>2</td>\n",
       "      <td>174</td>\n",
       "      <td>2</td>\n",
       "      <td>19</td>\n",
       "      <td>0</td>\n",
       "      <td>...</td>\n",
       "      <td>1</td>\n",
       "      <td>0</td>\n",
       "      <td>0</td>\n",
       "      <td>12377</td>\n",
       "      <td>14</td>\n",
       "      <td>5</td>\n",
       "      <td>0</td>\n",
       "      <td>16</td>\n",
       "      <td>5</td>\n",
       "      <td>2</td>\n",
       "    </tr>\n",
       "    <tr>\n",
       "      <th>2</th>\n",
       "      <td>102</td>\n",
       "      <td>21</td>\n",
       "      <td>1</td>\n",
       "      <td>4</td>\n",
       "      <td>5</td>\n",
       "      <td>2</td>\n",
       "      <td>174</td>\n",
       "      <td>2</td>\n",
       "      <td>19</td>\n",
       "      <td>0</td>\n",
       "      <td>...</td>\n",
       "      <td>1</td>\n",
       "      <td>0</td>\n",
       "      <td>0</td>\n",
       "      <td>12377</td>\n",
       "      <td>14</td>\n",
       "      <td>5</td>\n",
       "      <td>0</td>\n",
       "      <td>18</td>\n",
       "      <td>5</td>\n",
       "      <td>4</td>\n",
       "    </tr>\n",
       "    <tr>\n",
       "      <th>3</th>\n",
       "      <td>102</td>\n",
       "      <td>21</td>\n",
       "      <td>1</td>\n",
       "      <td>4</td>\n",
       "      <td>5</td>\n",
       "      <td>2</td>\n",
       "      <td>174</td>\n",
       "      <td>2</td>\n",
       "      <td>19</td>\n",
       "      <td>0</td>\n",
       "      <td>...</td>\n",
       "      <td>1</td>\n",
       "      <td>0</td>\n",
       "      <td>0</td>\n",
       "      <td>12377</td>\n",
       "      <td>14</td>\n",
       "      <td>5</td>\n",
       "      <td>0</td>\n",
       "      <td>18</td>\n",
       "      <td>5</td>\n",
       "      <td>4</td>\n",
       "    </tr>\n",
       "    <tr>\n",
       "      <th>4</th>\n",
       "      <td>102</td>\n",
       "      <td>21</td>\n",
       "      <td>1</td>\n",
       "      <td>4</td>\n",
       "      <td>5</td>\n",
       "      <td>2</td>\n",
       "      <td>174</td>\n",
       "      <td>2</td>\n",
       "      <td>19</td>\n",
       "      <td>0</td>\n",
       "      <td>...</td>\n",
       "      <td>1</td>\n",
       "      <td>0</td>\n",
       "      <td>0</td>\n",
       "      <td>12377</td>\n",
       "      <td>14</td>\n",
       "      <td>5</td>\n",
       "      <td>0</td>\n",
       "      <td>22</td>\n",
       "      <td>5</td>\n",
       "      <td>1</td>\n",
       "    </tr>\n",
       "  </tbody>\n",
       "</table>\n",
       "<p>5 rows × 24 columns</p>\n",
       "</div>"
      ],
      "text/plain": [
       "   browser_version  color  compras_prod  condition  country  device_type  \\\n",
       "0              102     21             1          4        5            2   \n",
       "1              102     21             1          4        5            2   \n",
       "2              102     21             1          4        5            2   \n",
       "3              102     21             1          4        5            2   \n",
       "4              102     21             1          4        5            2   \n",
       "\n",
       "   model  new_vs_returning  operating_system_version  otros  \\\n",
       "0    174                 1                        19      0   \n",
       "1    174                 2                        19      0   \n",
       "2    174                 2                        19      0   \n",
       "3    174                 2                        19      0   \n",
       "4    174                 2                        19      0   \n",
       "\n",
       "          ...         visitas_sitio  vistas_prod  label  person_int  \\\n",
       "0         ...                     1            0      0       12377   \n",
       "1         ...                     1            0      0       12377   \n",
       "2         ...                     1            0      0       12377   \n",
       "3         ...                     1            0      0       12377   \n",
       "4         ...                     1            0      0       12377   \n",
       "\n",
       "   dia_view_prod  mes_view_prod  dia_sem_view_prod  dia_visit_user  \\\n",
       "0             14              5                  0              14   \n",
       "1             14              5                  0              16   \n",
       "2             14              5                  0              18   \n",
       "3             14              5                  0              18   \n",
       "4             14              5                  0              22   \n",
       "\n",
       "   mes_visit_user  dia_sem_visit_user  \n",
       "0               5                   0  \n",
       "1               5                   2  \n",
       "2               5                   4  \n",
       "3               5                   4  \n",
       "4               5                   1  \n",
       "\n",
       "[5 rows x 24 columns]"
      ]
     },
     "execution_count": 39,
     "metadata": {},
     "output_type": "execute_result"
    }
   ],
   "source": [
    "training_set = pd.read_csv('data/set_entrenamiento_8.csv')\n",
    "training_set.head()"
   ]
  },
  {
   "cell_type": "code",
   "execution_count": 40,
   "metadata": {},
   "outputs": [
    {
     "data": {
      "text/plain": [
       "Index(['browser_version', 'color', 'compras_prod', 'condition', 'country',\n",
       "       'device_type', 'model', 'new_vs_returning', 'operating_system_version',\n",
       "       'otros', 'person', 'region', 'screen_resolution', 'storage',\n",
       "       'visitas_sitio', 'vistas_prod', 'label', 'person_int', 'dia_view_prod',\n",
       "       'mes_view_prod', 'dia_sem_view_prod', 'dia_visit_user',\n",
       "       'mes_visit_user', 'dia_sem_visit_user'],\n",
       "      dtype='object')"
      ]
     },
     "execution_count": 40,
     "metadata": {},
     "output_type": "execute_result"
    }
   ],
   "source": [
    "training_set.columns"
   ]
  },
  {
   "cell_type": "markdown",
   "metadata": {},
   "source": [
    "# Entrenamiento"
   ]
  },
  {
   "cell_type": "code",
   "execution_count": 41,
   "metadata": {},
   "outputs": [],
   "source": [
    "# dfix = training_set.loc[:,['model', 'condition', 'storage', 'color', 'new_vs_returning', 'region', 'country', 'device_type', 'screen_resolution', 'operating_system_version', 'browser_version', 'dia_view_prod', 'mes_view_prod', 'hora_view_prod', 'minuto_view_prod', 'dia_visit_user', 'mes_visit_user', 'hora_visit_user', 'minuto_visit_user']]"
   ]
  },
  {
   "cell_type": "code",
   "execution_count": 42,
   "metadata": {},
   "outputs": [],
   "source": [
    "# dfix = training_set.loc[:,['model', 'condition', 'storage', 'color', 'new_vs_returning', 'region', 'country', 'device_type', 'operating_system_version', 'dia_visit_user', 'mes_visit_user', 'hora_visit_user', 'minuto_visit_user']]"
   ]
  },
  {
   "cell_type": "code",
   "execution_count": 43,
   "metadata": {},
   "outputs": [],
   "source": [
    "dfix = training_set.loc[:,['model', 'condition', 'storage', 'color', 'compras_prod', 'vistas_prod', 'otros', 'new_vs_returning', 'region', 'country', 'device_type', 'screen_resolution', 'operating_system_version', 'browser_version', 'visitas_sitio', 'dia_view_prod', 'mes_view_prod', 'dia_sem_view_prod', 'dia_visit_user', 'mes_visit_user', 'dia_sem_visit_user']]"
   ]
  },
  {
   "cell_type": "code",
   "execution_count": 44,
   "metadata": {},
   "outputs": [],
   "source": [
    "# features a entrenar\n",
    "X = np.array(dfix)\n",
    "# feature a predecir\n",
    "y = np.array(training_set['label'])"
   ]
  },
  {
   "cell_type": "code",
   "execution_count": 45,
   "metadata": {},
   "outputs": [],
   "source": [
    "del training_set\n",
    "del dfix"
   ]
  },
  {
   "cell_type": "code",
   "execution_count": 46,
   "metadata": {},
   "outputs": [],
   "source": [
    "X_train, X_test, y_train, y_test = train_test_split(X, y, test_size=0.25, random_state=7506)"
   ]
  },
  {
   "cell_type": "code",
   "execution_count": 47,
   "metadata": {},
   "outputs": [
    {
     "name": "stdout",
     "output_type": "stream",
     "text": [
      "207540\n",
      "295203\n"
     ]
    }
   ],
   "source": [
    "print(np.count_nonzero(y_train == 1))\n",
    "print(np.count_nonzero(y_train == 0))"
   ]
  },
  {
   "cell_type": "code",
   "execution_count": 9,
   "metadata": {},
   "outputs": [
    {
     "name": "stdout",
     "output_type": "stream",
     "text": [
      "# 1: 0.907178923885185\n",
      "# 2: 0.8861172844236681\n",
      "# 3: 0.8696622133667118\n",
      "# 4: 0.8620158207099735\n",
      "# 5: 0.8529431799797345\n",
      "# 6: 0.8495031547755895\n",
      "# 7: 0.8441387590364523\n",
      "# 8: 0.8427636004461815\n",
      "# 9: 0.8381740618693642\n",
      "# 10: 0.8374588091041459\n",
      "# 11: 0.8342103694621129\n",
      "# 12: 0.8336143254910977\n",
      "# 13: 0.8320135216832282\n",
      "# 14: 0.830838463568941\n"
     ]
    }
   ],
   "source": [
    "#Busco el mejor k aproximadamente\n",
    "for i in range(1, 15):    \n",
    "    knn = make_pipeline(\n",
    "                    preprocessing.QuantileTransformer(), \n",
    "                    PCA(n_components=3), \n",
    "#                     MLPClassifier()\n",
    "                    KNeighborsClassifier(n_neighbors=i)\n",
    "                   )\n",
    "    knn.fit(X_train, y_train)                   \n",
    "    pred = knn.predict(X_test)              \n",
    "    print (\"# \" + str(i) + \": \" + str(accuracy_score(y_test, pred)))\n",
    "    \n",
    "# 1: 0.8711083976830339\n",
    "# 2: 0.9074947144682246\n",
    "# 3: 0.897703761489672\n",
    "# 4: 0.9059382619739436\n",
    "# 5: 0.9005302490700856\n",
    "# 6: 0.9070236332048224\n",
    "# 7: 0.9047699804407059\n",
    "# 8: 0.9064922535397046\n",
    "# 9: 0.9052749795550732\n",
    "# 10: 0.9066090816930283\n",
    "# 11: 0.9063980372870242\n",
    "# 12: 0.9068088201487109\n",
    "# 13: 0.9062359853324138\n",
    "# 14: 0.9070801629564307\n",
    "# 15: 0.9065902384424923\n",
    "# 16: 0.9068201260990326\n",
    "# 17: 0.9062472912827354\n",
    "# 18: 0.9064018059371314\n",
    "# 19: 0.9069256483020347\n",
    "# 20: 0.9068314320493542\n",
    "# 21: 0.906722141196245\n",
    "# 22: 0.906360350785952"
   ]
  },
  {
   "cell_type": "code",
   "execution_count": 10,
   "metadata": {},
   "outputs": [],
   "source": [
    "clf = make_pipeline(\n",
    "                    preprocessing.QuantileTransformer(), \n",
    "                    PCA(n_components=3), \n",
    "#                     MLPClassifier()\n",
    "                    KNeighborsClassifier(n_neighbors=8)\n",
    "                   )"
   ]
  },
  {
   "cell_type": "code",
   "execution_count": 11,
   "metadata": {},
   "outputs": [
    {
     "data": {
      "text/plain": [
       "Pipeline(memory=None,\n",
       "     steps=[('quantiletransformer', QuantileTransformer(copy=True, ignore_implicit_zeros=False, n_quantiles=1000,\n",
       "          output_distribution='uniform', random_state=None,\n",
       "          subsample=100000)), ('pca', PCA(copy=True, iterated_power='auto', n_components=3, random_state=None,\n",
       "  svd_solver='auto',...owski',\n",
       "           metric_params=None, n_jobs=1, n_neighbors=8, p=2,\n",
       "           weights='uniform'))])"
      ]
     },
     "execution_count": 11,
     "metadata": {},
     "output_type": "execute_result"
    }
   ],
   "source": [
    "clf.fit(X_train, y_train)"
   ]
  },
  {
   "cell_type": "code",
   "execution_count": 12,
   "metadata": {},
   "outputs": [
    {
     "name": "stdout",
     "output_type": "stream",
     "text": [
      "69083\n",
      "165799\n"
     ]
    }
   ],
   "source": [
    "print(np.count_nonzero(y_test == 1))\n",
    "print(np.count_nonzero(y_test == 0))"
   ]
  },
  {
   "cell_type": "markdown",
   "metadata": {},
   "source": [
    "# Prediccion"
   ]
  },
  {
   "cell_type": "code",
   "execution_count": 13,
   "metadata": {},
   "outputs": [],
   "source": [
    "pred = clf.predict(X_test)"
   ]
  },
  {
   "cell_type": "code",
   "execution_count": 14,
   "metadata": {},
   "outputs": [
    {
     "name": "stdout",
     "output_type": "stream",
     "text": [
      "58048\n",
      "176834\n"
     ]
    }
   ],
   "source": [
    "print(np.count_nonzero(pred == 1))\n",
    "print(np.count_nonzero(pred == 0))"
   ]
  },
  {
   "cell_type": "code",
   "execution_count": 15,
   "metadata": {},
   "outputs": [
    {
     "name": "stdout",
     "output_type": "stream",
     "text": [
      "0.8425379552285829\n"
     ]
    }
   ],
   "source": [
    "print (accuracy_score(y_test, pred))"
   ]
  },
  {
   "cell_type": "code",
   "execution_count": 16,
   "metadata": {},
   "outputs": [
    {
     "data": {
      "text/plain": [
       "(234882,)"
      ]
     },
     "execution_count": 16,
     "metadata": {},
     "output_type": "execute_result"
    }
   ],
   "source": [
    "pred.shape"
   ]
  },
  {
   "cell_type": "code",
   "execution_count": 18,
   "metadata": {
    "scrolled": true
   },
   "outputs": [
    {
     "data": {
      "text/html": [
       "<div>\n",
       "<style scoped>\n",
       "    .dataframe tbody tr th:only-of-type {\n",
       "        vertical-align: middle;\n",
       "    }\n",
       "\n",
       "    .dataframe tbody tr th {\n",
       "        vertical-align: top;\n",
       "    }\n",
       "\n",
       "    .dataframe thead th {\n",
       "        text-align: right;\n",
       "    }\n",
       "</style>\n",
       "<table border=\"1\" class=\"dataframe\">\n",
       "  <thead>\n",
       "    <tr style=\"text-align: right;\">\n",
       "      <th></th>\n",
       "      <th>person</th>\n",
       "      <th>model</th>\n",
       "      <th>condition</th>\n",
       "      <th>storage</th>\n",
       "      <th>color</th>\n",
       "      <th>compras_prod</th>\n",
       "      <th>vistas_prod</th>\n",
       "      <th>otros</th>\n",
       "      <th>new_vs_returning</th>\n",
       "      <th>region</th>\n",
       "      <th>...</th>\n",
       "      <th>operating_system_version</th>\n",
       "      <th>browser_version</th>\n",
       "      <th>visitas_sitio</th>\n",
       "      <th>person_int</th>\n",
       "      <th>dia_view_prod</th>\n",
       "      <th>mes_view_prod</th>\n",
       "      <th>dia_sem_view_prod</th>\n",
       "      <th>dia_visit_user</th>\n",
       "      <th>mes_visit_user</th>\n",
       "      <th>dia_sem_visit_user</th>\n",
       "    </tr>\n",
       "  </thead>\n",
       "  <tbody>\n",
       "    <tr>\n",
       "      <th>0</th>\n",
       "      <td>4886f805</td>\n",
       "      <td>97</td>\n",
       "      <td>3</td>\n",
       "      <td>4</td>\n",
       "      <td>28</td>\n",
       "      <td>1</td>\n",
       "      <td>0</td>\n",
       "      <td>0</td>\n",
       "      <td>1</td>\n",
       "      <td>78</td>\n",
       "      <td>...</td>\n",
       "      <td>24</td>\n",
       "      <td>110</td>\n",
       "      <td>1</td>\n",
       "      <td>5476</td>\n",
       "      <td>18</td>\n",
       "      <td>5</td>\n",
       "      <td>4</td>\n",
       "      <td>18</td>\n",
       "      <td>5</td>\n",
       "      <td>4</td>\n",
       "    </tr>\n",
       "    <tr>\n",
       "      <th>1</th>\n",
       "      <td>0297fc1e</td>\n",
       "      <td>180</td>\n",
       "      <td>1</td>\n",
       "      <td>4</td>\n",
       "      <td>34</td>\n",
       "      <td>1</td>\n",
       "      <td>0</td>\n",
       "      <td>0</td>\n",
       "      <td>2</td>\n",
       "      <td>78</td>\n",
       "      <td>...</td>\n",
       "      <td>22</td>\n",
       "      <td>111</td>\n",
       "      <td>1</td>\n",
       "      <td>189</td>\n",
       "      <td>22</td>\n",
       "      <td>5</td>\n",
       "      <td>1</td>\n",
       "      <td>2</td>\n",
       "      <td>5</td>\n",
       "      <td>2</td>\n",
       "    </tr>\n",
       "    <tr>\n",
       "      <th>2</th>\n",
       "      <td>0297fc1e</td>\n",
       "      <td>180</td>\n",
       "      <td>1</td>\n",
       "      <td>4</td>\n",
       "      <td>34</td>\n",
       "      <td>1</td>\n",
       "      <td>0</td>\n",
       "      <td>0</td>\n",
       "      <td>2</td>\n",
       "      <td>78</td>\n",
       "      <td>...</td>\n",
       "      <td>22</td>\n",
       "      <td>111</td>\n",
       "      <td>1</td>\n",
       "      <td>189</td>\n",
       "      <td>22</td>\n",
       "      <td>5</td>\n",
       "      <td>1</td>\n",
       "      <td>2</td>\n",
       "      <td>5</td>\n",
       "      <td>2</td>\n",
       "    </tr>\n",
       "    <tr>\n",
       "      <th>3</th>\n",
       "      <td>0297fc1e</td>\n",
       "      <td>180</td>\n",
       "      <td>1</td>\n",
       "      <td>4</td>\n",
       "      <td>34</td>\n",
       "      <td>1</td>\n",
       "      <td>0</td>\n",
       "      <td>0</td>\n",
       "      <td>2</td>\n",
       "      <td>78</td>\n",
       "      <td>...</td>\n",
       "      <td>22</td>\n",
       "      <td>111</td>\n",
       "      <td>1</td>\n",
       "      <td>189</td>\n",
       "      <td>22</td>\n",
       "      <td>5</td>\n",
       "      <td>1</td>\n",
       "      <td>3</td>\n",
       "      <td>5</td>\n",
       "      <td>3</td>\n",
       "    </tr>\n",
       "    <tr>\n",
       "      <th>4</th>\n",
       "      <td>0297fc1e</td>\n",
       "      <td>180</td>\n",
       "      <td>1</td>\n",
       "      <td>4</td>\n",
       "      <td>34</td>\n",
       "      <td>1</td>\n",
       "      <td>0</td>\n",
       "      <td>0</td>\n",
       "      <td>2</td>\n",
       "      <td>78</td>\n",
       "      <td>...</td>\n",
       "      <td>22</td>\n",
       "      <td>111</td>\n",
       "      <td>1</td>\n",
       "      <td>189</td>\n",
       "      <td>22</td>\n",
       "      <td>5</td>\n",
       "      <td>1</td>\n",
       "      <td>10</td>\n",
       "      <td>5</td>\n",
       "      <td>3</td>\n",
       "    </tr>\n",
       "  </tbody>\n",
       "</table>\n",
       "<p>5 rows × 23 columns</p>\n",
       "</div>"
      ],
      "text/plain": [
       "     person  model  condition  storage  color  compras_prod  vistas_prod  \\\n",
       "0  4886f805     97          3        4     28             1            0   \n",
       "1  0297fc1e    180          1        4     34             1            0   \n",
       "2  0297fc1e    180          1        4     34             1            0   \n",
       "3  0297fc1e    180          1        4     34             1            0   \n",
       "4  0297fc1e    180          1        4     34             1            0   \n",
       "\n",
       "   otros  new_vs_returning  region         ...          \\\n",
       "0      0                 1      78         ...           \n",
       "1      0                 2      78         ...           \n",
       "2      0                 2      78         ...           \n",
       "3      0                 2      78         ...           \n",
       "4      0                 2      78         ...           \n",
       "\n",
       "   operating_system_version  browser_version  visitas_sitio  person_int  \\\n",
       "0                        24              110              1        5476   \n",
       "1                        22              111              1         189   \n",
       "2                        22              111              1         189   \n",
       "3                        22              111              1         189   \n",
       "4                        22              111              1         189   \n",
       "\n",
       "   dia_view_prod  mes_view_prod  dia_sem_view_prod  dia_visit_user  \\\n",
       "0             18              5                  4              18   \n",
       "1             22              5                  1               2   \n",
       "2             22              5                  1               2   \n",
       "3             22              5                  1               3   \n",
       "4             22              5                  1              10   \n",
       "\n",
       "   mes_visit_user  dia_sem_visit_user  \n",
       "0               5                   4  \n",
       "1               5                   2  \n",
       "2               5                   2  \n",
       "3               5                   3  \n",
       "4               5                   3  \n",
       "\n",
       "[5 rows x 23 columns]"
      ]
     },
     "execution_count": 18,
     "metadata": {},
     "output_type": "execute_result"
    }
   ],
   "source": [
    "prediction_set = pd.read_csv('data/set_prediccion_7.csv')\n",
    "prediction_set.head()"
   ]
  },
  {
   "cell_type": "code",
   "execution_count": 25,
   "metadata": {},
   "outputs": [],
   "source": [
    "# dfix_prediction = prediction_set.loc[:,['model', 'condition', 'storage', 'color', 'new_vs_returning', 'region', 'country', 'device_type', 'screen_resolution', 'operating_system_version', 'browser_version', 'dia_view_prod', 'mes_view_prod', 'hora_view_prod', 'minuto_view_prod', 'dia_visit_user', 'mes_visit_user', 'hora_visit_user', 'minuto_visit_user']]\n",
    "# dfix_prediction = prediction_set.loc[:,['model', 'condition', 'storage', 'color', 'new_vs_returning', 'region', 'country', 'device_type', 'operating_system_version', 'dia_visit_user', 'mes_visit_user', 'hora_visit_user', 'minuto_visit_user']]\n",
    "dfix_prediction = prediction_set.loc[:,['model', 'condition', 'storage', 'color', 'compras_prod', 'vistas_prod', 'otros', 'new_vs_returning', 'region', 'country', 'device_type', 'screen_resolution', 'operating_system_version', 'browser_version', 'visitas_sitio', 'dia_view_prod', 'mes_view_prod', 'dia_sem_view_prod', 'dia_visit_user', 'mes_visit_user', 'dia_sem_visit_user']]\n",
    "X_full_data = np.array(dfix_prediction)"
   ]
  },
  {
   "cell_type": "code",
   "execution_count": 26,
   "metadata": {},
   "outputs": [
    {
     "ename": "NameError",
     "evalue": "name 'X' is not defined",
     "output_type": "error",
     "traceback": [
      "\u001b[0;31m---------------------------------------------------------------------------\u001b[0m",
      "\u001b[0;31mNameError\u001b[0m                                 Traceback (most recent call last)",
      "\u001b[0;32m<ipython-input-26-9c46d45cc1ba>\u001b[0m in \u001b[0;36m<module>\u001b[0;34m()\u001b[0m\n\u001b[1;32m      1\u001b[0m \u001b[0;32mdel\u001b[0m \u001b[0mdfix_prediction\u001b[0m\u001b[0;34m\u001b[0m\u001b[0m\n\u001b[0;32m----> 2\u001b[0;31m \u001b[0;32mdel\u001b[0m \u001b[0mX\u001b[0m\u001b[0;34m\u001b[0m\u001b[0m\n\u001b[0m\u001b[1;32m      3\u001b[0m \u001b[0;32mdel\u001b[0m \u001b[0my\u001b[0m\u001b[0;34m\u001b[0m\u001b[0m\n\u001b[1;32m      4\u001b[0m \u001b[0;32mdel\u001b[0m \u001b[0mX_train\u001b[0m\u001b[0;34m\u001b[0m\u001b[0m\n\u001b[1;32m      5\u001b[0m \u001b[0;32mdel\u001b[0m \u001b[0mX_test\u001b[0m\u001b[0;34m\u001b[0m\u001b[0m\n",
      "\u001b[0;31mNameError\u001b[0m: name 'X' is not defined"
     ]
    }
   ],
   "source": [
    "del dfix_prediction\n",
    "del X\n",
    "del y\n",
    "del X_train \n",
    "del X_test \n",
    "del y_train \n",
    "del y_test"
   ]
  },
  {
   "cell_type": "code",
   "execution_count": 27,
   "metadata": {},
   "outputs": [
    {
     "data": {
      "text/html": [
       "<div>\n",
       "<style scoped>\n",
       "    .dataframe tbody tr th:only-of-type {\n",
       "        vertical-align: middle;\n",
       "    }\n",
       "\n",
       "    .dataframe tbody tr th {\n",
       "        vertical-align: top;\n",
       "    }\n",
       "\n",
       "    .dataframe thead th {\n",
       "        text-align: right;\n",
       "    }\n",
       "</style>\n",
       "<table border=\"1\" class=\"dataframe\">\n",
       "  <thead>\n",
       "    <tr style=\"text-align: right;\">\n",
       "      <th></th>\n",
       "      <th>person</th>\n",
       "      <th>model</th>\n",
       "      <th>condition</th>\n",
       "      <th>storage</th>\n",
       "      <th>color</th>\n",
       "      <th>compras_prod</th>\n",
       "      <th>vistas_prod</th>\n",
       "      <th>otros</th>\n",
       "      <th>new_vs_returning</th>\n",
       "      <th>region</th>\n",
       "      <th>...</th>\n",
       "      <th>browser_version</th>\n",
       "      <th>visitas_sitio</th>\n",
       "      <th>person_int</th>\n",
       "      <th>dia_view_prod</th>\n",
       "      <th>mes_view_prod</th>\n",
       "      <th>dia_sem_view_prod</th>\n",
       "      <th>dia_visit_user</th>\n",
       "      <th>mes_visit_user</th>\n",
       "      <th>dia_sem_visit_user</th>\n",
       "      <th>label</th>\n",
       "    </tr>\n",
       "  </thead>\n",
       "  <tbody>\n",
       "    <tr>\n",
       "      <th>0</th>\n",
       "      <td>4886f805</td>\n",
       "      <td>97</td>\n",
       "      <td>3</td>\n",
       "      <td>4</td>\n",
       "      <td>28</td>\n",
       "      <td>1</td>\n",
       "      <td>0</td>\n",
       "      <td>0</td>\n",
       "      <td>1</td>\n",
       "      <td>78</td>\n",
       "      <td>...</td>\n",
       "      <td>110</td>\n",
       "      <td>1</td>\n",
       "      <td>5476</td>\n",
       "      <td>18</td>\n",
       "      <td>5</td>\n",
       "      <td>4</td>\n",
       "      <td>18</td>\n",
       "      <td>5</td>\n",
       "      <td>4</td>\n",
       "      <td>0</td>\n",
       "    </tr>\n",
       "    <tr>\n",
       "      <th>1</th>\n",
       "      <td>0297fc1e</td>\n",
       "      <td>180</td>\n",
       "      <td>1</td>\n",
       "      <td>4</td>\n",
       "      <td>34</td>\n",
       "      <td>1</td>\n",
       "      <td>0</td>\n",
       "      <td>0</td>\n",
       "      <td>2</td>\n",
       "      <td>78</td>\n",
       "      <td>...</td>\n",
       "      <td>111</td>\n",
       "      <td>1</td>\n",
       "      <td>189</td>\n",
       "      <td>22</td>\n",
       "      <td>5</td>\n",
       "      <td>1</td>\n",
       "      <td>2</td>\n",
       "      <td>5</td>\n",
       "      <td>2</td>\n",
       "      <td>0</td>\n",
       "    </tr>\n",
       "    <tr>\n",
       "      <th>2</th>\n",
       "      <td>0297fc1e</td>\n",
       "      <td>180</td>\n",
       "      <td>1</td>\n",
       "      <td>4</td>\n",
       "      <td>34</td>\n",
       "      <td>1</td>\n",
       "      <td>0</td>\n",
       "      <td>0</td>\n",
       "      <td>2</td>\n",
       "      <td>78</td>\n",
       "      <td>...</td>\n",
       "      <td>111</td>\n",
       "      <td>1</td>\n",
       "      <td>189</td>\n",
       "      <td>22</td>\n",
       "      <td>5</td>\n",
       "      <td>1</td>\n",
       "      <td>2</td>\n",
       "      <td>5</td>\n",
       "      <td>2</td>\n",
       "      <td>0</td>\n",
       "    </tr>\n",
       "    <tr>\n",
       "      <th>3</th>\n",
       "      <td>0297fc1e</td>\n",
       "      <td>180</td>\n",
       "      <td>1</td>\n",
       "      <td>4</td>\n",
       "      <td>34</td>\n",
       "      <td>1</td>\n",
       "      <td>0</td>\n",
       "      <td>0</td>\n",
       "      <td>2</td>\n",
       "      <td>78</td>\n",
       "      <td>...</td>\n",
       "      <td>111</td>\n",
       "      <td>1</td>\n",
       "      <td>189</td>\n",
       "      <td>22</td>\n",
       "      <td>5</td>\n",
       "      <td>1</td>\n",
       "      <td>3</td>\n",
       "      <td>5</td>\n",
       "      <td>3</td>\n",
       "      <td>0</td>\n",
       "    </tr>\n",
       "    <tr>\n",
       "      <th>4</th>\n",
       "      <td>0297fc1e</td>\n",
       "      <td>180</td>\n",
       "      <td>1</td>\n",
       "      <td>4</td>\n",
       "      <td>34</td>\n",
       "      <td>1</td>\n",
       "      <td>0</td>\n",
       "      <td>0</td>\n",
       "      <td>2</td>\n",
       "      <td>78</td>\n",
       "      <td>...</td>\n",
       "      <td>111</td>\n",
       "      <td>1</td>\n",
       "      <td>189</td>\n",
       "      <td>22</td>\n",
       "      <td>5</td>\n",
       "      <td>1</td>\n",
       "      <td>10</td>\n",
       "      <td>5</td>\n",
       "      <td>3</td>\n",
       "      <td>0</td>\n",
       "    </tr>\n",
       "  </tbody>\n",
       "</table>\n",
       "<p>5 rows × 24 columns</p>\n",
       "</div>"
      ],
      "text/plain": [
       "     person  model  condition  storage  color  compras_prod  vistas_prod  \\\n",
       "0  4886f805     97          3        4     28             1            0   \n",
       "1  0297fc1e    180          1        4     34             1            0   \n",
       "2  0297fc1e    180          1        4     34             1            0   \n",
       "3  0297fc1e    180          1        4     34             1            0   \n",
       "4  0297fc1e    180          1        4     34             1            0   \n",
       "\n",
       "   otros  new_vs_returning  region  ...    browser_version  visitas_sitio  \\\n",
       "0      0                 1      78  ...                110              1   \n",
       "1      0                 2      78  ...                111              1   \n",
       "2      0                 2      78  ...                111              1   \n",
       "3      0                 2      78  ...                111              1   \n",
       "4      0                 2      78  ...                111              1   \n",
       "\n",
       "   person_int  dia_view_prod  mes_view_prod  dia_sem_view_prod  \\\n",
       "0        5476             18              5                  4   \n",
       "1         189             22              5                  1   \n",
       "2         189             22              5                  1   \n",
       "3         189             22              5                  1   \n",
       "4         189             22              5                  1   \n",
       "\n",
       "   dia_visit_user  mes_visit_user  dia_sem_visit_user  label  \n",
       "0              18               5                   4      0  \n",
       "1               2               5                   2      0  \n",
       "2               2               5                   2      0  \n",
       "3               3               5                   3      0  \n",
       "4              10               5                   3      0  \n",
       "\n",
       "[5 rows x 24 columns]"
      ]
     },
     "execution_count": 27,
     "metadata": {},
     "output_type": "execute_result"
    }
   ],
   "source": [
    "pred_full_data = clf.predict(X_full_data)\n",
    "prediction_set['label'] = pred_full_data\n",
    "prediction_set.head()"
   ]
  },
  {
   "cell_type": "code",
   "execution_count": 28,
   "metadata": {},
   "outputs": [],
   "source": [
    "del X_full_data\n",
    "del pred_full_data"
   ]
  },
  {
   "cell_type": "markdown",
   "metadata": {},
   "source": [
    "# Resultado"
   ]
  },
  {
   "cell_type": "code",
   "execution_count": 29,
   "metadata": {},
   "outputs": [
    {
     "data": {
      "text/html": [
       "<div>\n",
       "<style scoped>\n",
       "    .dataframe tbody tr th:only-of-type {\n",
       "        vertical-align: middle;\n",
       "    }\n",
       "\n",
       "    .dataframe tbody tr th {\n",
       "        vertical-align: top;\n",
       "    }\n",
       "\n",
       "    .dataframe thead th {\n",
       "        text-align: right;\n",
       "    }\n",
       "</style>\n",
       "<table border=\"1\" class=\"dataframe\">\n",
       "  <thead>\n",
       "    <tr style=\"text-align: right;\">\n",
       "      <th></th>\n",
       "      <th>person</th>\n",
       "    </tr>\n",
       "  </thead>\n",
       "  <tbody>\n",
       "    <tr>\n",
       "      <th>0</th>\n",
       "      <td>4886f805</td>\n",
       "    </tr>\n",
       "    <tr>\n",
       "      <th>1</th>\n",
       "      <td>0297fc1e</td>\n",
       "    </tr>\n",
       "    <tr>\n",
       "      <th>2</th>\n",
       "      <td>2d681dd8</td>\n",
       "    </tr>\n",
       "    <tr>\n",
       "      <th>3</th>\n",
       "      <td>cccea85e</td>\n",
       "    </tr>\n",
       "    <tr>\n",
       "      <th>4</th>\n",
       "      <td>4c8a8b93</td>\n",
       "    </tr>\n",
       "  </tbody>\n",
       "</table>\n",
       "</div>"
      ],
      "text/plain": [
       "     person\n",
       "0  4886f805\n",
       "1  0297fc1e\n",
       "2  2d681dd8\n",
       "3  cccea85e\n",
       "4  4c8a8b93"
      ]
     },
     "execution_count": 29,
     "metadata": {},
     "output_type": "execute_result"
    }
   ],
   "source": [
    "result = pd.read_csv('data/trocafone_kaggle_test.csv')\n",
    "result.head()"
   ]
  },
  {
   "cell_type": "code",
   "execution_count": 30,
   "metadata": {},
   "outputs": [
    {
     "data": {
      "text/plain": [
       "person    19415\n",
       "dtype: int64"
      ]
     },
     "execution_count": 30,
     "metadata": {},
     "output_type": "execute_result"
    }
   ],
   "source": [
    "result.count()"
   ]
  },
  {
   "cell_type": "code",
   "execution_count": 31,
   "metadata": {},
   "outputs": [],
   "source": [
    "result = result.merge(prediction_set, how='left', on='person')\n",
    "result = result[['person', 'label']]\n",
    "result.fillna(0, inplace=True)\n",
    "result['label'] = result['label'].astype('int')"
   ]
  },
  {
   "cell_type": "code",
   "execution_count": 32,
   "metadata": {},
   "outputs": [
    {
     "data": {
      "text/plain": [
       "person    1293877\n",
       "label     1293877\n",
       "dtype: int64"
      ]
     },
     "execution_count": 32,
     "metadata": {},
     "output_type": "execute_result"
    }
   ],
   "source": [
    "result.count()"
   ]
  },
  {
   "cell_type": "code",
   "execution_count": 33,
   "metadata": {},
   "outputs": [
    {
     "data": {
      "text/plain": [
       "person    24782\n",
       "label     24782\n",
       "dtype: int64"
      ]
     },
     "execution_count": 33,
     "metadata": {},
     "output_type": "execute_result"
    }
   ],
   "source": [
    "result = result.drop_duplicates()\n",
    "result.count()"
   ]
  },
  {
   "cell_type": "code",
   "execution_count": 34,
   "metadata": {},
   "outputs": [
    {
     "data": {
      "text/plain": [
       "person    19415\n",
       "label     19415\n",
       "dtype: int64"
      ]
     },
     "execution_count": 34,
     "metadata": {},
     "output_type": "execute_result"
    }
   ],
   "source": [
    "# eliminamos duplicados haciendo un groupby por person y quedandonos con label 1 si la suma es mayor a 0\n",
    "result = result.groupby('person').sum()\n",
    "result.reset_index(inplace=True)\n",
    "result[['label']] = result[['label']].applymap(lambda x: 1 if x > 0 else 0)\n",
    "result.count()"
   ]
  },
  {
   "cell_type": "code",
   "execution_count": 35,
   "metadata": {},
   "outputs": [
    {
     "data": {
      "text/plain": [
       "(5391, 2)"
      ]
     },
     "execution_count": 35,
     "metadata": {},
     "output_type": "execute_result"
    }
   ],
   "source": [
    "result[result['label'] == 1].shape"
   ]
  },
  {
   "cell_type": "code",
   "execution_count": 36,
   "metadata": {},
   "outputs": [
    {
     "data": {
      "text/plain": [
       "(14024, 2)"
      ]
     },
     "execution_count": 36,
     "metadata": {},
     "output_type": "execute_result"
    }
   ],
   "source": [
    "result[result['label'] == 0].shape"
   ]
  },
  {
   "cell_type": "code",
   "execution_count": 27,
   "metadata": {},
   "outputs": [],
   "source": [
    "result.to_csv('data/result_pipeline_knn_8_pca_quantile_set4.csv', encoding='utf-8', index=False)"
   ]
  },
  {
   "cell_type": "code",
   "execution_count": 37,
   "metadata": {},
   "outputs": [
    {
     "data": {
      "text/html": [
       "<div>\n",
       "<style scoped>\n",
       "    .dataframe tbody tr th:only-of-type {\n",
       "        vertical-align: middle;\n",
       "    }\n",
       "\n",
       "    .dataframe tbody tr th {\n",
       "        vertical-align: top;\n",
       "    }\n",
       "\n",
       "    .dataframe thead th {\n",
       "        text-align: right;\n",
       "    }\n",
       "</style>\n",
       "<table border=\"1\" class=\"dataframe\">\n",
       "  <thead>\n",
       "    <tr style=\"text-align: right;\">\n",
       "      <th></th>\n",
       "      <th>person</th>\n",
       "      <th>label</th>\n",
       "    </tr>\n",
       "  </thead>\n",
       "  <tbody>\n",
       "    <tr>\n",
       "      <th>0</th>\n",
       "      <td>00091926</td>\n",
       "      <td>0</td>\n",
       "    </tr>\n",
       "    <tr>\n",
       "      <th>1</th>\n",
       "      <td>00091a7a</td>\n",
       "      <td>0</td>\n",
       "    </tr>\n",
       "    <tr>\n",
       "      <th>2</th>\n",
       "      <td>000ba417</td>\n",
       "      <td>1</td>\n",
       "    </tr>\n",
       "    <tr>\n",
       "      <th>3</th>\n",
       "      <td>000e4d9e</td>\n",
       "      <td>0</td>\n",
       "    </tr>\n",
       "    <tr>\n",
       "      <th>4</th>\n",
       "      <td>000e619d</td>\n",
       "      <td>1</td>\n",
       "    </tr>\n",
       "  </tbody>\n",
       "</table>\n",
       "</div>"
      ],
      "text/plain": [
       "     person  label\n",
       "0  00091926      0\n",
       "1  00091a7a      0\n",
       "2  000ba417      1\n",
       "3  000e4d9e      0\n",
       "4  000e619d      1"
      ]
     },
     "execution_count": 37,
     "metadata": {},
     "output_type": "execute_result"
    }
   ],
   "source": [
    "result.head()"
   ]
  },
  {
   "cell_type": "code",
   "execution_count": null,
   "metadata": {},
   "outputs": [],
   "source": []
  }
 ],
 "metadata": {
  "kernelspec": {
   "display_name": "Python 3",
   "language": "python",
   "name": "python3"
  },
  "language_info": {
   "codemirror_mode": {
    "name": "ipython",
    "version": 3
   },
   "file_extension": ".py",
   "mimetype": "text/x-python",
   "name": "python",
   "nbconvert_exporter": "python",
   "pygments_lexer": "ipython3",
   "version": "3.6.5"
  }
 },
 "nbformat": 4,
 "nbformat_minor": 2
}
