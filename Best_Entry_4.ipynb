{
 "cells": [
  {
   "cell_type": "code",
   "execution_count": 1,
   "metadata": {},
   "outputs": [],
   "source": [
    "import pandas as pd\n",
    "import numpy as np\n",
    "from sklearn import linear_model\n",
    "from sklearn import model_selection\n",
    "from sklearn import metrics\n",
    "from sklearn.model_selection import train_test_split\n",
    "from sklearn.decomposition import PCA\n",
    "from sklearn.metrics import accuracy_score\n",
    "from sklearn.svm import LinearSVC\n",
    "from sklearn.feature_selection import SelectFromModel\n",
    "from sklearn.neural_network import MLPClassifier\n",
    "from sklearn import preprocessing\n",
    "from sklearn.pipeline import make_pipeline"
   ]
  },
  {
   "cell_type": "code",
   "execution_count": 2,
   "metadata": {},
   "outputs": [
    {
     "data": {
      "text/html": [
       "<div>\n",
       "<style scoped>\n",
       "    .dataframe tbody tr th:only-of-type {\n",
       "        vertical-align: middle;\n",
       "    }\n",
       "\n",
       "    .dataframe tbody tr th {\n",
       "        vertical-align: top;\n",
       "    }\n",
       "\n",
       "    .dataframe thead th {\n",
       "        text-align: right;\n",
       "    }\n",
       "</style>\n",
       "<table border=\"1\" class=\"dataframe\">\n",
       "  <thead>\n",
       "    <tr style=\"text-align: right;\">\n",
       "      <th></th>\n",
       "      <th>browser_version</th>\n",
       "      <th>color</th>\n",
       "      <th>compras_prod</th>\n",
       "      <th>condition</th>\n",
       "      <th>country</th>\n",
       "      <th>device_type</th>\n",
       "      <th>new_vs_returning</th>\n",
       "      <th>operating_system_version</th>\n",
       "      <th>otros</th>\n",
       "      <th>person</th>\n",
       "      <th>...</th>\n",
       "      <th>label</th>\n",
       "      <th>marca</th>\n",
       "      <th>modelo</th>\n",
       "      <th>person_int</th>\n",
       "      <th>dia_view_prod</th>\n",
       "      <th>mes_view_prod</th>\n",
       "      <th>dia_sem_view_prod</th>\n",
       "      <th>dia_visit_user</th>\n",
       "      <th>mes_visit_user</th>\n",
       "      <th>dia_sem_visit_user</th>\n",
       "    </tr>\n",
       "  </thead>\n",
       "  <tbody>\n",
       "    <tr>\n",
       "      <th>0</th>\n",
       "      <td>99</td>\n",
       "      <td>21</td>\n",
       "      <td>1</td>\n",
       "      <td>4</td>\n",
       "      <td>5</td>\n",
       "      <td>2</td>\n",
       "      <td>1</td>\n",
       "      <td>19</td>\n",
       "      <td>0</td>\n",
       "      <td>ad93850f</td>\n",
       "      <td>...</td>\n",
       "      <td>0</td>\n",
       "      <td>8</td>\n",
       "      <td>12</td>\n",
       "      <td>11288</td>\n",
       "      <td>14</td>\n",
       "      <td>5</td>\n",
       "      <td>0</td>\n",
       "      <td>14</td>\n",
       "      <td>5</td>\n",
       "      <td>0</td>\n",
       "    </tr>\n",
       "    <tr>\n",
       "      <th>1</th>\n",
       "      <td>99</td>\n",
       "      <td>21</td>\n",
       "      <td>1</td>\n",
       "      <td>4</td>\n",
       "      <td>5</td>\n",
       "      <td>2</td>\n",
       "      <td>2</td>\n",
       "      <td>19</td>\n",
       "      <td>0</td>\n",
       "      <td>ad93850f</td>\n",
       "      <td>...</td>\n",
       "      <td>0</td>\n",
       "      <td>8</td>\n",
       "      <td>12</td>\n",
       "      <td>11288</td>\n",
       "      <td>14</td>\n",
       "      <td>5</td>\n",
       "      <td>0</td>\n",
       "      <td>16</td>\n",
       "      <td>5</td>\n",
       "      <td>2</td>\n",
       "    </tr>\n",
       "    <tr>\n",
       "      <th>2</th>\n",
       "      <td>99</td>\n",
       "      <td>21</td>\n",
       "      <td>1</td>\n",
       "      <td>4</td>\n",
       "      <td>5</td>\n",
       "      <td>2</td>\n",
       "      <td>2</td>\n",
       "      <td>19</td>\n",
       "      <td>0</td>\n",
       "      <td>ad93850f</td>\n",
       "      <td>...</td>\n",
       "      <td>0</td>\n",
       "      <td>8</td>\n",
       "      <td>12</td>\n",
       "      <td>11288</td>\n",
       "      <td>14</td>\n",
       "      <td>5</td>\n",
       "      <td>0</td>\n",
       "      <td>18</td>\n",
       "      <td>5</td>\n",
       "      <td>4</td>\n",
       "    </tr>\n",
       "    <tr>\n",
       "      <th>3</th>\n",
       "      <td>99</td>\n",
       "      <td>21</td>\n",
       "      <td>1</td>\n",
       "      <td>4</td>\n",
       "      <td>5</td>\n",
       "      <td>2</td>\n",
       "      <td>2</td>\n",
       "      <td>19</td>\n",
       "      <td>0</td>\n",
       "      <td>ad93850f</td>\n",
       "      <td>...</td>\n",
       "      <td>0</td>\n",
       "      <td>8</td>\n",
       "      <td>12</td>\n",
       "      <td>11288</td>\n",
       "      <td>14</td>\n",
       "      <td>5</td>\n",
       "      <td>0</td>\n",
       "      <td>18</td>\n",
       "      <td>5</td>\n",
       "      <td>4</td>\n",
       "    </tr>\n",
       "    <tr>\n",
       "      <th>4</th>\n",
       "      <td>99</td>\n",
       "      <td>21</td>\n",
       "      <td>1</td>\n",
       "      <td>4</td>\n",
       "      <td>5</td>\n",
       "      <td>2</td>\n",
       "      <td>2</td>\n",
       "      <td>19</td>\n",
       "      <td>0</td>\n",
       "      <td>ad93850f</td>\n",
       "      <td>...</td>\n",
       "      <td>0</td>\n",
       "      <td>8</td>\n",
       "      <td>12</td>\n",
       "      <td>11288</td>\n",
       "      <td>14</td>\n",
       "      <td>5</td>\n",
       "      <td>0</td>\n",
       "      <td>22</td>\n",
       "      <td>5</td>\n",
       "      <td>1</td>\n",
       "    </tr>\n",
       "  </tbody>\n",
       "</table>\n",
       "<p>5 rows × 26 columns</p>\n",
       "</div>"
      ],
      "text/plain": [
       "   browser_version  color  compras_prod  condition  country  device_type  \\\n",
       "0               99     21             1          4        5            2   \n",
       "1               99     21             1          4        5            2   \n",
       "2               99     21             1          4        5            2   \n",
       "3               99     21             1          4        5            2   \n",
       "4               99     21             1          4        5            2   \n",
       "\n",
       "   new_vs_returning  operating_system_version  otros    person  \\\n",
       "0                 1                        19      0  ad93850f   \n",
       "1                 2                        19      0  ad93850f   \n",
       "2                 2                        19      0  ad93850f   \n",
       "3                 2                        19      0  ad93850f   \n",
       "4                 2                        19      0  ad93850f   \n",
       "\n",
       "          ...          label  marca  modelo  person_int  dia_view_prod  \\\n",
       "0         ...              0      8      12       11288             14   \n",
       "1         ...              0      8      12       11288             14   \n",
       "2         ...              0      8      12       11288             14   \n",
       "3         ...              0      8      12       11288             14   \n",
       "4         ...              0      8      12       11288             14   \n",
       "\n",
       "   mes_view_prod  dia_sem_view_prod  dia_visit_user  mes_visit_user  \\\n",
       "0              5                  0              14               5   \n",
       "1              5                  0              16               5   \n",
       "2              5                  0              18               5   \n",
       "3              5                  0              18               5   \n",
       "4              5                  0              22               5   \n",
       "\n",
       "   dia_sem_visit_user  \n",
       "0                   0  \n",
       "1                   2  \n",
       "2                   4  \n",
       "3                   4  \n",
       "4                   1  \n",
       "\n",
       "[5 rows x 26 columns]"
      ]
     },
     "execution_count": 2,
     "metadata": {},
     "output_type": "execute_result"
    }
   ],
   "source": [
    "training_set = pd.read_csv('data/set_entrenamiento_17.csv')\n",
    "training_set.head()"
   ]
  },
  {
   "cell_type": "code",
   "execution_count": 3,
   "metadata": {},
   "outputs": [
    {
     "data": {
      "text/plain": [
       "Index(['browser_version', 'color', 'compras_prod', 'condition', 'country',\n",
       "       'device_type', 'new_vs_returning', 'operating_system_version', 'otros',\n",
       "       'person', 'region', 'screen_resolution', 'sku', 'storage',\n",
       "       'visitas_sitio', 'vistas_prod', 'label', 'marca', 'modelo',\n",
       "       'person_int', 'dia_view_prod', 'mes_view_prod', 'dia_sem_view_prod',\n",
       "       'dia_visit_user', 'mes_visit_user', 'dia_sem_visit_user'],\n",
       "      dtype='object')"
      ]
     },
     "execution_count": 3,
     "metadata": {},
     "output_type": "execute_result"
    }
   ],
   "source": [
    "training_set.columns"
   ]
  },
  {
   "cell_type": "markdown",
   "metadata": {},
   "source": [
    "# Entrenamiento"
   ]
  },
  {
   "cell_type": "code",
   "execution_count": 4,
   "metadata": {},
   "outputs": [],
   "source": [
    "# dfix = training_set.loc[:,['model', 'condition', 'storage', 'color', 'new_vs_returning', 'region', 'country', 'device_type', 'screen_resolution', 'operating_system_version', 'browser_version', 'dia_view_prod', 'mes_view_prod', 'hora_view_prod', 'minuto_view_prod', 'dia_visit_user', 'mes_visit_user', 'hora_visit_user', 'minuto_visit_user']]"
   ]
  },
  {
   "cell_type": "code",
   "execution_count": 5,
   "metadata": {},
   "outputs": [],
   "source": [
    "# dfix = training_set.loc[:,['model', 'condition', 'storage', 'color', 'new_vs_returning', 'region', 'country', 'device_type', 'operating_system_version', 'dia_visit_user', 'mes_visit_user', 'hora_visit_user', 'minuto_visit_user']]"
   ]
  },
  {
   "cell_type": "code",
   "execution_count": 6,
   "metadata": {},
   "outputs": [],
   "source": [
    "# dfix = training_set.loc[:,['model', 'condition', 'storage', 'color', 'compras_prod', 'vistas_prod', 'otros', 'new_vs_returning', 'region', 'country', 'device_type', 'screen_resolution', 'operating_system_version', 'browser_version', 'visitas_sitio', 'dia_view_prod', 'mes_view_prod', 'dia_sem_view_prod', 'dia_visit_user', 'mes_visit_user', 'dia_sem_visit_user']]"
   ]
  },
  {
   "cell_type": "code",
   "execution_count": 7,
   "metadata": {},
   "outputs": [],
   "source": [
    "dfix = training_set.loc[:,['browser_version', 'color', 'compras_prod', 'condition', 'country', 'device_type', 'new_vs_returning', 'operating_system_version', 'otros', 'region', 'screen_resolution', 'storage', 'visitas_sitio', 'vistas_prod', 'marca', 'modelo', 'dia_view_prod', 'mes_view_prod', 'dia_sem_view_prod', 'dia_visit_user', 'mes_visit_user', 'dia_sem_visit_user']]"
   ]
  },
  {
   "cell_type": "code",
   "execution_count": 8,
   "metadata": {},
   "outputs": [],
   "source": [
    "# features a entrenar\n",
    "X = np.array(dfix)\n",
    "# feature a predecir\n",
    "y = np.array(training_set['label'])"
   ]
  },
  {
   "cell_type": "code",
   "execution_count": 9,
   "metadata": {},
   "outputs": [],
   "source": [
    "del training_set\n",
    "del dfix"
   ]
  },
  {
   "cell_type": "code",
   "execution_count": 10,
   "metadata": {},
   "outputs": [],
   "source": [
    "X_train, X_test, y_train, y_test = train_test_split(X, y, test_size=0.25, random_state=7506)"
   ]
  },
  {
   "cell_type": "code",
   "execution_count": 11,
   "metadata": {},
   "outputs": [
    {
     "name": "stdout",
     "output_type": "stream",
     "text": [
      "208175\n",
      "165856\n"
     ]
    }
   ],
   "source": [
    "print(np.count_nonzero(y_train == 1))\n",
    "print(np.count_nonzero(y_train == 0))"
   ]
  },
  {
   "cell_type": "code",
   "execution_count": 12,
   "metadata": {},
   "outputs": [],
   "source": [
    "clf = make_pipeline(\n",
    "                    preprocessing.QuantileTransformer(), \n",
    "                    MLPClassifier(solver='adam', alpha=1e-5, hidden_layer_sizes=(20), random_state=1, max_iter = 200,verbose=True,activation = 'tanh', warm_start = True)\n",
    "                   )"
   ]
  },
  {
   "cell_type": "code",
   "execution_count": 13,
   "metadata": {},
   "outputs": [
    {
     "name": "stdout",
     "output_type": "stream",
     "text": [
      "Iteration 1, loss = 0.52931418\n",
      "Iteration 2, loss = 0.49542920\n",
      "Iteration 3, loss = 0.48554551\n",
      "Iteration 4, loss = 0.47705485\n",
      "Iteration 5, loss = 0.46849333\n",
      "Iteration 6, loss = 0.46040734\n",
      "Iteration 7, loss = 0.45336875\n",
      "Iteration 8, loss = 0.44765204\n",
      "Iteration 9, loss = 0.44277308\n",
      "Iteration 10, loss = 0.43879498\n",
      "Iteration 11, loss = 0.43569932\n",
      "Iteration 12, loss = 0.43285634\n",
      "Iteration 13, loss = 0.43037348\n",
      "Iteration 14, loss = 0.42829249\n",
      "Iteration 15, loss = 0.42609485\n",
      "Iteration 16, loss = 0.42426304\n",
      "Iteration 17, loss = 0.42250381\n",
      "Iteration 18, loss = 0.42058667\n",
      "Iteration 19, loss = 0.41898510\n",
      "Iteration 20, loss = 0.41736213\n",
      "Iteration 21, loss = 0.41588659\n",
      "Iteration 22, loss = 0.41452433\n",
      "Iteration 23, loss = 0.41305216\n",
      "Iteration 24, loss = 0.41174563\n",
      "Iteration 25, loss = 0.41037468\n",
      "Iteration 26, loss = 0.40907412\n",
      "Iteration 27, loss = 0.40794690\n",
      "Iteration 28, loss = 0.40689733\n",
      "Iteration 29, loss = 0.40588583\n",
      "Iteration 30, loss = 0.40482440\n",
      "Iteration 31, loss = 0.40384290\n",
      "Iteration 32, loss = 0.40308861\n",
      "Iteration 33, loss = 0.40218580\n",
      "Iteration 34, loss = 0.40160629\n",
      "Iteration 35, loss = 0.40066976\n",
      "Iteration 36, loss = 0.40001416\n",
      "Iteration 37, loss = 0.39921141\n",
      "Iteration 38, loss = 0.39881393\n",
      "Iteration 39, loss = 0.39804267\n",
      "Iteration 40, loss = 0.39732512\n",
      "Iteration 41, loss = 0.39696281\n",
      "Iteration 42, loss = 0.39617026\n",
      "Iteration 43, loss = 0.39583422\n",
      "Iteration 44, loss = 0.39497532\n",
      "Iteration 45, loss = 0.39439211\n",
      "Iteration 46, loss = 0.39372208\n",
      "Iteration 47, loss = 0.39348718\n",
      "Iteration 48, loss = 0.39277439\n",
      "Iteration 49, loss = 0.39224004\n",
      "Iteration 50, loss = 0.39157787\n",
      "Iteration 51, loss = 0.39114590\n",
      "Iteration 52, loss = 0.39048299\n",
      "Iteration 53, loss = 0.39009410\n",
      "Iteration 54, loss = 0.38956708\n",
      "Iteration 55, loss = 0.38891110\n",
      "Iteration 56, loss = 0.38873526\n",
      "Iteration 57, loss = 0.38812861\n",
      "Iteration 58, loss = 0.38756744\n",
      "Iteration 59, loss = 0.38712802\n",
      "Iteration 60, loss = 0.38677427\n",
      "Iteration 61, loss = 0.38642477\n",
      "Iteration 62, loss = 0.38615538\n",
      "Iteration 63, loss = 0.38564703\n",
      "Iteration 64, loss = 0.38536670\n",
      "Iteration 65, loss = 0.38504430\n",
      "Iteration 66, loss = 0.38465175\n",
      "Iteration 67, loss = 0.38456288\n",
      "Iteration 68, loss = 0.38404324\n",
      "Iteration 69, loss = 0.38385457\n",
      "Iteration 70, loss = 0.38358589\n",
      "Iteration 71, loss = 0.38317802\n",
      "Iteration 72, loss = 0.38308364\n",
      "Iteration 73, loss = 0.38269468\n",
      "Iteration 74, loss = 0.38246556\n",
      "Iteration 75, loss = 0.38218918\n",
      "Iteration 76, loss = 0.38208665\n",
      "Iteration 77, loss = 0.38189805\n",
      "Iteration 78, loss = 0.38150578\n",
      "Iteration 79, loss = 0.38145381\n",
      "Iteration 80, loss = 0.38110397\n",
      "Iteration 81, loss = 0.38107958\n",
      "Iteration 82, loss = 0.38064767\n",
      "Iteration 83, loss = 0.38048696\n",
      "Iteration 84, loss = 0.38048202\n",
      "Iteration 85, loss = 0.38011915\n",
      "Iteration 86, loss = 0.38007208\n",
      "Iteration 87, loss = 0.37980391\n",
      "Iteration 88, loss = 0.37977225\n",
      "Iteration 89, loss = 0.37954211\n",
      "Iteration 90, loss = 0.37954742\n",
      "Iteration 91, loss = 0.37931344\n",
      "Iteration 92, loss = 0.37913637\n",
      "Iteration 93, loss = 0.37898569\n",
      "Iteration 94, loss = 0.37882528\n",
      "Iteration 95, loss = 0.37869443\n",
      "Iteration 96, loss = 0.37863449\n",
      "Iteration 97, loss = 0.37839999\n",
      "Iteration 98, loss = 0.37815685\n",
      "Iteration 99, loss = 0.37797058\n",
      "Iteration 100, loss = 0.37798172\n",
      "Iteration 101, loss = 0.37777836\n",
      "Iteration 102, loss = 0.37755969\n",
      "Iteration 103, loss = 0.37742283\n",
      "Iteration 104, loss = 0.37728439\n",
      "Iteration 105, loss = 0.37717921\n",
      "Iteration 106, loss = 0.37695179\n",
      "Iteration 107, loss = 0.37672507\n",
      "Iteration 108, loss = 0.37685709\n",
      "Iteration 109, loss = 0.37659371\n",
      "Iteration 110, loss = 0.37640620\n",
      "Iteration 111, loss = 0.37622078\n",
      "Iteration 112, loss = 0.37614002\n",
      "Iteration 113, loss = 0.37607617\n",
      "Iteration 114, loss = 0.37582345\n",
      "Iteration 115, loss = 0.37576325\n",
      "Iteration 116, loss = 0.37570810\n",
      "Iteration 117, loss = 0.37550210\n",
      "Iteration 118, loss = 0.37533241\n",
      "Iteration 119, loss = 0.37532064\n",
      "Iteration 120, loss = 0.37520547\n",
      "Iteration 121, loss = 0.37498263\n",
      "Iteration 122, loss = 0.37508273\n",
      "Iteration 123, loss = 0.37490223\n",
      "Iteration 124, loss = 0.37486973\n",
      "Training loss did not improve more than tol=0.000100 for two consecutive epochs. Stopping.\n"
     ]
    },
    {
     "data": {
      "text/plain": [
       "Pipeline(memory=None,\n",
       "     steps=[('quantiletransformer', QuantileTransformer(copy=True, ignore_implicit_zeros=False, n_quantiles=1000,\n",
       "          output_distribution='uniform', random_state=None,\n",
       "          subsample=100000)), ('mlpclassifier', MLPClassifier(activation='tanh', alpha=1e-05, batch_size='auto', beta_1=0.9,\n",
       "      ...,\n",
       "       solver='adam', tol=0.0001, validation_fraction=0.1, verbose=True,\n",
       "       warm_start=True))])"
      ]
     },
     "execution_count": 13,
     "metadata": {},
     "output_type": "execute_result"
    }
   ],
   "source": [
    "clf.fit(X_train, y_train)"
   ]
  },
  {
   "cell_type": "code",
   "execution_count": 17,
   "metadata": {},
   "outputs": [
    {
     "name": "stdout",
     "output_type": "stream",
     "text": [
      "69262\n",
      "55415\n"
     ]
    }
   ],
   "source": [
    "print(np.count_nonzero(y_test == 1))\n",
    "print(np.count_nonzero(y_test == 0))"
   ]
  },
  {
   "cell_type": "markdown",
   "metadata": {},
   "source": [
    "# Prediccion"
   ]
  },
  {
   "cell_type": "code",
   "execution_count": 18,
   "metadata": {},
   "outputs": [],
   "source": [
    "pred = clf.predict(X_test)"
   ]
  },
  {
   "cell_type": "code",
   "execution_count": 19,
   "metadata": {},
   "outputs": [
    {
     "name": "stdout",
     "output_type": "stream",
     "text": [
      "68342\n",
      "56335\n"
     ]
    }
   ],
   "source": [
    "print(np.count_nonzero(pred == 1))\n",
    "print(np.count_nonzero(pred == 0))"
   ]
  },
  {
   "cell_type": "code",
   "execution_count": 20,
   "metadata": {},
   "outputs": [
    {
     "name": "stdout",
     "output_type": "stream",
     "text": [
      "0.8325112089639629\n"
     ]
    }
   ],
   "source": [
    "print (accuracy_score(y_test, pred))"
   ]
  },
  {
   "cell_type": "code",
   "execution_count": 21,
   "metadata": {},
   "outputs": [
    {
     "data": {
      "text/plain": [
       "(124677,)"
      ]
     },
     "execution_count": 21,
     "metadata": {},
     "output_type": "execute_result"
    }
   ],
   "source": [
    "pred.shape"
   ]
  },
  {
   "cell_type": "code",
   "execution_count": 22,
   "metadata": {
    "scrolled": true
   },
   "outputs": [
    {
     "data": {
      "text/html": [
       "<div>\n",
       "<style scoped>\n",
       "    .dataframe tbody tr th:only-of-type {\n",
       "        vertical-align: middle;\n",
       "    }\n",
       "\n",
       "    .dataframe tbody tr th {\n",
       "        vertical-align: top;\n",
       "    }\n",
       "\n",
       "    .dataframe thead th {\n",
       "        text-align: right;\n",
       "    }\n",
       "</style>\n",
       "<table border=\"1\" class=\"dataframe\">\n",
       "  <thead>\n",
       "    <tr style=\"text-align: right;\">\n",
       "      <th></th>\n",
       "      <th>person</th>\n",
       "      <th>sku</th>\n",
       "      <th>condition</th>\n",
       "      <th>storage</th>\n",
       "      <th>color</th>\n",
       "      <th>compras_prod</th>\n",
       "      <th>vistas_prod</th>\n",
       "      <th>otros</th>\n",
       "      <th>new_vs_returning</th>\n",
       "      <th>region</th>\n",
       "      <th>...</th>\n",
       "      <th>visitas_sitio</th>\n",
       "      <th>marca</th>\n",
       "      <th>modelo</th>\n",
       "      <th>person_int</th>\n",
       "      <th>dia_view_prod</th>\n",
       "      <th>mes_view_prod</th>\n",
       "      <th>dia_sem_view_prod</th>\n",
       "      <th>dia_visit_user</th>\n",
       "      <th>mes_visit_user</th>\n",
       "      <th>dia_sem_visit_user</th>\n",
       "    </tr>\n",
       "  </thead>\n",
       "  <tbody>\n",
       "    <tr>\n",
       "      <th>0</th>\n",
       "      <td>4886f805</td>\n",
       "      <td>1622</td>\n",
       "      <td>3</td>\n",
       "      <td>4</td>\n",
       "      <td>28</td>\n",
       "      <td>1</td>\n",
       "      <td>0</td>\n",
       "      <td>0</td>\n",
       "      <td>1</td>\n",
       "      <td>78</td>\n",
       "      <td>...</td>\n",
       "      <td>1</td>\n",
       "      <td>6</td>\n",
       "      <td>67</td>\n",
       "      <td>5476</td>\n",
       "      <td>18</td>\n",
       "      <td>5</td>\n",
       "      <td>4</td>\n",
       "      <td>18</td>\n",
       "      <td>5</td>\n",
       "      <td>4</td>\n",
       "    </tr>\n",
       "    <tr>\n",
       "      <th>1</th>\n",
       "      <td>0297fc1e</td>\n",
       "      <td>1572</td>\n",
       "      <td>1</td>\n",
       "      <td>4</td>\n",
       "      <td>34</td>\n",
       "      <td>1</td>\n",
       "      <td>0</td>\n",
       "      <td>0</td>\n",
       "      <td>2</td>\n",
       "      <td>78</td>\n",
       "      <td>...</td>\n",
       "      <td>1</td>\n",
       "      <td>8</td>\n",
       "      <td>13</td>\n",
       "      <td>189</td>\n",
       "      <td>22</td>\n",
       "      <td>5</td>\n",
       "      <td>1</td>\n",
       "      <td>2</td>\n",
       "      <td>5</td>\n",
       "      <td>2</td>\n",
       "    </tr>\n",
       "    <tr>\n",
       "      <th>2</th>\n",
       "      <td>0297fc1e</td>\n",
       "      <td>1572</td>\n",
       "      <td>1</td>\n",
       "      <td>4</td>\n",
       "      <td>34</td>\n",
       "      <td>1</td>\n",
       "      <td>0</td>\n",
       "      <td>0</td>\n",
       "      <td>2</td>\n",
       "      <td>78</td>\n",
       "      <td>...</td>\n",
       "      <td>1</td>\n",
       "      <td>8</td>\n",
       "      <td>13</td>\n",
       "      <td>189</td>\n",
       "      <td>22</td>\n",
       "      <td>5</td>\n",
       "      <td>1</td>\n",
       "      <td>2</td>\n",
       "      <td>5</td>\n",
       "      <td>2</td>\n",
       "    </tr>\n",
       "    <tr>\n",
       "      <th>3</th>\n",
       "      <td>0297fc1e</td>\n",
       "      <td>1572</td>\n",
       "      <td>1</td>\n",
       "      <td>4</td>\n",
       "      <td>34</td>\n",
       "      <td>1</td>\n",
       "      <td>0</td>\n",
       "      <td>0</td>\n",
       "      <td>2</td>\n",
       "      <td>78</td>\n",
       "      <td>...</td>\n",
       "      <td>1</td>\n",
       "      <td>8</td>\n",
       "      <td>13</td>\n",
       "      <td>189</td>\n",
       "      <td>22</td>\n",
       "      <td>5</td>\n",
       "      <td>1</td>\n",
       "      <td>3</td>\n",
       "      <td>5</td>\n",
       "      <td>3</td>\n",
       "    </tr>\n",
       "    <tr>\n",
       "      <th>4</th>\n",
       "      <td>0297fc1e</td>\n",
       "      <td>1572</td>\n",
       "      <td>1</td>\n",
       "      <td>4</td>\n",
       "      <td>34</td>\n",
       "      <td>1</td>\n",
       "      <td>0</td>\n",
       "      <td>0</td>\n",
       "      <td>2</td>\n",
       "      <td>78</td>\n",
       "      <td>...</td>\n",
       "      <td>1</td>\n",
       "      <td>8</td>\n",
       "      <td>13</td>\n",
       "      <td>189</td>\n",
       "      <td>22</td>\n",
       "      <td>5</td>\n",
       "      <td>1</td>\n",
       "      <td>10</td>\n",
       "      <td>5</td>\n",
       "      <td>3</td>\n",
       "    </tr>\n",
       "  </tbody>\n",
       "</table>\n",
       "<p>5 rows × 25 columns</p>\n",
       "</div>"
      ],
      "text/plain": [
       "     person   sku  condition  storage  color  compras_prod  vistas_prod  \\\n",
       "0  4886f805  1622          3        4     28             1            0   \n",
       "1  0297fc1e  1572          1        4     34             1            0   \n",
       "2  0297fc1e  1572          1        4     34             1            0   \n",
       "3  0297fc1e  1572          1        4     34             1            0   \n",
       "4  0297fc1e  1572          1        4     34             1            0   \n",
       "\n",
       "   otros  new_vs_returning  region         ...          visitas_sitio  marca  \\\n",
       "0      0                 1      78         ...                      1      6   \n",
       "1      0                 2      78         ...                      1      8   \n",
       "2      0                 2      78         ...                      1      8   \n",
       "3      0                 2      78         ...                      1      8   \n",
       "4      0                 2      78         ...                      1      8   \n",
       "\n",
       "   modelo  person_int  dia_view_prod  mes_view_prod  dia_sem_view_prod  \\\n",
       "0      67        5476             18              5                  4   \n",
       "1      13         189             22              5                  1   \n",
       "2      13         189             22              5                  1   \n",
       "3      13         189             22              5                  1   \n",
       "4      13         189             22              5                  1   \n",
       "\n",
       "   dia_visit_user  mes_visit_user  dia_sem_visit_user  \n",
       "0              18               5                   4  \n",
       "1               2               5                   2  \n",
       "2               2               5                   2  \n",
       "3               3               5                   3  \n",
       "4              10               5                   3  \n",
       "\n",
       "[5 rows x 25 columns]"
      ]
     },
     "execution_count": 22,
     "metadata": {},
     "output_type": "execute_result"
    }
   ],
   "source": [
    "prediction_set = pd.read_csv('data/set_prediccion_17.csv')\n",
    "prediction_set.head()"
   ]
  },
  {
   "cell_type": "code",
   "execution_count": 23,
   "metadata": {},
   "outputs": [],
   "source": [
    "# dfix_prediction = prediction_set.loc[:,['model', 'condition', 'storage', 'color', 'new_vs_returning', 'region', 'country', 'device_type', 'screen_resolution', 'operating_system_version', 'browser_version', 'dia_view_prod', 'mes_view_prod', 'hora_view_prod', 'minuto_view_prod', 'dia_visit_user', 'mes_visit_user', 'hora_visit_user', 'minuto_visit_user']]\n",
    "# dfix_prediction = prediction_set.loc[:,['model', 'condition', 'storage', 'color', 'new_vs_returning', 'region', 'country', 'device_type', 'operating_system_version', 'dia_visit_user', 'mes_visit_user', 'hora_visit_user', 'minuto_visit_user']]\n",
    "# dfix_prediction = prediction_set.loc[:,['model', 'condition', 'storage', 'color', 'compras_prod', 'vistas_prod', 'otros', 'new_vs_returning', 'region', 'country', 'device_type', 'screen_resolution', 'operating_system_version', 'browser_version', 'visitas_sitio', 'dia_view_prod', 'mes_view_prod', 'dia_sem_view_prod', 'dia_visit_user', 'mes_visit_user', 'dia_sem_visit_user']]\n",
    "dfix_prediction = prediction_set.loc[:,['browser_version', 'color', 'compras_prod', 'condition', 'country', 'device_type', 'new_vs_returning', 'operating_system_version', 'otros', 'region', 'screen_resolution', 'storage', 'visitas_sitio', 'vistas_prod', 'marca', 'modelo', 'dia_view_prod', 'mes_view_prod', 'dia_sem_view_prod', 'dia_visit_user', 'mes_visit_user', 'dia_sem_visit_user']]\n",
    "X_full_data = np.array(dfix_prediction)"
   ]
  },
  {
   "cell_type": "code",
   "execution_count": 24,
   "metadata": {},
   "outputs": [],
   "source": [
    "del dfix_prediction\n",
    "del X\n",
    "del y\n",
    "del X_train \n",
    "del X_test \n",
    "del y_train \n",
    "del y_test"
   ]
  },
  {
   "cell_type": "code",
   "execution_count": 25,
   "metadata": {},
   "outputs": [
    {
     "data": {
      "text/html": [
       "<div>\n",
       "<style scoped>\n",
       "    .dataframe tbody tr th:only-of-type {\n",
       "        vertical-align: middle;\n",
       "    }\n",
       "\n",
       "    .dataframe tbody tr th {\n",
       "        vertical-align: top;\n",
       "    }\n",
       "\n",
       "    .dataframe thead th {\n",
       "        text-align: right;\n",
       "    }\n",
       "</style>\n",
       "<table border=\"1\" class=\"dataframe\">\n",
       "  <thead>\n",
       "    <tr style=\"text-align: right;\">\n",
       "      <th></th>\n",
       "      <th>person</th>\n",
       "      <th>sku</th>\n",
       "      <th>condition</th>\n",
       "      <th>storage</th>\n",
       "      <th>color</th>\n",
       "      <th>compras_prod</th>\n",
       "      <th>vistas_prod</th>\n",
       "      <th>otros</th>\n",
       "      <th>new_vs_returning</th>\n",
       "      <th>region</th>\n",
       "      <th>...</th>\n",
       "      <th>marca</th>\n",
       "      <th>modelo</th>\n",
       "      <th>person_int</th>\n",
       "      <th>dia_view_prod</th>\n",
       "      <th>mes_view_prod</th>\n",
       "      <th>dia_sem_view_prod</th>\n",
       "      <th>dia_visit_user</th>\n",
       "      <th>mes_visit_user</th>\n",
       "      <th>dia_sem_visit_user</th>\n",
       "      <th>label</th>\n",
       "    </tr>\n",
       "  </thead>\n",
       "  <tbody>\n",
       "    <tr>\n",
       "      <th>0</th>\n",
       "      <td>4886f805</td>\n",
       "      <td>1622</td>\n",
       "      <td>3</td>\n",
       "      <td>4</td>\n",
       "      <td>28</td>\n",
       "      <td>1</td>\n",
       "      <td>0</td>\n",
       "      <td>0</td>\n",
       "      <td>1</td>\n",
       "      <td>78</td>\n",
       "      <td>...</td>\n",
       "      <td>6</td>\n",
       "      <td>67</td>\n",
       "      <td>5476</td>\n",
       "      <td>18</td>\n",
       "      <td>5</td>\n",
       "      <td>4</td>\n",
       "      <td>18</td>\n",
       "      <td>5</td>\n",
       "      <td>4</td>\n",
       "      <td>0</td>\n",
       "    </tr>\n",
       "    <tr>\n",
       "      <th>1</th>\n",
       "      <td>0297fc1e</td>\n",
       "      <td>1572</td>\n",
       "      <td>1</td>\n",
       "      <td>4</td>\n",
       "      <td>34</td>\n",
       "      <td>1</td>\n",
       "      <td>0</td>\n",
       "      <td>0</td>\n",
       "      <td>2</td>\n",
       "      <td>78</td>\n",
       "      <td>...</td>\n",
       "      <td>8</td>\n",
       "      <td>13</td>\n",
       "      <td>189</td>\n",
       "      <td>22</td>\n",
       "      <td>5</td>\n",
       "      <td>1</td>\n",
       "      <td>2</td>\n",
       "      <td>5</td>\n",
       "      <td>2</td>\n",
       "      <td>0</td>\n",
       "    </tr>\n",
       "    <tr>\n",
       "      <th>2</th>\n",
       "      <td>0297fc1e</td>\n",
       "      <td>1572</td>\n",
       "      <td>1</td>\n",
       "      <td>4</td>\n",
       "      <td>34</td>\n",
       "      <td>1</td>\n",
       "      <td>0</td>\n",
       "      <td>0</td>\n",
       "      <td>2</td>\n",
       "      <td>78</td>\n",
       "      <td>...</td>\n",
       "      <td>8</td>\n",
       "      <td>13</td>\n",
       "      <td>189</td>\n",
       "      <td>22</td>\n",
       "      <td>5</td>\n",
       "      <td>1</td>\n",
       "      <td>2</td>\n",
       "      <td>5</td>\n",
       "      <td>2</td>\n",
       "      <td>0</td>\n",
       "    </tr>\n",
       "    <tr>\n",
       "      <th>3</th>\n",
       "      <td>0297fc1e</td>\n",
       "      <td>1572</td>\n",
       "      <td>1</td>\n",
       "      <td>4</td>\n",
       "      <td>34</td>\n",
       "      <td>1</td>\n",
       "      <td>0</td>\n",
       "      <td>0</td>\n",
       "      <td>2</td>\n",
       "      <td>78</td>\n",
       "      <td>...</td>\n",
       "      <td>8</td>\n",
       "      <td>13</td>\n",
       "      <td>189</td>\n",
       "      <td>22</td>\n",
       "      <td>5</td>\n",
       "      <td>1</td>\n",
       "      <td>3</td>\n",
       "      <td>5</td>\n",
       "      <td>3</td>\n",
       "      <td>0</td>\n",
       "    </tr>\n",
       "    <tr>\n",
       "      <th>4</th>\n",
       "      <td>0297fc1e</td>\n",
       "      <td>1572</td>\n",
       "      <td>1</td>\n",
       "      <td>4</td>\n",
       "      <td>34</td>\n",
       "      <td>1</td>\n",
       "      <td>0</td>\n",
       "      <td>0</td>\n",
       "      <td>2</td>\n",
       "      <td>78</td>\n",
       "      <td>...</td>\n",
       "      <td>8</td>\n",
       "      <td>13</td>\n",
       "      <td>189</td>\n",
       "      <td>22</td>\n",
       "      <td>5</td>\n",
       "      <td>1</td>\n",
       "      <td>10</td>\n",
       "      <td>5</td>\n",
       "      <td>3</td>\n",
       "      <td>0</td>\n",
       "    </tr>\n",
       "  </tbody>\n",
       "</table>\n",
       "<p>5 rows × 26 columns</p>\n",
       "</div>"
      ],
      "text/plain": [
       "     person   sku  condition  storage  color  compras_prod  vistas_prod  \\\n",
       "0  4886f805  1622          3        4     28             1            0   \n",
       "1  0297fc1e  1572          1        4     34             1            0   \n",
       "2  0297fc1e  1572          1        4     34             1            0   \n",
       "3  0297fc1e  1572          1        4     34             1            0   \n",
       "4  0297fc1e  1572          1        4     34             1            0   \n",
       "\n",
       "   otros  new_vs_returning  region  ...    marca  modelo  person_int  \\\n",
       "0      0                 1      78  ...        6      67        5476   \n",
       "1      0                 2      78  ...        8      13         189   \n",
       "2      0                 2      78  ...        8      13         189   \n",
       "3      0                 2      78  ...        8      13         189   \n",
       "4      0                 2      78  ...        8      13         189   \n",
       "\n",
       "   dia_view_prod  mes_view_prod  dia_sem_view_prod  dia_visit_user  \\\n",
       "0             18              5                  4              18   \n",
       "1             22              5                  1               2   \n",
       "2             22              5                  1               2   \n",
       "3             22              5                  1               3   \n",
       "4             22              5                  1              10   \n",
       "\n",
       "   mes_visit_user  dia_sem_visit_user  label  \n",
       "0               5                   4      0  \n",
       "1               5                   2      0  \n",
       "2               5                   2      0  \n",
       "3               5                   3      0  \n",
       "4               5                   3      0  \n",
       "\n",
       "[5 rows x 26 columns]"
      ]
     },
     "execution_count": 25,
     "metadata": {},
     "output_type": "execute_result"
    }
   ],
   "source": [
    "pred_full_data = clf.predict(X_full_data)\n",
    "prediction_set['label'] = pred_full_data\n",
    "prediction_set.head()"
   ]
  },
  {
   "cell_type": "code",
   "execution_count": 26,
   "metadata": {},
   "outputs": [],
   "source": [
    "del X_full_data\n",
    "del pred_full_data"
   ]
  },
  {
   "cell_type": "markdown",
   "metadata": {},
   "source": [
    "# Resultado"
   ]
  },
  {
   "cell_type": "code",
   "execution_count": 27,
   "metadata": {},
   "outputs": [
    {
     "data": {
      "text/html": [
       "<div>\n",
       "<style scoped>\n",
       "    .dataframe tbody tr th:only-of-type {\n",
       "        vertical-align: middle;\n",
       "    }\n",
       "\n",
       "    .dataframe tbody tr th {\n",
       "        vertical-align: top;\n",
       "    }\n",
       "\n",
       "    .dataframe thead th {\n",
       "        text-align: right;\n",
       "    }\n",
       "</style>\n",
       "<table border=\"1\" class=\"dataframe\">\n",
       "  <thead>\n",
       "    <tr style=\"text-align: right;\">\n",
       "      <th></th>\n",
       "      <th>person</th>\n",
       "    </tr>\n",
       "  </thead>\n",
       "  <tbody>\n",
       "    <tr>\n",
       "      <th>0</th>\n",
       "      <td>4886f805</td>\n",
       "    </tr>\n",
       "    <tr>\n",
       "      <th>1</th>\n",
       "      <td>0297fc1e</td>\n",
       "    </tr>\n",
       "    <tr>\n",
       "      <th>2</th>\n",
       "      <td>2d681dd8</td>\n",
       "    </tr>\n",
       "    <tr>\n",
       "      <th>3</th>\n",
       "      <td>cccea85e</td>\n",
       "    </tr>\n",
       "    <tr>\n",
       "      <th>4</th>\n",
       "      <td>4c8a8b93</td>\n",
       "    </tr>\n",
       "  </tbody>\n",
       "</table>\n",
       "</div>"
      ],
      "text/plain": [
       "     person\n",
       "0  4886f805\n",
       "1  0297fc1e\n",
       "2  2d681dd8\n",
       "3  cccea85e\n",
       "4  4c8a8b93"
      ]
     },
     "execution_count": 27,
     "metadata": {},
     "output_type": "execute_result"
    }
   ],
   "source": [
    "result = pd.read_csv('data/trocafone_kaggle_test.csv')\n",
    "result.head()"
   ]
  },
  {
   "cell_type": "code",
   "execution_count": 28,
   "metadata": {},
   "outputs": [
    {
     "data": {
      "text/plain": [
       "person    19415\n",
       "dtype: int64"
      ]
     },
     "execution_count": 28,
     "metadata": {},
     "output_type": "execute_result"
    }
   ],
   "source": [
    "result.count()"
   ]
  },
  {
   "cell_type": "code",
   "execution_count": 29,
   "metadata": {},
   "outputs": [],
   "source": [
    "result = result.merge(prediction_set, how='inner', on='person')\n",
    "result = result[['person', 'label']]\n",
    "# result.fillna(0, inplace=True)\n",
    "result['label'] = result['label'].astype('int')"
   ]
  },
  {
   "cell_type": "code",
   "execution_count": 30,
   "metadata": {},
   "outputs": [
    {
     "data": {
      "text/plain": [
       "person    1297430\n",
       "label     1297430\n",
       "dtype: int64"
      ]
     },
     "execution_count": 30,
     "metadata": {},
     "output_type": "execute_result"
    }
   ],
   "source": [
    "result.count()"
   ]
  },
  {
   "cell_type": "code",
   "execution_count": 31,
   "metadata": {},
   "outputs": [
    {
     "data": {
      "text/plain": [
       "person    23845\n",
       "label     23845\n",
       "dtype: int64"
      ]
     },
     "execution_count": 31,
     "metadata": {},
     "output_type": "execute_result"
    }
   ],
   "source": [
    "result = result.drop_duplicates()\n",
    "result.count()"
   ]
  },
  {
   "cell_type": "markdown",
   "metadata": {},
   "source": [
    "## Criterio de Duplicados"
   ]
  },
  {
   "cell_type": "markdown",
   "metadata": {},
   "source": [
    "### OPCION 1"
   ]
  },
  {
   "cell_type": "code",
   "execution_count": 32,
   "metadata": {},
   "outputs": [
    {
     "data": {
      "text/plain": [
       "person    19415\n",
       "label     19415\n",
       "dtype: int64"
      ]
     },
     "execution_count": 32,
     "metadata": {},
     "output_type": "execute_result"
    }
   ],
   "source": [
    "# OPCION 1: eliminamos duplicados haciendo un groupby por person \n",
    "# quedandonos con label 1 si la suma es mayor a 0\n",
    "result1 = result.groupby('person').sum()\n",
    "result1.reset_index(inplace=True)\n",
    "result1[['label']] = result1[['label']].applymap(lambda x: 1 if x > 0 else 0)\n",
    "result1.count()"
   ]
  },
  {
   "cell_type": "code",
   "execution_count": 33,
   "metadata": {},
   "outputs": [
    {
     "data": {
      "text/plain": [
       "(4482, 2)"
      ]
     },
     "execution_count": 33,
     "metadata": {},
     "output_type": "execute_result"
    }
   ],
   "source": [
    "result1[result1['label'] == 1].shape"
   ]
  },
  {
   "cell_type": "code",
   "execution_count": 34,
   "metadata": {},
   "outputs": [
    {
     "data": {
      "text/plain": [
       "(14933, 2)"
      ]
     },
     "execution_count": 34,
     "metadata": {},
     "output_type": "execute_result"
    }
   ],
   "source": [
    "result1[result1['label'] == 0].shape"
   ]
  },
  {
   "cell_type": "code",
   "execution_count": 35,
   "metadata": {},
   "outputs": [
    {
     "data": {
      "text/html": [
       "<div>\n",
       "<style scoped>\n",
       "    .dataframe tbody tr th:only-of-type {\n",
       "        vertical-align: middle;\n",
       "    }\n",
       "\n",
       "    .dataframe tbody tr th {\n",
       "        vertical-align: top;\n",
       "    }\n",
       "\n",
       "    .dataframe thead th {\n",
       "        text-align: right;\n",
       "    }\n",
       "</style>\n",
       "<table border=\"1\" class=\"dataframe\">\n",
       "  <thead>\n",
       "    <tr style=\"text-align: right;\">\n",
       "      <th></th>\n",
       "      <th>person</th>\n",
       "      <th>label</th>\n",
       "    </tr>\n",
       "  </thead>\n",
       "  <tbody>\n",
       "    <tr>\n",
       "      <th>0</th>\n",
       "      <td>00091926</td>\n",
       "      <td>0</td>\n",
       "    </tr>\n",
       "    <tr>\n",
       "      <th>1</th>\n",
       "      <td>00091a7a</td>\n",
       "      <td>1</td>\n",
       "    </tr>\n",
       "    <tr>\n",
       "      <th>2</th>\n",
       "      <td>000ba417</td>\n",
       "      <td>1</td>\n",
       "    </tr>\n",
       "    <tr>\n",
       "      <th>3</th>\n",
       "      <td>000e4d9e</td>\n",
       "      <td>0</td>\n",
       "    </tr>\n",
       "    <tr>\n",
       "      <th>4</th>\n",
       "      <td>000e619d</td>\n",
       "      <td>1</td>\n",
       "    </tr>\n",
       "  </tbody>\n",
       "</table>\n",
       "</div>"
      ],
      "text/plain": [
       "     person  label\n",
       "0  00091926      0\n",
       "1  00091a7a      1\n",
       "2  000ba417      1\n",
       "3  000e4d9e      0\n",
       "4  000e619d      1"
      ]
     },
     "execution_count": 35,
     "metadata": {},
     "output_type": "execute_result"
    }
   ],
   "source": [
    "result1.head()"
   ]
  },
  {
   "cell_type": "code",
   "execution_count": 36,
   "metadata": {},
   "outputs": [
    {
     "data": {
      "text/html": [
       "<div>\n",
       "<style scoped>\n",
       "    .dataframe tbody tr th:only-of-type {\n",
       "        vertical-align: middle;\n",
       "    }\n",
       "\n",
       "    .dataframe tbody tr th {\n",
       "        vertical-align: top;\n",
       "    }\n",
       "\n",
       "    .dataframe thead th {\n",
       "        text-align: right;\n",
       "    }\n",
       "</style>\n",
       "<table border=\"1\" class=\"dataframe\">\n",
       "  <thead>\n",
       "    <tr style=\"text-align: right;\">\n",
       "      <th></th>\n",
       "      <th>person</th>\n",
       "      <th>label</th>\n",
       "    </tr>\n",
       "  </thead>\n",
       "  <tbody>\n",
       "    <tr>\n",
       "      <th>19410</th>\n",
       "      <td>fff1b11a</td>\n",
       "      <td>0</td>\n",
       "    </tr>\n",
       "    <tr>\n",
       "      <th>19411</th>\n",
       "      <td>fff1caee</td>\n",
       "      <td>0</td>\n",
       "    </tr>\n",
       "    <tr>\n",
       "      <th>19412</th>\n",
       "      <td>fff54d61</td>\n",
       "      <td>0</td>\n",
       "    </tr>\n",
       "    <tr>\n",
       "      <th>19413</th>\n",
       "      <td>fff72025</td>\n",
       "      <td>1</td>\n",
       "    </tr>\n",
       "    <tr>\n",
       "      <th>19414</th>\n",
       "      <td>fffd1246</td>\n",
       "      <td>0</td>\n",
       "    </tr>\n",
       "  </tbody>\n",
       "</table>\n",
       "</div>"
      ],
      "text/plain": [
       "         person  label\n",
       "19410  fff1b11a      0\n",
       "19411  fff1caee      0\n",
       "19412  fff54d61      0\n",
       "19413  fff72025      1\n",
       "19414  fffd1246      0"
      ]
     },
     "execution_count": 36,
     "metadata": {},
     "output_type": "execute_result"
    }
   ],
   "source": [
    "result1.tail()"
   ]
  },
  {
   "cell_type": "code",
   "execution_count": 54,
   "metadata": {},
   "outputs": [],
   "source": [
    "result1.to_csv('data/result_random_forest_set17.csv', encoding='utf-8', index=False)"
   ]
  },
  {
   "cell_type": "markdown",
   "metadata": {},
   "source": [
    "### OPCION 2"
   ]
  },
  {
   "cell_type": "code",
   "execution_count": 37,
   "metadata": {},
   "outputs": [
    {
     "data": {
      "text/plain": [
       "person    19415\n",
       "label     19415\n",
       "dtype: int64"
      ]
     },
     "execution_count": 37,
     "metadata": {},
     "output_type": "execute_result"
    }
   ],
   "source": [
    "# OPCION 2: eliminamos duplicados haciendo un groupby por person\n",
    "# quedandonos con el valor del label que tanga mayor cantidad de 0s o 1s\n",
    "result2 = result\n",
    "result2['cantidad'] = 1 \n",
    "result2 = pd.DataFrame({'label': result.groupby('person').aggregate(sum)['label'], 'cantidad': result.groupby('person').aggregate(sum)['cantidad']}).reset_index()\n",
    "result2['criterio'] = (result2.label - (result2.cantidad/3))\n",
    "result2['label'] = result2['criterio'].apply(lambda x: 1 if (x >= 0) else 0)\n",
    "result2.drop(['criterio','cantidad'], axis=1, inplace=True)\n",
    "result2.count()"
   ]
  },
  {
   "cell_type": "code",
   "execution_count": 38,
   "metadata": {},
   "outputs": [
    {
     "data": {
      "text/plain": [
       "(4482, 2)"
      ]
     },
     "execution_count": 38,
     "metadata": {},
     "output_type": "execute_result"
    }
   ],
   "source": [
    "result2[result2['label'] == 1].shape"
   ]
  },
  {
   "cell_type": "code",
   "execution_count": 39,
   "metadata": {},
   "outputs": [
    {
     "data": {
      "text/plain": [
       "(14933, 2)"
      ]
     },
     "execution_count": 39,
     "metadata": {},
     "output_type": "execute_result"
    }
   ],
   "source": [
    "result2[result2['label'] == 0].shape"
   ]
  },
  {
   "cell_type": "code",
   "execution_count": 40,
   "metadata": {},
   "outputs": [
    {
     "data": {
      "text/html": [
       "<div>\n",
       "<style scoped>\n",
       "    .dataframe tbody tr th:only-of-type {\n",
       "        vertical-align: middle;\n",
       "    }\n",
       "\n",
       "    .dataframe tbody tr th {\n",
       "        vertical-align: top;\n",
       "    }\n",
       "\n",
       "    .dataframe thead th {\n",
       "        text-align: right;\n",
       "    }\n",
       "</style>\n",
       "<table border=\"1\" class=\"dataframe\">\n",
       "  <thead>\n",
       "    <tr style=\"text-align: right;\">\n",
       "      <th></th>\n",
       "      <th>person</th>\n",
       "      <th>label</th>\n",
       "    </tr>\n",
       "  </thead>\n",
       "  <tbody>\n",
       "    <tr>\n",
       "      <th>0</th>\n",
       "      <td>00091926</td>\n",
       "      <td>0</td>\n",
       "    </tr>\n",
       "    <tr>\n",
       "      <th>1</th>\n",
       "      <td>00091a7a</td>\n",
       "      <td>1</td>\n",
       "    </tr>\n",
       "    <tr>\n",
       "      <th>2</th>\n",
       "      <td>000ba417</td>\n",
       "      <td>1</td>\n",
       "    </tr>\n",
       "    <tr>\n",
       "      <th>3</th>\n",
       "      <td>000e4d9e</td>\n",
       "      <td>0</td>\n",
       "    </tr>\n",
       "    <tr>\n",
       "      <th>4</th>\n",
       "      <td>000e619d</td>\n",
       "      <td>1</td>\n",
       "    </tr>\n",
       "  </tbody>\n",
       "</table>\n",
       "</div>"
      ],
      "text/plain": [
       "     person  label\n",
       "0  00091926      0\n",
       "1  00091a7a      1\n",
       "2  000ba417      1\n",
       "3  000e4d9e      0\n",
       "4  000e619d      1"
      ]
     },
     "execution_count": 40,
     "metadata": {},
     "output_type": "execute_result"
    }
   ],
   "source": [
    "result2.head()"
   ]
  },
  {
   "cell_type": "code",
   "execution_count": 41,
   "metadata": {},
   "outputs": [
    {
     "data": {
      "text/html": [
       "<div>\n",
       "<style scoped>\n",
       "    .dataframe tbody tr th:only-of-type {\n",
       "        vertical-align: middle;\n",
       "    }\n",
       "\n",
       "    .dataframe tbody tr th {\n",
       "        vertical-align: top;\n",
       "    }\n",
       "\n",
       "    .dataframe thead th {\n",
       "        text-align: right;\n",
       "    }\n",
       "</style>\n",
       "<table border=\"1\" class=\"dataframe\">\n",
       "  <thead>\n",
       "    <tr style=\"text-align: right;\">\n",
       "      <th></th>\n",
       "      <th>person</th>\n",
       "      <th>label</th>\n",
       "    </tr>\n",
       "  </thead>\n",
       "  <tbody>\n",
       "    <tr>\n",
       "      <th>19410</th>\n",
       "      <td>fff1b11a</td>\n",
       "      <td>0</td>\n",
       "    </tr>\n",
       "    <tr>\n",
       "      <th>19411</th>\n",
       "      <td>fff1caee</td>\n",
       "      <td>0</td>\n",
       "    </tr>\n",
       "    <tr>\n",
       "      <th>19412</th>\n",
       "      <td>fff54d61</td>\n",
       "      <td>0</td>\n",
       "    </tr>\n",
       "    <tr>\n",
       "      <th>19413</th>\n",
       "      <td>fff72025</td>\n",
       "      <td>1</td>\n",
       "    </tr>\n",
       "    <tr>\n",
       "      <th>19414</th>\n",
       "      <td>fffd1246</td>\n",
       "      <td>0</td>\n",
       "    </tr>\n",
       "  </tbody>\n",
       "</table>\n",
       "</div>"
      ],
      "text/plain": [
       "         person  label\n",
       "19410  fff1b11a      0\n",
       "19411  fff1caee      0\n",
       "19412  fff54d61      0\n",
       "19413  fff72025      1\n",
       "19414  fffd1246      0"
      ]
     },
     "execution_count": 41,
     "metadata": {},
     "output_type": "execute_result"
    }
   ],
   "source": [
    "result2.tail()"
   ]
  },
  {
   "cell_type": "code",
   "execution_count": 42,
   "metadata": {},
   "outputs": [],
   "source": [
    "result2.to_csv('data/result_MLP_set17.csv', encoding='utf-8', index=False)"
   ]
  },
  {
   "cell_type": "code",
   "execution_count": null,
   "metadata": {},
   "outputs": [],
   "source": []
  }
 ],
 "metadata": {
  "kernelspec": {
   "display_name": "Python 3",
   "language": "python",
   "name": "python3"
  },
  "language_info": {
   "codemirror_mode": {
    "name": "ipython",
    "version": 3
   },
   "file_extension": ".py",
   "mimetype": "text/x-python",
   "name": "python",
   "nbconvert_exporter": "python",
   "pygments_lexer": "ipython3",
   "version": "3.6.5"
  }
 },
 "nbformat": 4,
 "nbformat_minor": 2
}
